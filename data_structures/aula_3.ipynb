{
 "cells": [
  {
   "attachments": {},
   "cell_type": "markdown",
   "metadata": {},
   "source": [
    "# Grafos (parte 1)"
   ]
  },
  {
   "attachments": {},
   "cell_type": "markdown",
   "metadata": {},
   "source": [
    "Um grafo é um par de conjuntos, `G = (V, E)`, sendo um deles o conjunto de **vértices** `V` e o outro um conjunto de **arestas** `E`, onde cada aresta é um par de vértices.\n",
    "\n",
    "Os vértices, muitas vezes também chamados de **nós**, são os itens de interesse do que se quer modelar, e as arestas são as conexoes ou relações entre estes itens.\n",
    "\n",
    "Por exemplo, em uma aplicação logística, poderíamos modelar cada **local de entrega** como um vértice do grafo e as arestas indicariam se existe um **caminho conectando estes dois pontos diretamente**.\n",
    "\n",
    "<img src=\"https://algoritmosempython.com.br/images/algoritmos-python/algoritmos-grafos/ModelagemGrafosExemplo.png\" width=400>\n",
    "\n",
    "As arestas podem ser direcionadas (mão única) ou não direcionadas (mão dupla).\n",
    "\n",
    "<img src=\"https://www.ime.usp.br/~pf/algoritmos_para_grafos/aulas/figs/Sedgewick-Wayne/TinyNetworkOnly.png\" width=400>\n",
    "\n",
    "Além disso, as arestas podem ter um rótulo associado à elas, indicando por exemplo o custo de percorrer um caminho, ou a distância entre dois pontos de interesse. Chamamos este rótulo de \"peso\" ou \"custo\".\n",
    "\n",
    "<img src=\"https://upload.wikimedia.org/wikipedia/commons/thumb/a/a8/Prim_Algorithm_0.svg/250px-Prim_Algorithm_0.svg.png\" width=400 style=\"background-color:white;\">\n",
    "\n",
    "Quando existe uma aresta conectando um vértice `u` à um vértice `v` (`u-v`), dizemos que `v` é vizinho de `u`.\n",
    "\n",
    "Em grafos direcionados, é comum usarmos a nomenclatura de árvores e dizer que `u` é pai de `v` caso exista uma aresta direcionada `u -> v`"
   ]
  },
  {
   "attachments": {},
   "cell_type": "markdown",
   "metadata": {},
   "source": [
    "_________"
   ]
  },
  {
   "attachments": {},
   "cell_type": "markdown",
   "metadata": {},
   "source": [
    "### Como representar um grafo no computador?\n",
    "\n",
    "Existem diferentes maneiras de se representar um grafo no computador, e cada uma pode ser mais ou menos indicada dependendo do problema que se quer resolver ou da forma como se deciciu modelá-lo.\n",
    "Vamos falar das duas maneiras mais comuns de representação."
   ]
  },
  {
   "attachments": {},
   "cell_type": "markdown",
   "metadata": {},
   "source": [
    "#### Matriz de adjacência\n",
    "\n",
    "Uma das maneiras mais simples de representar um grafo é utilizando uma **matriz de adjacência**.\n",
    "\n",
    "Vemos um exemplo de visualização dessa estrutura na figura abaixo.\n",
    "\n",
    "Para criar um grafo como uma matriz de adjacências, definimos uma matriz `M` de dimensões `n x n`, sendo `n` a quantidade de vértices.\n",
    "\n",
    "Inicializamos a matriz com zeros, e \"marcamos\" `M[u][v]` com um valor diferente de zero caso exista uma aresta conectando o vértice `u` ao vértice `v`.\n",
    "\n",
    "<img src=\"https://s3-sa-east-1.amazonaws.com/lcpi/1f5e0fd3-572c-479a-8a53-74d8212c5e5c.jpg\" width=500>\n",
    "\n",
    "No exemplo da figura acima vemos um grafo **não direcionado** e por isso temos a matriz **diagonalmente simétrica** (`M[u][v] == M[v][u]`). \n",
    "\n",
    "> Ou seja, a aresta `u-v` é \"de mão dupla\".\n",
    "\n",
    "Mas com essa estrutura também é possivel modelar grafos direcionados, basta não impor a simetria.\n",
    "\n",
    "Dica: a ponta da flecha é a linha (a ideia é que a flecha sai da linha e vai pra coluna)\n",
    "\n",
    "<img src=\"https://algoritmosempython.com.br/images/algoritmos-python/algoritmos-grafos/GrafoMatrizAdjacencia.png\" width=400>\n",
    "\n",
    "Essa estrutura também permite representar arestas com peso, basta utilizar o valor do peso para marcar a aresta no lugar da constante 1 que utilizamos.\n",
    "\n",
    "<img src=\"https://www.researchgate.net/profile/Paula-Gabrielly-Rodrigues/publication/326722760/figure/fig5/AS:654507780345864@1533058223380/Figura-4-7-Grafo-nao-ponderado-A-e-ponderado-B-com-suas-respectivas-matrizes-de.png\" width=500>"
   ]
  },
  {
   "attachments": {},
   "cell_type": "markdown",
   "metadata": {},
   "source": [
    "#### Lista de adjacências\n",
    "\n",
    "Embora a matriz de adjacências seja uma maneira simples e flexível para representação dos grafos, podemos ver que, principalmente para **grafos esparsos (grafos com poucas arestas)**, ela tende a gerar um desperdício de espaço (armazenando um monte de zeros para as conexões que não existem no grafo).\n",
    "\n",
    "Uma alternativa que mitiga esse desperdício de espaço é a **lista de adjacêcias**.\n",
    "\n",
    "Nessa representação, cada vértice está associado a uma lista com seus vizinhos.\n",
    "\n",
    "Assim, não gastamos espaço representando a ausência de arestas.\n",
    "\n",
    "<img src=\"https://s3-sa-east-1.amazonaws.com/lcpi/9775dad0-c900-42e9-87fa-41d78b73444c.jpg\" width=500>\n",
    "\n",
    "Mas e se o grafo tiver uma grande quantidade de arestas? Ainda estariamos economizando espaço?"
   ]
  },
  {
   "attachments": {},
   "cell_type": "markdown",
   "metadata": {},
   "source": [
    "#### Comparação das estruturas\n",
    "\n",
    "Para um grafo `G=(V,E)` composto de vértices `V` e arestas `E`, listamos a complexidade das operações mais básicas.\n",
    "\n",
    "|                            \t| Matriz de Adj. \t| Lista de Adj.  \t|\n",
    "|----------------------------\t|----------------\t|----------------\t|\n",
    "| inserir aresta             \t| O(1)           \t| O(1)           \t|\n",
    "| remover aresta             \t| O(1)           \t| O(grau_max(G)) \t|\n",
    "| verificar adj. de dois nós \t| O(1)           \t| O(grau_max(G)) \t|\n",
    "| listar vizinhos de um nó   \t| O(len(V))         \t| O(grau_max(G)) \t|\n",
    "| espaço de armazenamento    \t| O(len(V)^2 )      \t| O(len(V) + len(E))  |\n",
    "\n",
    "Obs: O **grau** de um vértice, é a **quantidade de arestas que incide sobre esse vértice.** O grau máximo de um grafo `G` é o maior grau dentre todos os vértices de `G`.\n",
    "\n",
    "Será que faz sentido dizer que uma representação é melhor que a outra?\n",
    "Em que situações seria melhor usar a matriz? E a lista?"
   ]
  },
  {
   "attachments": {},
   "cell_type": "markdown",
   "metadata": {},
   "source": [
    "### Implementação matriz de adjacência\n",
    "\n",
    "Abaixo vemos um exemplo de implementação de grafo como **matriz de adjacências**."
   ]
  },
  {
   "cell_type": "code",
   "execution_count": null,
   "metadata": {},
   "outputs": [],
   "source": [
    "# Matriz de Adjacências\n",
    "\n",
    "class GrafoMA:\n",
    "    \n",
    "    def __init__(self, n):\n",
    "        self.adj = [[0]*n for _ in range(n)]\n",
    "        \n",
    "\n",
    "    def __repr__(self):\n",
    "        return str('\\n'.join([str(linha) for linha in self.adj]))\n",
    "    \n",
    "\n",
    "    def adicionar_aresta(self, linha, coluna, peso=1, mao_dupla=True):\n",
    "        \n",
    "        self.adj[coluna][linha] = peso\n",
    "        \n",
    "        if mao_dupla:\n",
    "            self.adj[linha][coluna] = peso\n",
    "            \n",
    "    def obter_vizinhos(self, n):\n",
    "        return [no for no, peso in enumerate(self.adj[n]) if peso != 0]"
   ]
  },
  {
   "cell_type": "code",
   "execution_count": null,
   "metadata": {},
   "outputs": [],
   "source": [
    "g1 = GrafoMA(4)\n",
    "g1"
   ]
  },
  {
   "cell_type": "code",
   "execution_count": null,
   "metadata": {},
   "outputs": [],
   "source": [
    "n = 0\n",
    "\n",
    "g1.adj[n]"
   ]
  },
  {
   "cell_type": "code",
   "execution_count": null,
   "metadata": {},
   "outputs": [],
   "source": [
    "n = 1\n",
    "\n",
    "conexoes = []\n",
    "\n",
    "for vertice, peso in enumerate(g1.adj[n]):\n",
    "    if peso != 0:\n",
    "        conexoes.append(vertice)\n",
    "        \n",
    "conexoes"
   ]
  },
  {
   "cell_type": "code",
   "execution_count": null,
   "metadata": {},
   "outputs": [],
   "source": [
    "g1.adicionar_aresta(0, 1)\n",
    "\n",
    "g1.adicionar_aresta(2, 1)\n",
    "\n",
    "g1"
   ]
  },
  {
   "cell_type": "code",
   "execution_count": null,
   "metadata": {},
   "outputs": [],
   "source": [
    "g1.adicionar_aresta(2, 3, mao_dupla = False)\n",
    "\n",
    "g1"
   ]
  },
  {
   "cell_type": "code",
   "execution_count": null,
   "metadata": {},
   "outputs": [],
   "source": [
    "g1.adicionar_aresta(0, 3, peso=10, mao_dupla = False)\n",
    "\n",
    "g1"
   ]
  },
  {
   "cell_type": "code",
   "execution_count": null,
   "metadata": {},
   "outputs": [],
   "source": [
    "g1.obter_vizinhos(0)"
   ]
  },
  {
   "cell_type": "code",
   "execution_count": null,
   "metadata": {},
   "outputs": [],
   "source": [
    "g1.obter_vizinhos(3)"
   ]
  },
  {
   "cell_type": "code",
   "execution_count": null,
   "metadata": {},
   "outputs": [],
   "source": [
    "# Bonus: Criando grafo não direcionado de Matriz de Adjacências usando numpy"
   ]
  },
  {
   "cell_type": "code",
   "execution_count": null,
   "metadata": {},
   "outputs": [],
   "source": [
    "from collections import defaultdict\n",
    "import numpy as np\n",
    "\n",
    "\n",
    "class Grafo(object):\n",
    "    \"\"\" Implementação básica de um grafo. \"\"\"\n",
    "\n",
    "    def __init__(self):\n",
    "        \"\"\"Inicializa as estruturas base do grafo.\"\"\"\n",
    "        self.adj = defaultdict(set)\n",
    "        self.arestas = []\n",
    "\n",
    "    def adiciona_arestas(self, arestas):\n",
    "        \"\"\" Adiciona arestas ao grafo. \"\"\"\n",
    "\n",
    "        def adiciona_arco(u, v):\n",
    "            \"\"\" Adiciona uma ligação (arco) entre os nodos 'u' e 'v'. \"\"\"\n",
    "            self.adj[u].add(v)\n",
    "            self.adj[v].add(u)\n",
    "\n",
    "        for u, v in arestas:\n",
    "            adiciona_arco(u, v)\n",
    "            self.arestas.append((u, v))\n",
    "\n",
    "    def get_matriz_adjacencia(self):\n",
    "        \"\"\"\n",
    "        Retorna uma lista de listas onde a posição 0 da lista contém uma lista com os vértices ordenados e a posição 1 a matriz de adjacências em formato de lista\n",
    "        \"\"\"\n",
    "        vertices = list(self.adj.keys())\n",
    "        vertices.sort()\n",
    "        tamanho_matriz = len(vertices)\n",
    "        matriz = np.zeros((tamanho_matriz, tamanho_matriz), dtype=np.int16)\n",
    "        for aresta in self.arestas:\n",
    "            idx_origem = vertices.index(aresta[0])\n",
    "            idx_destino = vertices.index(aresta[1])\n",
    "            matriz[idx_origem, idx_destino] = 1\n",
    "            matriz[idx_destino, idx_origem] = 1\n",
    "        return [vertices, matriz.tolist()]\n"
   ]
  },
  {
   "cell_type": "code",
   "execution_count": null,
   "metadata": {},
   "outputs": [],
   "source": [
    "g = Grafo()\n",
    "\n",
    "g.adiciona_arestas([(\"A\", \"B\"),\n",
    "                    (\"B\", \"F\"),\n",
    "                    (\"F\", \"E\"),\n",
    "                    (\"E\", \"C\"),\n",
    "                    (\"C\", \"H\"),\n",
    "                    (\"H\", \"G\"),\n",
    "                    (\"G\", \"D\"),\n",
    "                    (\"D\", \"A\"),\n",
    "                    (\"B\", \"B\"),\n",
    "                    (\"C\", \"C\")\n",
    "                    ])\n",
    "\n",
    "g.get_matriz_adjacencia()"
   ]
  },
  {
   "cell_type": "code",
   "execution_count": null,
   "metadata": {},
   "outputs": [],
   "source": [
    "# Bonus: Criando grafo direcionado de Matriz de Adjacências usando numpy\n",
    "\n",
    "from collections import defaultdict\n",
    "import numpy as np\n",
    "\n",
    "\n",
    "class Grafo(object):\n",
    "    \"\"\" Implementação básica de um grafo. \"\"\"\n",
    "\n",
    "    def __init__(self):\n",
    "        \"\"\"Inicializa as estruturas base do grafo.\"\"\"\n",
    "        self.adj = defaultdict(set)\n",
    "        self.arestas = []\n",
    "        self.vertices = []\n",
    "\n",
    "    def adiciona_arestas(self, arestas):\n",
    "        \"\"\" Adiciona arestas ao grafo. \"\"\"\n",
    "\n",
    "        def adiciona_arco(u, v):\n",
    "            \"\"\" Adiciona uma ligação (arco) entre os nodos 'u' e 'v'. \"\"\"\n",
    "            self.adj[u].add(v)\n",
    "\n",
    "        for u, v in arestas:\n",
    "            adiciona_arco(u, v)\n",
    "            self.arestas.append((u, v))\n",
    "            self.vertices.append(u)\n",
    "            self.vertices.append(v)\n",
    "\n",
    "    def get_matriz_adjacencia(self):\n",
    "        \"\"\"\n",
    "        Retorna uma lista de listas onde a posição 0 da lista contém uma lista com os vértices ordenados e a posição 1 a matriz de adjacências em formato de lista\n",
    "        \"\"\"\n",
    "        vertices = list(set(self.vertices))\n",
    "        vertices.sort()\n",
    "        tamanho_matriz = len(vertices)\n",
    "        matriz = np.zeros((tamanho_matriz, tamanho_matriz), dtype=np.int16)\n",
    "        for aresta in self.arestas:\n",
    "            idx_origem = vertices.index(aresta[0])\n",
    "            idx_destino = vertices.index(aresta[1])\n",
    "            matriz[idx_origem, idx_destino] = 1\n",
    "        return [vertices, matriz.tolist()]\n",
    "\n"
   ]
  },
  {
   "cell_type": "code",
   "execution_count": null,
   "metadata": {},
   "outputs": [],
   "source": [
    "g = Grafo()\n",
    "\n",
    "g.adiciona_arestas([(\"A\", \"B\"),\n",
    "                    (\"B\", \"C\"),\n",
    "                    (\"B\", \"D\"),\n",
    "                    (\"B\", \"E\"),\n",
    "                    (\"C\", \"F\"),\n",
    "                    (\"D\", \"F\"),\n",
    "                    (\"A\", \"A\"),\n",
    "                    (\"F\", \"A\")\n",
    "                    ])\n",
    "\n",
    "g.get_matriz_adjacencia()"
   ]
  },
  {
   "attachments": {},
   "cell_type": "markdown",
   "metadata": {},
   "source": [
    "Podemos também implementar a lista de adjacências:"
   ]
  },
  {
   "cell_type": "code",
   "execution_count": null,
   "metadata": {},
   "outputs": [],
   "source": [
    "# Grafos não direcionados\n",
    "n = 3\n",
    "\n",
    "l = {i: [] for i in range(n)}\n",
    "\n",
    "l"
   ]
  },
  {
   "cell_type": "code",
   "execution_count": null,
   "metadata": {},
   "outputs": [],
   "source": [
    "# Grafos não direcionados\n",
    "l[1].append(2)\n",
    "l"
   ]
  },
  {
   "cell_type": "code",
   "execution_count": 2,
   "metadata": {},
   "outputs": [],
   "source": [
    "class GrafoLA:\n",
    "    \n",
    "    def __init__(self, n):\n",
    "        self.adj = [[] for _ in range(n)]\n",
    "    \n",
    "    \n",
    "    def __repr__(self):\n",
    "        return '\\n'.join([str(linha) for linha in self.adj])\n",
    "        \n",
    "    \n",
    "    def adicionar_aresta(self, n1, n2, mao_dupla=True):\n",
    "        self.adj[n1].append(n2)\n",
    "        \n",
    "        if mao_dupla:\n",
    "            self.adj[n2].append(n1)\n",
    "            \n",
    "        \n",
    "    def obter_vizinhos(self, n):\n",
    "        return self.adj[n]"
   ]
  },
  {
   "cell_type": "code",
   "execution_count": 3,
   "metadata": {},
   "outputs": [
    {
     "data": {
      "text/plain": [
       "[]\n",
       "[]\n",
       "[]\n",
       "[]"
      ]
     },
     "execution_count": 3,
     "metadata": {},
     "output_type": "execute_result"
    }
   ],
   "source": [
    "g2 = GrafoLA(4)\n",
    "\n",
    "g2"
   ]
  },
  {
   "cell_type": "code",
   "execution_count": 4,
   "metadata": {},
   "outputs": [
    {
     "data": {
      "text/plain": [
       "[1, 3]\n",
       "[0, 2]\n",
       "[1, 3]\n",
       "[]"
      ]
     },
     "execution_count": 4,
     "metadata": {},
     "output_type": "execute_result"
    }
   ],
   "source": [
    "g2.adicionar_aresta(0, 1)\n",
    "\n",
    "g2.adicionar_aresta(2, 1)\n",
    "\n",
    "g2.adicionar_aresta(2, 3, mao_dupla = False)\n",
    "\n",
    "g2.adicionar_aresta(0, 3, mao_dupla = False)\n",
    "\n",
    "g2"
   ]
  },
  {
   "cell_type": "code",
   "execution_count": null,
   "metadata": {},
   "outputs": [],
   "source": [
    "g2.obter_vizinhos(0)"
   ]
  },
  {
   "cell_type": "code",
   "execution_count": null,
   "metadata": {},
   "outputs": [],
   "source": [
    "g2.obter_vizinhos(3)"
   ]
  },
  {
   "cell_type": "code",
   "execution_count": null,
   "metadata": {},
   "outputs": [],
   "source": [
    "# Bonus: Criando grafo não direcionado de Lista de Adjacências usando numpy\n",
    "\n",
    "from collections import defaultdict\n",
    "import numpy as np\n",
    "\n",
    "class Grafo(object):\n",
    "    \"\"\" Implementação básica de um grafo. \"\"\"\n",
    "\n",
    "    def __init__(self):\n",
    "        \"\"\"Inicializa as estruturas base do grafo.\"\"\"\n",
    "        self.adj = defaultdict(set)\n",
    "\n",
    "\n",
    "    def adiciona_arestas(self, arestas):\n",
    "        \"\"\" Adiciona arestas ao grafo. \"\"\"\n",
    "        def adiciona_arco( u, v):\n",
    "            \"\"\" Adiciona uma ligação (arco) entre os nodos 'u' e 'v'. \"\"\"\n",
    "            self.adj[u].add(v)\n",
    "            self.adj[v].add(u)\n",
    "\n",
    "        for u, v in arestas:\n",
    "            adiciona_arco(u, v)\n",
    "\n",
    "    def get_lista_adjacencia(self):\n",
    "        \"\"\"\n",
    "        Retorna uma lista de listas onde a posição 0 da lista contém uma lista com os vértices ordenados e a posição 1 a lista de adjacências em formato de lista\n",
    "        \"\"\"\n",
    "        tuplas = []\n",
    "        vertices = []\n",
    "        adjacencias = []\n",
    "        for k, v in self.adj.items():\n",
    "            tuplas.append((k, v))\n",
    "        tuplas.sort()\n",
    "        for k, v in tuplas:\n",
    "            vertices.append(k)\n",
    "            lista = list(v)\n",
    "            lista.sort()\n",
    "            adjacencias.append(lista)\n",
    "        return [vertices, adjacencias]\n"
   ]
  },
  {
   "cell_type": "code",
   "execution_count": null,
   "metadata": {},
   "outputs": [],
   "source": [
    "g = Grafo()\n",
    "\n",
    "g.adiciona_arestas([(\"A\", \"B\"),\n",
    "                    (\"B\", \"F\"),\n",
    "                    (\"F\", \"E\"),\n",
    "                    (\"E\", \"C\"),\n",
    "                    (\"C\", \"H\"),\n",
    "                    (\"H\", \"G\"),\n",
    "                    (\"G\", \"D\"),\n",
    "                    (\"D\", \"A\"),\n",
    "                    (\"B\", \"B\"),\n",
    "                    (\"C\", \"C\")\n",
    "                    ])\n",
    "\n",
    "g.get_lista_adjacencia()\n"
   ]
  },
  {
   "cell_type": "code",
   "execution_count": null,
   "metadata": {},
   "outputs": [],
   "source": [
    "# Bonus: Criando grafo direcionado de Lista de Adjacências usando numpy\n",
    "\n",
    "from collections import defaultdict\n",
    "import numpy as np\n",
    "\n",
    "class Grafo(object):\n",
    "    \"\"\" Implementação básica de um grafo. \"\"\"\n",
    "\n",
    "    def __init__(self):\n",
    "        \"\"\"Inicializa as estruturas base do grafo.\"\"\"\n",
    "        self.adj = defaultdict(set)\n",
    "        self.vertices = []\n",
    "\n",
    "\n",
    "    def adiciona_arestas(self, arestas):\n",
    "        \"\"\" Adiciona arestas ao grafo. \"\"\"\n",
    "        def adiciona_arco( u, v):\n",
    "            \"\"\" Adiciona uma ligação (arco) entre os nodos 'u' e 'v'. \"\"\"\n",
    "            self.adj[u].add(v)\n",
    "\n",
    "        for u, v in arestas:\n",
    "            adiciona_arco(u, v)\n",
    "            self.vertices.append(u)\n",
    "            self.vertices.append(v)\n",
    "\n",
    "    def get_lista_adjacencia(self):\n",
    "        \"\"\"\n",
    "        Retorna uma lista de listas onde a posição 0 da lista contém uma lista com os vértices ordenados e a posição 1 a lista de adjacências em formato de lista\n",
    "        \"\"\"\n",
    "        adjacencias = []\n",
    "        vertices = list(set(self.vertices))\n",
    "        vertices.sort()\n",
    "        for v in vertices:\n",
    "            lista = list(self.adj.get(v, []))\n",
    "            lista.sort()\n",
    "            adjacencias.append(lista)\n",
    "        return [vertices, adjacencias]\n"
   ]
  },
  {
   "cell_type": "code",
   "execution_count": null,
   "metadata": {},
   "outputs": [],
   "source": [
    "g = Grafo()\n",
    "\n",
    "g.adiciona_arestas([(\"A\", \"B\"),\n",
    "                    (\"B\", \"F\"),\n",
    "                    (\"F\", \"E\"),\n",
    "                    (\"E\", \"C\"),\n",
    "                    (\"C\", \"H\"),\n",
    "                    (\"H\", \"G\"),\n",
    "                    (\"G\", \"D\"),\n",
    "                    (\"D\", \"A\"),\n",
    "                    (\"B\", \"B\"),\n",
    "                    (\"C\", \"C\")\n",
    "                    ])\n",
    "\n",
    "g.get_lista_adjacencia()\n"
   ]
  },
  {
   "attachments": {},
   "cell_type": "markdown",
   "metadata": {},
   "source": [
    "Pergunta: como representar grafos ponderados com lista de adjacência?\n",
    "\n",
    "Com uma tupla"
   ]
  },
  {
   "cell_type": "markdown",
   "metadata": {},
   "source": [
    "_________"
   ]
  },
  {
   "attachments": {},
   "cell_type": "markdown",
   "metadata": {},
   "source": [
    "### Percurso\n",
    "\n",
    "Quando utilizamos um grafo para modelar um problema, muitas vezes temos o interesse de **percorrer** esse grafo (Graph Traversal ou Search).\n",
    "\n",
    "Percorrer um grafo é passar por cada nó \"visitando\" o nó apenas uma vez.\n",
    "\n",
    "Muitas vezes o interesse está não na visita em si, mas no **caminho percorrido para se chegar a esse nó**, ou na **ordem em que estes nós são visitados** (veremos mais abaixo como um destes algoritmos de percurso pode ser usado para encontrar o menor caminho entre dois nós, por exemplo).\n",
    "\n",
    "E é por isso que os algoritmos de percurso precisam respeitar as arestas do grafo e não podem simplesmente percorrer a lista de vértices.\n"
   ]
  },
  {
   "attachments": {},
   "cell_type": "markdown",
   "metadata": {},
   "source": [
    "<img src=\"https://miro.medium.com/max/1280/0*miG6xdyYzdvrB67S.gif\" width=450>"
   ]
  },
  {
   "attachments": {},
   "cell_type": "markdown",
   "metadata": {},
   "source": [
    "#### Busca em profundidade (DFS - Depth First Search)\n",
    "\n",
    "Uma das maneiras de se percorrer um grafo é a busca em profundidade, que pode ser facilmente implementada de maneira recursiva.\n",
    "\n",
    "Sempre que a DFS encontra **um vértice não visitado** ela segue por esse vértice.\n",
    "\n",
    "Ela tem esse nome pois ao percorrer o grafo ela \"verticaliza\".\n",
    "\n",
    "Ou seja, ao escolher um \"ramo\" do grafo, segue por esse ramo até que ele termine.\n",
    "\n",
    "Abaixo temos um exemplo de como a busca em profundidade percorreria esse grafo partindo do nó 0.\n",
    "\n",
    "<img src=\"https://s3-sa-east-1.amazonaws.com/lcpi/0084b080-e980-46d0-8694-55895333a3e7.jpg\" width=600>"
   ]
  },
  {
   "cell_type": "code",
   "execution_count": null,
   "metadata": {},
   "outputs": [],
   "source": [
    "# DFS(n) -> ordem_visitados\n",
    "# Inicia no vértice n. Para cada vértice vizinho, \n",
    "# visitado[vizinho] = 1 se vizinho já foi visitado. \n",
    "# visitado[] é inicializado com zeros.\n",
    "# Visita todos os vértices possíveis a partir\n",
    "# de n. ordem_visitados[] e existe somente para \n",
    "# visualizarmos a ordem ao final\n",
    "\n",
    "\n",
    "# visitado[n] := 1\n",
    "# adiciona n em ordem_visitados\n",
    "# para cada vertice vizinho adjacente de u faça\n",
    "#     se visitado[vizinho] = 0 então\n",
    "#         DFS(vizinho)"
   ]
  },
  {
   "cell_type": "code",
   "execution_count": null,
   "metadata": {},
   "outputs": [],
   "source": [
    "class GrafoLA:\n",
    "    def __init__(self, n):\n",
    "        self.adj = [[] for _ in range(n)]\n",
    "        self.__visitado = []\n",
    "        self.ordem_visitados = []\n",
    "    \n",
    "    \n",
    "    def __repr__(self):\n",
    "        return '\\n'.join([str(line) for line in self.adj])\n",
    "        \n",
    "    \n",
    "    def adiciona_aresta(self, n1, n2, mao_dupla=True):\n",
    "        self.adj[n1].append(n2)\n",
    "        \n",
    "        if mao_dupla:\n",
    "            self.adj[n2].append(n1)\n",
    "            \n",
    "        \n",
    "    def obter_vizinhos(self, n):\n",
    "        return self.adj[n]\n",
    "\n",
    "    def __visitar(self, node):\n",
    "        self.__visitado[node] = 1\n",
    "        self.ordem_visitados.append(node)\n",
    "\n",
    "    \n",
    "    def __dfs(self, n):\n",
    "        self.__visit(n)\n",
    "        for vizinho in self.obter_vizinhos(n):\n",
    "            if self.__visitado[vizinho] == 0:\n",
    "                self.__dfs(vizinho)\n",
    "\n",
    "    def DFS(self, n):\n",
    "        self.__visitado = [0]*len(self.adj)\n",
    "        self.ordem_visitados = []\n",
    "        self.__dfs(n)\n",
    "        return self.ordem_visitados"
   ]
  },
  {
   "attachments": {},
   "cell_type": "markdown",
   "metadata": {},
   "source": [
    "<img src=\"https://s3-sa-east-1.amazonaws.com/lcpi/9775dad0-c900-42e9-87fa-41d78b73444c.jpg\" width=500>"
   ]
  },
  {
   "cell_type": "code",
   "execution_count": 39,
   "metadata": {},
   "outputs": [
    {
     "name": "stdout",
     "output_type": "stream",
     "text": [
      "[1, 2]\n",
      "[0, 2, 3]\n",
      "[0, 1, 4]\n",
      "[1, 4]\n",
      "[2, 3, 5]\n",
      "[4, 6]\n",
      "[5] \n",
      "\n"
     ]
    },
    {
     "data": {
      "text/plain": [
       "[4, 2, 0, 1, 3, 5, 6]"
      ]
     },
     "execution_count": 39,
     "metadata": {},
     "output_type": "execute_result"
    }
   ],
   "source": [
    "g3 = GrafoLA(7)\n",
    "g3.adiciona_aresta(0, 1)\n",
    "g3.adiciona_aresta(0, 2)\n",
    "g3.adiciona_aresta(1, 2)\n",
    "g3.adiciona_aresta(1, 3)\n",
    "g3.adiciona_aresta(2, 4)\n",
    "g3.adiciona_aresta(3, 4)\n",
    "g3.adiciona_aresta(4, 5)\n",
    "g3.adiciona_aresta(5, 6)\n",
    "print(g3, \"\\n\")\n",
    "\n",
    "ordem_visitados = g3.DFS(4)\n",
    "ordem_visitados"
   ]
  },
  {
   "attachments": {},
   "cell_type": "markdown",
   "metadata": {},
   "source": [
    "#### Busca em largura (BFS - Breadth First Search)\n",
    "\n",
    "A BFS visita os nós do grafo em \"camadas\" partindo da origem, cada camada está uma aresta a mais de distância da origem em relação a camada anterior.\n",
    "Ou seja, partindo de um nó origem `s` os nós diretamente conectados a `s` (seus vizinhos) são visitados primeiro antes dos nós conectados aos vizinhos de `s` (seus \"vizinhos de segundo grau\").\n",
    "\n",
    "A figura abaixo mostra um exemplo gráfico desse comportamento em camadas.\n",
    "\n",
    "<img src=\"https://s3-sa-east-1.amazonaws.com/lcpi/a67dd98f-8578-4bda-a710-903d7de9ceb6.jpg\" width=600>\n",
    "\n",
    "Note que a ordem de visitação imposta pela BFS é parcial.\n",
    "Existem diferentes ordenações possíveis que qualificam como percurso BFS, o importante é respeitar as camadas.\n",
    "Por exemplo, não importa se 1 foi visitado antes do 3 ou se o 3 foi visitado antes do 1 desde que ambos tenham sido visitados antes de 2, 4 e 5.\n"
   ]
  },
  {
   "cell_type": "code",
   "execution_count": null,
   "metadata": {},
   "outputs": [],
   "source": [
    "# BFS(n) -> ordem_visitados\n",
    "# Inicia no vértice n. Para cada vértice vizinho, \n",
    "# visitado[vizinho] = 1 se vizinho já foi visitado. \n",
    "# visitado[] é inicializado com zeros.\n",
    "# ordem_visitados[] e existe somente para \n",
    "# visualizarmos a ordem ao final\n",
    "\n",
    "# nao_visitados := []\n",
    "# ordem_visitados := []\n",
    "# visitado[n] := 1\n",
    "# adiciona n em ordem_visitados\n",
    "# repete:\n",
    "#   para cada vertice vizinho adjacente de n faça\n",
    "#       se visitado[vizinho] = 0 então\n",
    "#           adiciona vizinho em nao_visitados\n",
    "#           visitado[vizinho] := 1\n",
    "#           adiciona vizinho em ordem_visitados\n",
    "#   se nao_visitados esta vazio então retorna ordem_visitados\n",
    "#   n := remove n de nao_visitados"
   ]
  },
  {
   "cell_type": "code",
   "execution_count": 1,
   "metadata": {},
   "outputs": [],
   "source": [
    "class GrafoLA:\n",
    "    def __init__(self, n):\n",
    "        self.adj = [[] for _ in range(n)]\n",
    "        self.__visitado = []\n",
    "        self.ordem_visitados = []\n",
    "    \n",
    "    \n",
    "    def __repr__(self):\n",
    "        return '\\n'.join([str(line) for line in self.adj])\n",
    "        \n",
    "    \n",
    "    def adiciona_aresta(self, n1, n2, mao_dupla=True):\n",
    "        self.adj[n1].append(n2)\n",
    "        \n",
    "        if mao_dupla:\n",
    "            self.adj[n2].append(n1)\n",
    "            \n",
    "        \n",
    "    def obter_vizinhos(self, n):\n",
    "        return self.adj[n]\n",
    "\n",
    "    def __visitar(self, node):\n",
    "        self.__visitado[node] = 1\n",
    "        self.ordem_visitados.append(node)\n",
    "\n",
    "    \n",
    "    def __dfs(self, n):\n",
    "        self.__visit(n)\n",
    "        for vizinho in self.obter_vizinhos(n):\n",
    "            if self.__visitado[vizinho] == 0:\n",
    "                self.__dfs(vizinho)\n",
    "\n",
    "    def DFS(self, n):\n",
    "        self.__visitado = [0]*len(self.adj)\n",
    "        self.ordem_visitados = []\n",
    "        self.__dfs(n)\n",
    "        return self.ordem_visitados\n",
    "\n",
    "\n",
    "    def BFS(self, n):\n",
    "        self.__visitado = [0]*len(self.adj)\n",
    "        self.ordem_visitados = []\n",
    "        nao_visitados = []\n",
    "        \n",
    "        self.__visitar(n)\n",
    "        \n",
    "        while True:\n",
    "            for vizinho in self.obter_vizinhos(n):\n",
    "                if self.__visitado[vizinho] == 0:\n",
    "                    nao_visitados.append(vizinho)\n",
    "                    self.__visitar(vizinho)\n",
    "            if not nao_visitados:\n",
    "                return self.ordem_visitados\n",
    "            n = nao_visitados.pop(0)"
   ]
  },
  {
   "cell_type": "code",
   "execution_count": null,
   "metadata": {},
   "outputs": [],
   "source": []
  },
  {
   "attachments": {},
   "cell_type": "markdown",
   "metadata": {},
   "source": [
    "<img src=\"https://s3-sa-east-1.amazonaws.com/lcpi/9775dad0-c900-42e9-87fa-41d78b73444c.jpg\" width=500>"
   ]
  },
  {
   "cell_type": "code",
   "execution_count": 2,
   "metadata": {},
   "outputs": [
    {
     "name": "stdout",
     "output_type": "stream",
     "text": [
      "[1, 2]\n",
      "[0, 2, 3]\n",
      "[0, 1, 4]\n",
      "[1, 4]\n",
      "[2, 3, 5]\n",
      "[4, 6]\n",
      "[5] \n",
      "\n"
     ]
    },
    {
     "data": {
      "text/plain": [
       "[4, 2, 3, 5, 0, 1, 6]"
      ]
     },
     "execution_count": 2,
     "metadata": {},
     "output_type": "execute_result"
    }
   ],
   "source": [
    "g3 = GrafoLA(7)\n",
    "g3.adiciona_aresta(0, 1)\n",
    "g3.adiciona_aresta(0, 2)\n",
    "g3.adiciona_aresta(1, 2)\n",
    "g3.adiciona_aresta(1, 3)\n",
    "g3.adiciona_aresta(2, 4)\n",
    "g3.adiciona_aresta(3, 4)\n",
    "g3.adiciona_aresta(4, 5)\n",
    "g3.adiciona_aresta(5, 6)\n",
    "print(g3, \"\\n\")\n",
    "\n",
    "ordem_visitados = g3.BFS(4)\n",
    "ordem_visitados"
   ]
  },
  {
   "attachments": {},
   "cell_type": "markdown",
   "metadata": {},
   "source": [
    "______________________"
   ]
  },
  {
   "attachments": {},
   "cell_type": "markdown",
   "metadata": {},
   "source": [
    "### Menor caminho\n",
    "\n",
    "Uma das aplicações mais comuns em grafos é o cálculo do menor caminho entre vértices.\n",
    "\n",
    "Aqui veremos o problema conhecido como **Single Source Shortest Path**, posto da seguinte forma: \n",
    "\n",
    "Dado um grafo `G` e um **vértice origem** `s`, encontre o **menor caminho** partindo de `s` até **cada vértice** `v` pertencente a `G`.\n",
    " \n",
    "Vamos começar com o caso de grafos sem peso (ou peso constante = 1) nas arestas, ou seja, o menor caminho nesse caso é o **caminho com menos arestas**.\n",
    "\n",
    "> Considere a busca em largura (BFS).\n",
    "\n",
    "Já sabemos que um nó que está a uma aresta de distância da origem será visitado na primeira camada, um nó que está a duas arestas da origem será visitado na segunda, e assim por diante.\n",
    "\n",
    "Ou seja, os nós já são visitados na ordem de menor caminho e a camada dá o custo desse caminho!!\n",
    "\n",
    "\n"
   ]
  },
  {
   "cell_type": "code",
   "execution_count": 1,
   "metadata": {},
   "outputs": [],
   "source": [
    "# Vamos implementar\n",
    "\n",
    "class GrafoLA:\n",
    "    def __init__(self, n):\n",
    "        self.adj = [[] for _ in range(n)]\n",
    "        self.__visitado = []\n",
    "        self.ordem_visitados = []\n",
    "\n",
    "    def __repr__(self):\n",
    "        return '\\n'.join([str(line) for line in self.adj])\n",
    "\n",
    "    def adiciona_aresta(self, n1, n2, mao_dupla=True):\n",
    "        self.adj[n1].append(n2)\n",
    "\n",
    "        if mao_dupla:\n",
    "            self.adj[n2].append(n1)\n",
    "\n",
    "    def obter_vizinhos(self, n):\n",
    "        return self.adj[n]\n",
    "\n",
    "    def __visitar(self, node):\n",
    "        self.__visitado[node] = 1\n",
    "        self.ordem_visitados.append(node)\n",
    "\n",
    "    def __dfs(self, n):\n",
    "        self.__visit(n)\n",
    "        for vizinho in self.obter_vizinhos(n):\n",
    "            if self.__visitado[vizinho] == 0:\n",
    "                self.__dfs(vizinho)\n",
    "\n",
    "    def DFS(self, n):\n",
    "        self.__visitado = [0] * len(self.adj)\n",
    "        self.ordem_visitados = []\n",
    "        self.__dfs(n)\n",
    "        return self.ordem_visitados\n",
    "\n",
    "    def BFS(self, n):\n",
    "        self.__visitado = [0] * len(self.adj)\n",
    "        self.ordem_visitados = []\n",
    "        nao_visitados = []\n",
    "\n",
    "        self.__visitar(n)\n",
    "\n",
    "        while True:\n",
    "            for vizinho in self.obter_vizinhos(n):\n",
    "                if self.__visitado[vizinho] == 0:\n",
    "                    nao_visitados.append(vizinho)\n",
    "                    self.__visitar(vizinho)\n",
    "            if not nao_visitados:\n",
    "                return self.ordem_visitados\n",
    "            n = nao_visitados.pop(0)\n",
    "\n",
    "    def _menor_caminho(self, primeiro_nivel, caminhos, limite, juntar):\n",
    "        nivel = 0  # the current level\n",
    "        proximo_nivel = primeiro_nivel\n",
    "        while proximo_nivel and limite > nivel:\n",
    "            nivel_atual = proximo_nivel\n",
    "            proximo_nivel = []\n",
    "            for v in nivel_atual:\n",
    "                for w in self.obter_vizinhos(v):\n",
    "                    if w not in caminhos:\n",
    "                        caminhos[w] = juntar(caminhos[v], [w])\n",
    "                        proximo_nivel.append(w)\n",
    "            nivel += 1\n",
    "        return caminhos\n",
    "    \n",
    "    def menor_caminho(self, no, limite=None):\n",
    "        def juntar(p1, p2):\n",
    "            return p1 + p2\n",
    "\n",
    "        if limite is None:\n",
    "            limite = float(\"inf\")\n",
    "        proximo_nivel = [no]\n",
    "        caminhos = {no: [no]}\n",
    "        return dict(self._menor_caminho(proximo_nivel, caminhos, limite, juntar))"
   ]
  },
  {
   "attachments": {},
   "cell_type": "markdown",
   "metadata": {},
   "source": [
    "#### Menor caminho para grafos com peso nas arestas\n",
    "\n",
    "Grafos sem custo nas arestas são muito utilizados e nesses casos a BFS modificada será suficiente para encontrar o menor caminho.\n",
    "\n",
    "Porém, muitas aplicações precisam levar em conta custos diferentes para cada aresta.\n",
    "\n",
    "Por exemplo a **distância entre duas cidades** ou o **custo de pedágio** para se utilizar determinada rodovia.\n",
    "\n",
    "A figura abaixo mostra um grafo com custos nas aretas.\n",
    "\n",
    "Note que a BFS indicaria que o menor caminho de 0 a 1 seria simplesmente 0->1, mas podemos ver que 0->2->1, embora utilize mais arestas, tem um custo menor. E agora?\n",
    "\n",
    "<img src=\"https://s3-sa-east-1.amazonaws.com/lcpi/bafb6b0b-7d19-47d8-8b93-293e84b7a7cd.jpg\" width=800>\n",
    "\n",
    "Existem diferentes algoritmos para encontrar o menor caminho entre todos os vértices e um vértice origem (*Single Source Shortest Path Problem*).\n",
    "\n"
   ]
  }
 ],
 "metadata": {
  "kernelspec": {
   "display_name": "Python 3",
   "language": "python",
   "name": "python3"
  },
  "language_info": {
   "codemirror_mode": {
    "name": "ipython",
    "version": 3
   },
   "file_extension": ".py",
   "mimetype": "text/x-python",
   "name": "python",
   "nbconvert_exporter": "python",
   "pygments_lexer": "ipython3",
   "version": "3.10.12"
  },
  "orig_nbformat": 4,
  "vscode": {
   "interpreter": {
    "hash": "42478136ef40f8edd3f4cf991c33cffcfc620a666d0dc328e82cc0ef4d7b2c04"
   }
  }
 },
 "nbformat": 4,
 "nbformat_minor": 2
}
