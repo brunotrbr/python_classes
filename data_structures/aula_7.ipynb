{
 "cells": [
  {
   "attachments": {},
   "cell_type": "markdown",
   "metadata": {},
   "source": [
    "# Complexidade de algoritmos\n",
    "\n",
    "Vamos pensar em um algoritmo simples, de ordenação de elementos em uma lista. Quanto tempo leva para o computador fazer a ordenação de 10.000 números utilizando o algoritmo chamado **Bubble Sort**? E 100.000?"
   ]
  },
  {
   "cell_type": "code",
   "execution_count": null,
   "metadata": {},
   "outputs": [],
   "source": [
    "def bubble_sort(lista):\n",
    "    for i in range(len(lista)-1,0,-1): # começa no len, para no 0, diminui 1 em 1\n",
    "        for j in range(i):\n",
    "            if lista[j] > lista[j+1]:\n",
    "                lista[j], lista[j+1] = lista[j+1], lista[j]\n",
    "    return lista\n",
    "\n",
    "def bubble_sort_otimizado(lista):\n",
    "    for i in range(len(lista)-1,0,-1):\n",
    "        houve_troca = False\n",
    "        for j in range(i):\n",
    "            if lista[j] > lista[j+1]:\n",
    "                lista[j], lista[j+1] = lista[j+1], lista[j]\n",
    "                houve_troca = True\n",
    "        if not houve_troca:\n",
    "            break\n",
    "    return lista"
   ]
  },
  {
   "attachments": {},
   "cell_type": "markdown",
   "metadata": {},
   "source": [
    "E para ordenar 1 bilhão de números? Boa pergunta. Não fiz esse teste, e não devo fazê-lo, pois sei que o tempo vai ser suficientemente grande para eu sequer lembrar por que eu queria ordenar estes elementos (caso ainda esteja vivo quando ele acabar...)\n",
    "\n",
    "Existem diversos outros algoritmos de ordenação, e escolhemos o exemplo do **Bubble Sort** por sabermos que ele tende a ser lento. Mas como sabemos que ele é lento? Aliás, ele é sempre lento? Existe algum caso em que valha a pena usar o **Bubble Sort** no lugar de algum outro? Como podemos responder a esses questionamentos? É aí que entra a noção de análise de algoritmos."
   ]
  },
  {
   "attachments": {},
   "cell_type": "markdown",
   "metadata": {},
   "source": [
    "## Análise de Algoritmos\n",
    "\n",
    "Utilizando o método empírico podemos determinar com precisão, caso a massa de dados não seja tão grande, mas ainda assim significativa, o tempo de processamento e a quantidade de memória que um determinado algoritmo ocupa ao ser executado.\n",
    " \n",
    "Com o método analítico entendemos seu comportamento à medida que a massa de dados aumenta, através de expressões matemáticas. Ou seja, conseguimos prever como ele deve se comportar ao longo do tempo independentemente do computador, da linguagem, do compilador e das condições de processamento.\n",
    "\n",
    "Sendo assim a análise de algoritmos é a medição da complexidade de um algoritmo, e a complexidade do algoritmo pode ser definida como a quantidade de trabalho necessária para sua execução, expressa em função de suas operações fundamentais, as quais variam de acordo com o algoritmo e em função do volume de dados.\n",
    "\n",
    "Outros elementos que devem ser considerados na análise de algoritmos, além do tempo e do espaço, são a obtenção correta do resultado pretendido e sua robustez (como ele se comporta com entradas inválidas ou não previstas).\n",
    "\n",
    "**Não** vamos ver a com a complexidade de espaço, vamos focar na **complexidade de tempo**."
   ]
  },
  {
   "attachments": {},
   "cell_type": "markdown",
   "metadata": {},
   "source": [
    "### Complexidade de Tempo\n",
    "\n",
    "Complexidade de tempo de um algoritmo é o tempo necessário para ele realizar todo seu processamento até o final. Este tempo necessário é a soma de dois fatores: o tempo que o programa leva para compilar e o tempo de processamento dele.\n",
    "\n",
    "Como Python não é uma linguagem compilada, é interpretada, vamos considerar somente o tempo de processamento dele.\n",
    "\n",
    "Em uma linguagem compilada o tempo de compilação pode ser descartado, pois ele não depende das características da instância do algoritmo. Além do mais, nem sempre o programa vai ser recompilado. Neste caso, resta somente o tempo de processamento baseado nas características da instância, denotado por `T`<sub>`(p)`</sub> para um determinado programa P.\n",
    "&nbsp;\n",
    "\n",
    "É um tanto quando difícil definir exatamente o tempo de execução, uma vez que muitos dos fatores utilizados para calcular o `T`<sub>`(p)`</sub> podem não ser conhecidos em tempo de desenvolvimento do algoritmo (Ex: o tamanho da lista em um problema de ordenação ou busca), portanto é aceitável **estimar** `T`<sub>`(p)`</sub>. Podemos obter essa estimativa determinando o número de adições, subtrações, multiplicações, divisões, comparações, atribuições, carregamentos etc., feitos pelo algoritmo. Matematicamente, podemos expressar `T`<sub>`(p)`</sub> como a fórmula abaixo:\n",
    "\n",
    "> `Tp(n) = c`<sub>`a`</sub>`ADD(n) + c`<sub>`s`</sub>`SUB(n) + c`<sub>`m`</sub>`MUL(n) + ...`\n",
    "\n",
    "onde `n` são as características da instância, enquanto c<sub>a</sub>, c<sub>s</sub>, c<sub>m</sub> são o tempo para realizar as operações de adição, subtração etc. e ADD, SUB, MUL são a quantidade de operações de adição, subtração etc., realizadas pelo algoritmo em uma instância com caraterística `n`.\n",
    "&nbsp;\n",
    "\n",
    "Observem o método `abc` abaixo:"
   ]
  },
  {
   "cell_type": "code",
   "execution_count": null,
   "metadata": {},
   "outputs": [],
   "source": [
    "def abc(a: int, b: int, c: int):\n",
    "    # Realiza um cálculo qualquer\n",
    "    return a - (b * c) + a - (c + a - b) / (b + a) + 3"
   ]
  },
  {
   "attachments": {},
   "cell_type": "markdown",
   "metadata": {},
   "source": [
    "Vocês concordam que ele é relativamente independente das características da instância? Ele recebe três parâmetros e não vai aumentar ou diminuir essa entrada. Portanto ele realiza diversas operações, mas o programa todo pode ser executado no que podemos chamar de `passo`. O `passo` pode ser definido como um segmento do programa que possui tempo de execução independente das características da instância.\n",
    "\n",
    "O número de passos de um algoritmo depende do tipo de instrução que compõe o algoritmo. \n",
    "\n",
    "- atribuições contam como um passo, \n",
    "- leituras contam como um passo, \n",
    "- em laços (`for`, `while`) contamos somente a parte de controle, descartando as operações internas do laço que não sejam atribuições, leituras etc. \n",
    "  \n",
    "Para poder contar quantos passos um algoritmo executa, vamos tomar como exemplo o método de somatório abaixo, adicionando duas variáveis `cont_c` e `cont_n` para constar operações constantes e da instância, respectivamente."
   ]
  },
  {
   "cell_type": "code",
   "execution_count": null,
   "metadata": {},
   "outputs": [],
   "source": [
    "# Somatório \n",
    "from typing import List\n",
    "\n",
    "def somatorio(lista: List[int]):\n",
    "    #  Soma os valores dentro de uma lista pelo método interativo\n",
    "    soma = 0\n",
    "    for i in lista:\n",
    "        soma += i\n",
    "    return soma"
   ]
  },
  {
   "cell_type": "code",
   "execution_count": null,
   "metadata": {},
   "outputs": [],
   "source": [
    "lista = []\n",
    "soma = somatorio(lista)\n",
    "print(soma, \"\\n\")\n",
    "\n",
    "lista = [6]\n",
    "soma = somatorio(lista)\n",
    "print(soma, \"\\n\")\n",
    "\n",
    "lista = [6,9]\n",
    "soma = somatorio(lista)\n",
    "print(soma, \"\\n\")"
   ]
  },
  {
   "cell_type": "code",
   "execution_count": null,
   "metadata": {},
   "outputs": [],
   "source": [
    "# Somatório contando operações\n",
    "from typing import List\n",
    "\n",
    "def somatorio(lista: List[int]):\n",
    "    cont_c = 0\n",
    "    cont_n = 0\n",
    "    \n",
    "    # Inicialização da soma, executada uma vez\n",
    "    soma = 0\n",
    "    cont_c += 1\n",
    "\n",
    "    # Inicialização da variável i, executada 1 vez\n",
    "    cont_c += 1\n",
    "    for i in lista: \n",
    "        # internamente, o python usa iteradores, mas podemos ler o for da seguinte forma:\n",
    "        # for i = 0; i < len(lista); i++\n",
    "        #   soma += lista[i]\n",
    "\n",
    "        # Comparação de i com o tamanho da lista, executada n vezes\n",
    "        cont_n += 1\n",
    "\n",
    "        # i++ é a mesma coisa que i = i + 1, portanto\n",
    "        # Leitura de i, executada n vezes\n",
    "        # Atribuição de i, executada n vezes\n",
    "        cont_n += 1\n",
    "        cont_n += 1\n",
    "\n",
    "        # Leitura de soma, executada n vezes\n",
    "        # Atribuição de soma, executada n vezes\n",
    "        cont_n += 1\n",
    "        cont_n += 1\n",
    "        soma += i\n",
    "    \n",
    "    # Retorno, executado 1 vez\n",
    "    cont_c += 1\n",
    "    print(f'T(som) = {cont_n}n + {cont_c}')\n",
    "    return soma"
   ]
  },
  {
   "cell_type": "code",
   "execution_count": null,
   "metadata": {},
   "outputs": [],
   "source": [
    "lista = [1]\n",
    "somatorio(lista)"
   ]
  },
  {
   "attachments": {},
   "cell_type": "markdown",
   "metadata": {},
   "source": [
    "Podemos observar que no algoritmo acima, para uma lista de 1 posição, o tempo de execução é dado pela função de crescimento:\n",
    " \n",
    "> `T`<sub>`(som)`</sub>` = 5n + 3`\n",
    " \n",
    "Pois são realizadas 3 operações independentes da instância e 5 operações que aumentam à medida que o tamanho da entrada aumenta.\n",
    "\n",
    "&nbsp;\n",
    "\n",
    "Existe outra forma de fazer a operção de somatório? Alguém sabe dizer?\n",
    "\n",
    "&nbsp;\n",
    "\n",
    "E se fizéssemos um somatório recursivo?"
   ]
  },
  {
   "cell_type": "code",
   "execution_count": null,
   "metadata": {},
   "outputs": [],
   "source": [
    "from typing import List\n",
    "\n",
    "def somatorio_recursivo(lista: List[int]):\n",
    "\n",
    "    # Soma os valores dentro de uma lista pelo método recursivo\n",
    "    if len(lista) <= 0:\n",
    "        return 0\n",
    "    \n",
    "    return somatorio_recursivo(lista[1:]) + lista[0]"
   ]
  },
  {
   "cell_type": "code",
   "execution_count": null,
   "metadata": {},
   "outputs": [],
   "source": [
    "lista = []\n",
    "soma = somatorio_recursivo(lista)\n",
    "print(soma, \"\\n\")\n",
    "\n",
    "lista = [6]\n",
    "soma = somatorio_recursivo(lista)\n",
    "print(soma, \"\\n\")\n",
    "\n",
    "lista = [6,9]\n",
    "soma = somatorio_recursivo(lista)\n",
    "print(soma, \"\\n\")"
   ]
  },
  {
   "attachments": {},
   "cell_type": "markdown",
   "metadata": {},
   "source": [
    "Para o algoritmo `somatorio_recursivo` vamos passar a referência de um contador, de forma que as novas chamadas não inicializem nosso contador com 0 e possamos assim contabilizar exatamente quantas chamadas são realizadas;"
   ]
  },
  {
   "cell_type": "code",
   "execution_count": 17,
   "metadata": {},
   "outputs": [],
   "source": [
    "from typing import List\n",
    "\n",
    "def somatorio_recursivo(lista: List[int], contador: int = 0):\n",
    "\n",
    "    # Comparação do tamanho com 0, executada n vezes\n",
    "    contador += 1\n",
    "    if len(lista) <= 0:\n",
    "        # Retorno, executado 1 vez\n",
    "        contador += 1\n",
    "        print(f'T(som_rec) = {contador}')\n",
    "        return 0\n",
    "    \n",
    "    # Para a atribuição, retorno e soma, executada n vezes\n",
    "    contador += 1\n",
    "    return somatorio_recursivo(lista[1:], contador) + lista[0]"
   ]
  },
  {
   "cell_type": "code",
   "execution_count": 20,
   "metadata": {},
   "outputs": [
    {
     "name": "stdout",
     "output_type": "stream",
     "text": [
      "T(SomRecC) = 2\n",
      "0 \n",
      "\n",
      "T(SomRecC) = 4\n",
      "6 \n",
      "\n",
      "T(SomRecC) = 6\n",
      "15 \n",
      "\n"
     ]
    }
   ],
   "source": [
    "lista = []\n",
    "soma = somatorio_recursivo(lista)\n",
    "print(soma, \"\\n\")\n",
    "\n",
    "lista = [6]\n",
    "soma = somatorio_recursivo(lista)\n",
    "print(soma, \"\\n\")\n",
    "\n",
    "lista = [6,9]\n",
    "soma = somatorio_recursivo(lista)\n",
    "print(soma, \"\\n\")"
   ]
  },
  {
   "attachments": {},
   "cell_type": "markdown",
   "metadata": {},
   "source": [
    "A partir da execução obtemos a seguinte fórmula, chamada de **relação de recorrência** para denotar `T`<sub>`(som_rec)`</sub>\n",
    " \n",
    "> `T`<sub>`(som_rec)`</sub>` = 2`, quando tamanho = 0\n",
    ">\n",
    "> `T`<sub>`(som_rec)`</sub>` = 2 + T`<sub>`(som_rec)`</sub>`(n-1)`, quando tamanho > 0\n",
    " \n",
    "e podemos resolvê-la através de repetidas substituições para cada ocorrência da função\n",
    " \n",
    "```\n",
    "T(som_rec) = 2 + T(som_rec)(n-1)\n",
    "           = 2 + 2 + T(som_rec)(n-2)\n",
    "           = 2(2) + T(som_rec)(n-2)\n",
    "           .\n",
    "           .\n",
    "           .\n",
    "           = n(2) + T(som_rec)(0)\n",
    "           = 2n + 2                         quando n >= 0\n",
    "```\n",
    " \n",
    "Sendo assim, podemos definir que\n",
    " \n",
    "> `T`<sub>`(som_rec)`</sub>` = 2n + 2`\n",
    "&nbsp;"
   ]
  },
  {
   "attachments": {},
   "cell_type": "markdown",
   "metadata": {},
   "source": [
    "Considerando o tempo de processamento, para estes exemplos de somatório, sugere-se que seja utilizado o método recursivo ao invés do interativo. Contudo, é necessário avaliar se não vai ocorrer estouro de pilha (_Stack Overflow_) durante a execução do programa por conta da recursão."
   ]
  },
  {
   "attachments": {},
   "cell_type": "markdown",
   "metadata": {},
   "source": [
    "## Análise Assintótica e Notação Assintótica\n",
    "\n",
    "Agora que compreendemos como avaliar e obter uma função matemática que expresse a complexidade de tempo de um algoritmo, ou seja, a ordem de crescimento do tempo de execução de um algoritmo, podemos comparar seu desempenho com o desempenho de algoritmos alternativos.\n",
    "\n",
    "> Análise assintótica é a análise da ordem de crescimento do tempo de execução *no limite* à medida que aumenta o tamanho da entrada de dados sem limitação.\n",
    "\n",
    "\n",
    "Lembram qual era a função de crescimento do método `T`<sub>`(som)`</sub>? Conforme nós havíamos visto antes, era `T`<sub>`(som)`</sub>` = 5n + 3`. Este tipo de função, matematicamente falando, tem um crescimento linear, enquanto uma função genérica qualquer do tipo `T`<sub>`(p)`</sub>` = 3n`<sup>`2`</sup>` + 2n + 3` possui um comportamento quadrático. Sendo assim, a medida que aumenta a entrada (`n`) sabemos que `T`<sub>`(som)`</sub> vai apresentar um crescimento de tempo de execução linear, enquanto nossa função genérica `T`<sub>`(p)`</sub> vai ter um crescimento de tempo quadrático.\n",
    "\n",
    "&nbsp;\n",
    "\n",
    "Bom, enquanto a análise assintótica define a ordem de crescimento *no limite* - com este termo estamos nos referindo a um aumento de `n` sem definir um valor máximo. Estamos considerando que a entrada tende ao infinito -, a **Notação Assintótica** é a forma que usamos para descrever o tempo de execução dos algoritmos, considerando somente os termos mais relevantes da função e ignorando constantes e termos menos significativos.\n",
    "\n",
    "&nbsp;\n",
    "\n",
    "Considerando `T`<sub>`(som)`</sub>` = 5n + 3`, para uma entrada suficientemente grande (`n=100.000` por exemplo):\n",
    "- A constante `+ 3` faz alguma diferença, pensando na matemática? Não.\n",
    "\n",
    "E na função genérica `T`<sub>`(p)`</sub>` = 3n`<sup>`2`</sup>` + 2n + 3`, para um `n=100.000`?\n",
    "- `T`<sub>`(p)`</sub>` = 30.000.000.000 + 200.000 + 3`. \n",
    "- Para este caso, `2n + 3` são pouco significativos, dado o valor de `3n`<sup>`2`</sup>.\n",
    " \n",
    "Por isso, daqui pra frente, vamos indicar `somente o termo mais relevante` da função (nesse caso o `5n` e o `3n`<sup>`2`</sup> respectivamente).\n",
    "\n",
    "&nbsp;\n",
    "\n",
    "Um ponto muito importante sobre a notação assintótica é que estamos falando sobre o tempo de execução, mas qual tempo seria esse? É o tempo no melhor caso do algoritmo? Ou seria o pior caso? Ou é o caso médio? Na verdade, a notação assintótica define limites **superiores**, **inferiores** ou **médio**, para o tempo de execução dos algoritmos. \n",
    "\n",
    "São conhecidos como Big- <img src=\"https://i.upmath.me/svg/O\" alt=\"O\" style=\"background:white\" /> (Big Oh), Big - <img src=\"https://i.upmath.me/svg/%5COmega\" alt=\"\\Omega\" style=\"background:white\"/> <strong>(Big Ômega)</strong> e Big - <img src=\"https://i.upmath.me/svg/%20%5CTheta%20\" alt=\" \\Theta \" style=\"background:white\"/> <strong>(Big Theta)</strong>, respectivamente.\n",
    "\n",
    "&nbsp;\n"
   ]
  },
  {
   "attachments": {},
   "cell_type": "markdown",
   "metadata": {},
   "source": [
    "### Big-O\n",
    " \n",
    "Big-O é a notação assintótica mais utilizada, pois ela define o limite superior do tempo de processamento de uma função `f`<sub>`(n)`</sub> de um algoritmo para entradas suficientemente grandes, ou seja, o pior caso.\n",
    "\n",
    "Dizemos que o tempo de execução é \"Big-O de `f`<sub>`(n)`</sub> ou apenas `O de f`<sub>`(n)`</sub>.\n",
    " \n",
    "Limite superior significa que, dada uma entrada de tamanho significativo, o algoritmo deve ter um tempo de processamento menor ou igual ao `O(f`<sub>`(n)`</sub>`)`, nunca superior a este. Para entradas pequenas ele pode ser maior ou menor que `O(f`<sub>`(n)`</sub>`)`.\n",
    "\n",
    "Observem o gráfico abaixo:\n",
    " \n",
    "![Big-O](https://s3-sa-east-1.amazonaws.com/lcpi/b24992cb-45de-4516-ad16-178f8e28f2fc.png)\n",
    " \n",
    "A linha azul demonstra o comportamento do nosso algoritmo `T`<sub>`(som)`</sub>` = 5n + 3` à medida que `n` tende ao infinito, enquanto a linha púrpura é o limite superior O(n).\n",
    "\n",
    "&nbsp;\n"
   ]
  },
  {
   "attachments": {},
   "cell_type": "markdown",
   "metadata": {},
   "source": [
    "\n",
    "### Big-Ômega <img src=\"https://i.upmath.me/svg/%5COmega\" alt=\"\\Omega\" style=\"background:white\"/>\n",
    "\n",
    "Big - <img src=\"https://i.upmath.me/svg/%20%5COmega%20\" alt=\" \\Omega \" style=\"background:white\"/> é a notação assintótica que define o limite inferior do tempo de processamento de uma função `f`<sub>`(n)`</sub>, ou seja, o melhor caso.\n",
    "\n",
    "Dizemos que o tempo de execução é `Big-`<img src=\"https://i.upmath.me/svg/%20%5COmega%20\" alt=\" \\Omega \" style=\"background:white\"/>` de f`<sub>`(n)`</sub> ou apenas <img src=\"https://i.upmath.me/svg/%20%5COmega%20\" alt=\" \\Omega \" style=\"background:white\"/>` de f`<sub>`(n)`</sub>.\n",
    "\n",
    "\n",
    "\n",
    "Limite inferior significa que, dada uma entrada de tamanho significativo, o algoritmo deve ter um tempo de processamento maior ou igual ao <img src=\"https://i.upmath.me/svg/%20%5COmega%20\" alt=\" \\Omega \" style=\"background:white\"/>`(f`<sub>`(n)`</sub>`)`, nunca inferior a este. Para entradas pequenas ele pode ser maior ou menor que <img src=\"https://i.upmath.me/svg/%20%5COmega%20\" alt=\" \\Omega \" style=\"background:white\"/>`(f`<sub>`(n)`</sub>`)`.\n",
    "\n",
    "Observem o gráfico abaixo:\n",
    " \n",
    "![Big-Ômega](https://s3-sa-east-1.amazonaws.com/lcpi/843a7373-fdb3-48a0-bcb8-87ba8cd9ff21.png)\n",
    " \n",
    "A linha azul demonstra o comportamento do nosso algoritmo `T`<sub>`(som)`</sub>` = 5n + 3` à medida que `n` tende ao infinito, enquanto a linha laranja é o limite inferior Ômega<img src=\"https://i.upmath.me/svg/%20%5COmega%20\" alt=\" \\Omega \" style=\"background:white\"/>(n)\n",
    "\n",
    "&nbsp;"
   ]
  },
  {
   "attachments": {},
   "cell_type": "markdown",
   "metadata": {},
   "source": [
    "### Big-Theta <img src=\"https://i.upmath.me/svg/%20%5CTheta%20\" alt=\"\\Theta\" style=\"background:white\"/>\n",
    "\n",
    "Big - <img src=\"https://i.upmath.me/svg/%20%5CTheta%20\" alt=\" \\Theta \" style=\"background:white\"/> é a notação assintótica que define os limites superior e inferior do tempo de processamento de uma função `f`<sub>`(n)`</sub>, ou seja, o caso médio.\n",
    "\n",
    "Dizemos que o tempo de execução é `Big-`<img src=\"https://i.upmath.me/svg/%20%5CTheta%20\" alt=\" \\Theta \" style=\"background:white\"/>` de f`<sub>`(n)`</sub> ou apenas <img src=\"https://i.upmath.me/svg/%20%5CTheta%20\" alt=\" \\Theta \" style=\"background:white\"/>` de f`<sub>`(n)`</sub>.\n",
    "\n",
    "No caso do Big-<img src=\"https://i.upmath.me/svg/%20%5CTheta%20\" alt=\" \\Theta \" style=\"background:white\"/>, dada uma entrada de tamanho significativo, o algoritmo deve ter um tempo de processamento menor ou igual ao limite superior e maior ou igual ao limite inferior. Novamente, para entradas pequenas ele pode ficar fora dos limites superior e inferior.\n",
    "\n",
    "Observem o gráfico abaixo:\n",
    " \n",
    "![Big-Theta](https://s3-sa-east-1.amazonaws.com/lcpi/1dbd3101-dffc-4961-943f-83c9c86d499f.png)\n",
    " \n",
    " \n",
    "A linha azul demonstra o comportamento do nosso algoritmo `T`<sub>`(som)`</sub>` = 5n + 3` à medida que `n` tende ao infinito, enquanto a linha púrpura é o limite superior O(n) e a linha laranja é o limite inferior Ômega <img src=\"https://i.upmath.me/svg/%20%5COmega%20\" alt=\" \\Omega \" style=\"background:white\"/>(n)"
   ]
  },
  {
   "attachments": {},
   "cell_type": "markdown",
   "metadata": {},
   "source": [
    "## Ordens de crescimento\n",
    " \n",
    "Abaixo podemos ver a terminologia das classes mais comuns de funções, bem como uma tabela com a função, a designação e o Big-O de outras ordens que costumam aparecer com frequência e um gráfico comparativo entre algumas ordens de crescimento.\n",
    " \n",
    "- Logarítmica - O(log n)\n",
    "- Linear - O(n)\n",
    "- Quadrática - O(n<sup>2</sup>)\n",
    "- Polinomial - O(n<sup>k</sup>), onde k >= 1\n",
    "- Exponencial - O(a<sup>n</sup>), onde a >= 1\n",
    "\n",
    "&nbsp;\n",
    " \n",
    "Função              | Designação        | Big-O\n",
    "---------           | ------            | ------\n",
    "c                   | Constante         | O(1)\n",
    "log N               | Logaritmo         | O(log n)\n",
    "log<sup>2</sup> N   | Logaritmo Quadrado | O(log<sup>2</sup> n)\n",
    "N                   | Linear            | O(n)\n",
    "N log N             | N logN            | O(n log n)\n",
    "N<sup>2</sup>       | Quadrática        | O(n<sup>2</sup>)\n",
    "N<sup>3</sup>       | Cúbica            | O(n<sup>3</sup>)\n",
    "2<sup>n</sup>       | Exponencial       | O(2<sup>n</sup>)\n",
    "\n",
    "&nbsp;\n",
    "\n",
    "![Comparativo entre as ordens de crescimento](https://s3-sa-east-1.amazonaws.com/lcpi/44c9236f-0c7f-486e-9c73-24a08b582051.png)"
   ]
  }
 ],
 "metadata": {
  "kernelspec": {
   "display_name": "Python 3",
   "language": "python",
   "name": "python3"
  },
  "language_info": {
   "codemirror_mode": {
    "name": "ipython",
    "version": 3
   },
   "file_extension": ".py",
   "mimetype": "text/x-python",
   "name": "python",
   "nbconvert_exporter": "python",
   "pygments_lexer": "ipython3",
   "version": "3.10.5 (tags/v3.10.5:f377153, Jun  6 2022, 16:14:13) [MSC v.1929 64 bit (AMD64)]"
  },
  "orig_nbformat": 4,
  "vscode": {
   "interpreter": {
    "hash": "42478136ef40f8edd3f4cf991c33cffcfc620a666d0dc328e82cc0ef4d7b2c04"
   }
  }
 },
 "nbformat": 4,
 "nbformat_minor": 2
}
