{
 "cells": [
  {
   "attachments": {},
   "cell_type": "markdown",
   "metadata": {},
   "source": [
    "## Métodos de busca\n",
    "\n",
    "Vamos considerar o seguinte cenário: Vocês querem procurar um livro na biblioteca. Existe uma única estante linear, com uma única prateleira que contém 100 livros mas não tem absolutamente nenhuma marcação sobre início e fim das letras alfabéticas. Para piorar, todos os livros estão com a lombada para dentro da estante e as páginas viradas para vocês, de forma que será necessário puxar um livro para ver o título. Como vocês procurariam o livro? Demoraria muito tempo?\n",
    "\n",
    "\n",
    "_Mas por que devemos nos preocupar tanto com o custo? Não vamos achar o elemento do mesmo jeito?_\n",
    "\n",
    "Bom, devemos nos preocupar com o custo porque a busca é uma das operações mais comuns em computação. Certamente vamos querer procurar uma informação, seja no banco de dados, em memória etc. Agora, pensem em uma lista com 100.000.000 de elementos. \n",
    " \n",
    "Que tal se nosso programa fizesse 5 pesquisas diferentes nesse 100.000.000 de elementos a fim de encontrar os resultados desejados (que por sinal estão nas últimas 5 posições da lista, mas a gente não tem como saber disso...). Vai demorar um bocado de tempo para nosso programa responder, não vai?\n",
    " \n",
    "Então, precisamos de mecanismos para realizar essas buscas de forma mais eficiente, a fim de otimizar o tempo, a memória, consumir menos processamento etc.\n",
    "\n",
    "### Busca sequencial\n",
    "\n",
    "Bom gente, sobre o algoritmo de busca sequencial nem vale a pena perdermos tempo falando, pois a implementação dele é trivial. É o algoritmo mais básico de pesquisa. É só percorrer a lista procurando um elemento e fim de papo. \n",
    "\n",
    "Contudo, podemos pensar em algumas melhorias para ele, certo?\n",
    "\n",
    "Vamos pensar que temos uma lista não ordenada de 50 elementos não repetidos.\n",
    "\n",
    "Durante a execução do nosso programa vamos procurar elementos nessa lista inúmeras vezes. Mas muitas mesmo. Podemos fazer algum tipo de melhoria no algoritmo da busca sequencial, com base nessa informação?\n"
   ]
  },
  {
   "attachments": {},
   "cell_type": "markdown",
   "metadata": {},
   "source": [
    "\n",
    "E se eu disser que podemos pesquisar o mesmo número várias vezes em sequência. Por exemplo, pesquisamos o número 33 umas 15 vezes seguidas. E agora, com essas informações, podemos fazer alguma melhoria na busca sequencial?\n"
   ]
  },
  {
   "attachments": {},
   "cell_type": "markdown",
   "metadata": {},
   "source": [
    "\n",
    "Então, temos 2 opções de melhorias que podem ser feitas.\n",
    "\n",
    "Podemos:\n",
    "\n",
    "- Fazer a transposição do número encontrado uma casa pra esquerda na lista, puxando ele cada vez mais pra frente\n",
    "- Colocar o número encontrado na primeira posição da lista\n",
    "\n",
    "\n",
    "Essas duas estratégias podem ser úteis no cenário que eu descrevi."
   ]
  },
  {
   "cell_type": "code",
   "execution_count": null,
   "metadata": {},
   "outputs": [],
   "source": [
    "# Base\n",
    "def sequential_search(curr_list, x):\n",
    "    count = 0\n",
    "    for idx, value in enumerate(curr_list):\n",
    "        count += 1\n",
    "        if x == value:\n",
    "            print(\"Count: \", count)\n",
    "            return curr_list, value\n",
    "    print(\"Count: \", count)\n",
    "    return curr_list, None"
   ]
  },
  {
   "cell_type": "code",
   "execution_count": null,
   "metadata": {},
   "outputs": [],
   "source": [
    "# Transpondo valores\n",
    "\n",
    "def transpond_sequential_search(curr_list, x):\n",
    "    count = 0\n",
    "    for idx, value in enumerate(curr_list):\n",
    "        count += 1\n",
    "        if x == value:\n",
    "            print(\"Count: \", count)\n",
    "            if idx-1 > 0:\n",
    "                curr_list[idx-1], curr_list[idx] = curr_list[idx], curr_list[idx-1]\n",
    "            return curr_list, value\n",
    "    print(\"Count: \", count)\n",
    "    return curr_list, None"
   ]
  },
  {
   "cell_type": "code",
   "execution_count": null,
   "metadata": {},
   "outputs": [],
   "source": [
    "# Colocando em primeiro\n",
    "\n",
    "def to_first_sequential_search(curr_list, x):\n",
    "    count = 0\n",
    "    for idx, value in enumerate(curr_list):\n",
    "        count += 1\n",
    "        if x == value:\n",
    "            print(\"Count: \", count)\n",
    "            curr_list[0], curr_list[idx] = curr_list[idx], curr_list[0]                \n",
    "            return curr_list, value\n",
    "    print(\"Count: \", count)\n",
    "    return curr_list, None"
   ]
  },
  {
   "attachments": {},
   "cell_type": "markdown",
   "metadata": {},
   "source": [
    "Agora, caso a lista já esteja ordenada, podemos fazer outro tipo de melhoria.\n",
    "\n",
    "Podemos verificar se o número que estamos olhando na lista é maior que o que procuramos. Caso seja, podemos parar de procurar, economizando tempo e espaço.\n"
   ]
  },
  {
   "cell_type": "code",
   "execution_count": null,
   "metadata": {},
   "outputs": [],
   "source": [
    "# Parando o algoritmo em caso de a lista estar ordenada e o elemento for maior que o procurado\n",
    "\n",
    "def for_ordered_sequential_search(curr_list: List, value: int):\n",
    "    found = None\n",
    "    count = 0\n",
    "    for i in curr_list:\n",
    "        count += 1\n",
    "        if i == value:\n",
    "            found = i\n",
    "            break\n",
    "        elif i > value:\n",
    "            break\n",
    "    print(\"Count: \", count)\n",
    "    return curr_list, found"
   ]
  },
  {
   "attachments": {},
   "cell_type": "markdown",
   "metadata": {},
   "source": [
    "### Busca binária\n",
    "\n",
    "Outra abordagem possível para realizar a busca por elementos em uma lista, com uma condição especial, Alguém sabe qual condição é essa?\n",
    "\n",
    "**O array deve estar ordenado.**\n",
    "\n",
    "Essa necessidade se deve à característica da construção do algoritmo de busca binária. Mas como ele funciona?\n",
    "\n",
    "\n",
    "Voltando ao nosso problema inicial da procura de livros na biblioteca, que tal se adotássemos a seguinte estratégia para procurar nosso livro:\n",
    " \n",
    "1. Nos deslocamos para o meio da estante.\n",
    "2. Puxamos o livro do meio da estante (n/2) e vemos se é o que procuramos.\n",
    "3. Se for o que procuramos, retornamos o livro.\n",
    "4. Se não for o livro, e seu título estiver na parte da direita da estante dividida, devolvemos o livro para a estante e repetimos os passos 1, 2 e 3 na \"subestante\" da direita. Se o título estiver à esquerda, repetimos 1, 2 e 3 na subestante da esquerda.\n",
    " \n",
    "Repetimos os 4 passos acima até não ter mais estante para procurar ou achar o livro.\n",
    " \n",
    "&nbsp;\n",
    " \n",
    "Esse mecanismo de busca é chamado de Busca Binária, uma vez que reduzimos pela metade o espaço de busca a cada iteração. Tal técnica se encaixa no paradigma conhecido como **Dividir e Conquistar**, pois dividimos o problema em subproblemas menores a fim de encontrar nossa solução."
   ]
  },
  {
   "cell_type": "code",
   "execution_count": null,
   "metadata": {},
   "outputs": [],
   "source": [
    "# Busca binária\n",
    "\n",
    "def binary_search(curr_list, x):\n",
    "    lower = 0\n",
    "    upper = len(curr_list)-1\n",
    "    while lower <= upper:\n",
    "        mid = floor((lower + upper)/ 2)\n",
    "        print(f'lower: {lower}, upper: {upper}, mid: {mid}')\n",
    "        if curr_list[mid] == x:\n",
    "            return curr_list[mid]\n",
    "        elif curr_list[mid] < x:\n",
    "            lower = mid + 1\n",
    "        else:\n",
    "            upper = mid - 1"
   ]
  },
  {
   "attachments": {},
   "cell_type": "markdown",
   "metadata": {},
   "source": [
    "Além dos métodos já citados para busca, podemos utilizar também a busca interpolada (variante da busca binária, que depende dos dados ordenados e uniformemente distribuídos)busca em árvores e o _Hashing_, dependendo da estrutura de dados que armazena nossos dados."
   ]
  },
  {
   "attachments": {},
   "cell_type": "markdown",
   "metadata": {},
   "source": [
    "## Métodos de ordenação\n",
    "\n",
    "Tentem imaginar a seguinte situação: há muito tempo, quando não havia internet, existia um caderno enorme amarelo, com nomes, telefones, mapas da cidade, endereços, etc. A famosa lista telefônica. Caso estes dados **não** estivessem ordenados por ordem alfabética, conseguem imaginar a dificuldade de localizar um telefone nessa situação?\n",
    "\n",
    "Pois é, esse é só um exemplo da importância da ordenação. Facilitar nosso trabalho para pesquisar coisas.\n",
    "\n",
    "Todos os métodos de ordenação que vamos ver realizam a ordenação com base em comparação de chaves. Outros métodos baseados em distribuição não serão vistos em aula. Mas para quem tiver curiosidade, podem pesquisar por bucket sort ou radix sort na internet.\n",
    "\n",
    "&nbsp;\n",
    "\n",
    "O primeiro método que nós vamos ver é o famoso Bubble Sort."
   ]
  },
  {
   "attachments": {},
   "cell_type": "markdown",
   "metadata": {},
   "source": [
    "### Bubble Sort\n",
    "\n",
    "É um método simples e efetivo para listas com poucos elementos. Ele realiza a ordenação movendo o maior elemento para o final da estrutura, sendo que essa movimentação é realizada `n` vezes onde `n` é a quantidade de itens existentes na estrutura.\n",
    "\n",
    "Vamos implementar ele:"
   ]
  },
  {
   "cell_type": "code",
   "execution_count": null,
   "metadata": {},
   "outputs": [],
   "source": [
    "#bubble_sort(lista):\n",
    "#   para i := até tamanho_lista-1, ate 0, diminui 1\n",
    "#       para j := até i\n",
    "#           se lista[j] > lista[j+1]\n",
    "#               lista[j], lista[j+1] := lista[j+1], lista[j]\n",
    "#    retorna lista\n",
    "\n",
    "def bubble_sort(my_list):\n",
    "    for i in range(len(my_list)-1,0,-1): # começa no len, para no 0, diminui 1 em 1\n",
    "        for j in range(i):\n",
    "            if my_list[j] > my_list[j+1]:\n",
    "                my_list[j], my_list[j+1] = my_list[j+1], my_list[j]\n",
    "    return my_list"
   ]
  },
  {
   "attachments": {},
   "cell_type": "markdown",
   "metadata": {},
   "source": [
    "Olhando para o algoritmo, vocês conseguem perceber um problema nele? Uma dica, não é nada relacionado à implementação, e sim comportamental...\n",
    " \n",
    "Então, no Bubble Sort nós temos dois laços aninhados - `for` - o que faz com que sua complexidade seja `O(n`<sup>`2`</sup>`)` em todos os casos (melhor, médio e pior, mesmo que o array esteja ordenado."
   ]
  },
  {
   "attachments": {},
   "cell_type": "markdown",
   "metadata": {},
   "source": [
    "Agora que implementamos ele, alguém sabe me dizer por que ele não é muito bom para listas grandes?\n",
    "\n",
    "Exato, ele pega um elemento e compara com todo o resto da lista, movendo ele pro final se for maior.\n",
    "\n",
    "Vamos contar quantas operações ele vai fazer, pra ordenar 50 elementos."
   ]
  },
  {
   "cell_type": "markdown",
   "metadata": {},
   "source": [
    "\n",
    "Agora extrapolem pra uma lista com 500.000 registros. 1 milhão, 10 milhões, etc.\n",
    "\n",
    "Ele é fácil de lembrar e implementar. Vale a pena usar ele pra listas pequenas.\n",
    "\n",
    "Pra listas maiores, tem outros melhores."
   ]
  },
  {
   "attachments": {},
   "cell_type": "markdown",
   "metadata": {},
   "source": [
    "## Comparação Big-O\n",
    "Abaixo podemos visualizar a complexidade de alguns dos algoritmos desenvolvidos:\n",
    " \n",
    "Algoritmo         | melhor caso       | média               | pior caso\n",
    "---------         | ------            | ------              | ------\n",
    "Bubble Sort       | O(n<sup>2</sup>)  | O(n<sup>2</sup>)    | O(n<sup>2</sup>)"
   ]
  },
  {
   "attachments": {},
   "cell_type": "markdown",
   "metadata": {},
   "source": [
    "### Insertion Sort\n",
    "\n",
    "Acho que todos aqui já jogaram cartas pelo menos uma vez na vida. Seja poker, canastra, truco ou qualquer outro. Na maioria das vezes, quando pegamos as cartas na mão, separamos as trincas e depois as sequências. À medida que compramos novas cartas, e elas entram em algum ponto da sequência, inserimos ela na posição correta.\n",
    " \n",
    "O algoritmo Insertion Sort segue a mesma dinâmica, como o nome sugere. Vamos inserir os elementos já ordenados, para que não exista o custo posterior de ordená-lo. Ele também é melhor quando utilizado em listas/arrays pequenos ou quando os dados já estão parcialmente ordenados.\n",
    "\n",
    "Vamos implementar ele agora"
   ]
  },
  {
   "cell_type": "code",
   "execution_count": null,
   "metadata": {},
   "outputs": [],
   "source": [
    "#insertion_sort(lista):\n",
    "#   i := 0\n",
    "#   j := 0\n",
    "#   temporario := 0\n",
    "#   enquanto j < tamanho_lista faça\n",
    "#       temporario := lista[j]\n",
    "#       i := j - 1\n",
    "#       enquanto i >= 0 e lista[i] > temporario faça\n",
    "#           lista[i+1] := lista[i]\n",
    "#           i := i - 1\n",
    "#       lista[i+1] := temporario\n",
    "#       j := j + 1\n",
    "#   retorna lista\n",
    "\n",
    "def insertion_sort(my_list):\n",
    "    i = 0\n",
    "    j = 0\n",
    "    temporary = 0\n",
    "    while j < len(my_list):\n",
    "        temporary = my_list[j]\n",
    "        i = j-1\n",
    "        while i >= 0 and my_list[i] > temporary:\n",
    "            my_list[i+1] = my_list[i]\n",
    "            i -= 1\n",
    "        my_list[i+1] = temporary\n",
    "        j += 1\n",
    "    return my_list"
   ]
  },
  {
   "attachments": {},
   "cell_type": "markdown",
   "metadata": {},
   "source": [
    "No Insertion Sort, para cada item da lista vamos percorrer ela da posição `0` até a posição `i = j - 1`, analisando se o elemento da posição `i` é maior que o da posição `j` (o `temporario`). Se for, avança os maiores para a próxima casa, e por fim adiciona o `temporário` na posição correta (`i + 1`).\n",
    " \n",
    "No melhor dos casos, quando a lista já está ordenada, ele vai percorrer uma vez só a lista de tamanho `n`, o que nos dá uma complexidade `O(n)`. No pior dos casos, em que a ordem da lista está invertida, percorreremos 2 vezes a lista `n`, e a complexidade deste algoritmo passa a ser `O(n`<sup>`2`</sup>`)`. Na média, seu desempenho é `O(n`<sup>`2`</sup>`)`."
   ]
  },
  {
   "attachments": {},
   "cell_type": "markdown",
   "metadata": {},
   "source": [
    "## Comparação Big-O\n",
    "Abaixo podemos visualizar a complexidade de alguns dos algoritmos desenvolvidos:\n",
    " \n",
    "Algoritmo         | melhor caso       | média               | pior caso\n",
    "---------         | ------            | ------              | ------\n",
    "Bubble Sort       | O(n<sup>2</sup>)  | O(n<sup>2</sup>)    | O(n<sup>2</sup>)\n",
    "Insertion Sort    | O(n)              | O(n<sup>2</sup>)    | O(n<sup>2</sup>)"
   ]
  },
  {
   "attachments": {},
   "cell_type": "markdown",
   "metadata": {},
   "source": [
    "### Merge Sort\n",
    "\n",
    "Existe uma estratégia de resolução de problemas na computação chamada de **Dividir e Conquistar**, descrita abaixo.\n",
    " \n",
    "> Dada uma entrada de tamanho `n`, dividir e conquistar sugere que a entrada original seja dividida em `k` subconjuntos menores distintos em que `1 < k < n`, gerando assim `k` subproblemas. Estes subproblemas devem ser resolvidos, e por fim deve existir um método que combine estes subproblemas resolvidos em uma solução para o todo.\n",
    ">\n",
    "> Caso a entrada `n` seja grande, de forma que os subproblemas `k` ainda sejam grandes após a aplicação da divisão, o método de divisão pode ser reaplicado até encontrar subproblemas menores que possam ser tratados.\n",
    "&nbsp;\n",
    " \n",
    "O algoritmo Merge Sort utiliza a estratégia de divisão e conquista, dividindo um array de tamanho `n` em partes menores (de tamanho `n/2`) e ordenando estas partes menores na hora de realizar a união delas. Ao chegar na entrada de tamanho `n`, ela está ordenada.\n",
    "\n",
    "vamos implementar ele agora"
   ]
  },
  {
   "cell_type": "code",
   "execution_count": null,
   "metadata": {},
   "outputs": [],
   "source": [
    "#call_merge_sort(lista):\n",
    "#   retorna merge_sort(lista, 0, tamanho_lista-1)\n",
    "\n",
    "#merge_sort(lista, inf, sup)\n",
    "#   se inf < sup\n",
    "#       meio := floor((inf + sup) / 2)\n",
    "#       merge_sort(lista, inf, meio)\n",
    "#       merge_sort(lista, meio + 1, sup)\n",
    "#       retorna merge_sort_join(lista, inf, meio, sup)   \n",
    "\n",
    "#merge_sort_join(lista, inf, meio, sup)\n",
    "#   h := inf\n",
    "#   i := inf\n",
    "#   j := meio + 1\n",
    "#   nova_lista := inicializa lista com valor -1 em todas as posições, de tamanho igual a lista\n",
    "#   enquanto h <= meio e j <= sup faça\n",
    "#       se lista[h] <= lista[j] então\n",
    "#           nova_lista[i] := lista[h]\n",
    "#           incrementa h\n",
    "#       senão\n",
    "#           nova_lista[i] := lista[j]\n",
    "#           incrementa j\n",
    "#       incrementa i\n",
    "#   se h > meio então\n",
    "#       k := j\n",
    "#       enquanto k <= sup faça\n",
    "#           nova_lista[i] := lista[k]\n",
    "#           incrementa k\n",
    "#           incrementa i\n",
    "#   senão\n",
    "#       k := h\n",
    "#       enquanto k <= meio, faça\n",
    "#           nova_lista[i] := lista[k]\n",
    "#           incrementa k\n",
    "#           incrementa i\n",
    "#   k := inf\n",
    "#   enquanto k <= sup faça\n",
    "#           lista[k] := nova_lista[k]\n",
    "#           incrementa k\n",
    "#   retorna nova_lista\n",
    "\n",
    "from math import floor\n",
    "\n",
    "def call_merge_sort(my_list):\n",
    "    return merge_sort(my_list, 0, len(my_list)-1)\n",
    "\n",
    "def merge_sort(my_list, lower, upper):\n",
    "    if lower < upper:\n",
    "        mid = floor((lower + upper) / 2)\n",
    "        merge_sort(my_list, lower, mid)\n",
    "        merge_sort(my_list, mid+1, upper)\n",
    "        return merge_sort_join(my_list, lower, mid, upper)\n",
    "\n",
    "def merge_sort_join(my_list, lower, mid, upper):\n",
    "    h = lower\n",
    "    i = lower\n",
    "    j = mid + 1\n",
    "    aux_list = [-1] * len(my_list)\n",
    "    while h <= mid and j <= upper:\n",
    "        if my_list[h] <= my_list[j]:\n",
    "            aux_list[i] = my_list[h]\n",
    "            h += 1\n",
    "        else:\n",
    "            aux_list[i] = my_list[j]\n",
    "            j += 1\n",
    "        i += 1\n",
    "    if h > mid:\n",
    "        k = j\n",
    "        while k <= upper:\n",
    "            aux_list[i] = my_list[k]\n",
    "            k += 1\n",
    "            i += 1\n",
    "    else:\n",
    "        k = h\n",
    "        while k <= mid:\n",
    "            aux_list[i] = my_list[k]\n",
    "            k += 1\n",
    "            i += 1\n",
    "    k = lower\n",
    "    while k <= upper:\n",
    "        my_list[k] = aux_list[k]\n",
    "        k += 1\n",
    "    return my_list\n"
   ]
  },
  {
   "cell_type": "code",
   "execution_count": null,
   "metadata": {},
   "outputs": [],
   "source": [
    "from random import randint\n",
    "\n",
    "my_list = []\n",
    "for i in range(50):\n",
    "    x = randint(0,200)\n",
    "    while x in my_list:\n",
    "        x = randint(0,200)\n",
    "    my_list.append(x)\n",
    "\n",
    "print(my_list)"
   ]
  },
  {
   "cell_type": "code",
   "execution_count": null,
   "metadata": {},
   "outputs": [],
   "source": [
    "alist = call_merge_sort(my_list)\n",
    "print(alist)"
   ]
  },
  {
   "attachments": {},
   "cell_type": "markdown",
   "metadata": {},
   "source": [
    "Podemos observar que o algoritmo Merge Sort realiza sucessivas chamadas recursivas no array de tamanho `n`, dividindo do `índice menor` até o `meio` do array, e do `meio + 1` até o `índice maior`, até que o subproblema (chamado de `sp` mais adiante) tenha tamanho `1`,\n",
    " \n",
    "Quando ele tem tamanho `1`, começa a retornar, fazendo a ordenação do `sp[indice menor, meio]` com o `sp(meio+1, indice maior)`. Para facilitar o entendimento, observe a representação do funcionamento desse algoritmo em formato de árvore, ilustrando as chamadas realizadas para um array `a` de tamanho `n = 10`\n",
    "\n",
    "![MergeSort Arvore](https://s3-sa-east-1.amazonaws.com/lcpi/1da35c08-ffba-4259-a396-a8b6572abb1e.png)"
   ]
  },
  {
   "attachments": {},
   "cell_type": "markdown",
   "metadata": {},
   "source": [
    "#### Comparação Big-O\n",
    "Abaixo podemos visualizar a complexidade de alguns dos algoritmos desenvolvidos:\n",
    " \n",
    "Algoritmo         | melhor caso       | média               | pior caso\n",
    "---------         | ------            | ------              | ------\n",
    "Bubble Sort       | O(n<sup>2</sup>)  | O(n<sup>2</sup>)    | O(n<sup>2</sup>)\n",
    "Insertion Sort    | O(n)              | O(n<sup>2</sup>)    | O(n<sup>2</sup>)\n",
    "Merge Sort        | O(n log n)        | O(n log n)          | O(n log n)"
   ]
  },
  {
   "attachments": {},
   "cell_type": "markdown",
   "metadata": {},
   "source": [
    "### Quick Sort\n",
    " \n",
    "O algoritmo Quick Sort utiliza o mesmo conceito de divisão e conquista que o Merge Sort, porém aplicado de uma forma diferente.\n",
    " \n",
    "Enquanto o `Merge Sort` divide o array de tamanho `n` em `k` partes menores e ordena na união deles (ou seja, o trabalho está na `conquista` da estratégia), o `Quick Sort` divide o array em `k` partes menores, mas realiza o ordenamento na separação do array (ou seja, o trabalho está na `divisão`). Quando precisa juntar o array, ele já está ordenado, só é necessário agrupar os valores.\n",
    " \n",
    "Vamos implementar o quick sort"
   ]
  },
  {
   "cell_type": "code",
   "execution_count": null,
   "metadata": {},
   "outputs": [],
   "source": [
    "#quick_sort(lista, inf, sup)\n",
    "#   se inf < sup\n",
    "#       pivo := divide(lista, inf, sup)\n",
    "#       lista = quick_sort(lista, inf, pivo -1)\n",
    "#       lista = quick_sort(lista, pivo + 1, sup)\n",
    "#   retorna lista  \n",
    "\n",
    "#divide(lista, inf, sup)\n",
    "#   pivo := lista[sup]\n",
    "#   i := inf-1\n",
    "#   j := int\n",
    "#   enquanto j <= sup-1 faça\n",
    "#       se lista[j] <= pivo então\n",
    "#           incrementa i\n",
    "#           lista[i], lista[j] := lista[j], lista[i]\n",
    "#       incrementa j\n",
    "#   lista[i+1], lista[sup] := lista[sup], lista[i+1]\n",
    "#   retorna i+1"
   ]
  },
  {
   "attachments": {},
   "cell_type": "markdown",
   "metadata": {},
   "source": [
    "Ao receber um array `A`, com o indicativo do início `A[0]` e do fim do array `A[n]`, o quicksort realiza os seguintes procedimentos:\n",
    " \n",
    "Seleciona um `pivot`, neste caso o elemento final `A[n]` do array que vai da posição inicial até a final (`A[0 ... n]`) e reorganiza o array de forma que os elementos à `esquerda` do `pivot` sejam menores ou iguais a ele, e a `direita` maiores ou iguais a ele. Neste momento não importa a ordem destes elementos, apenas a relação entre eles e o pivot. Esse procedimento é chamado de particionamento, e a posição final do pivot é a posição devolvida ao fim do método `Particiona`, chamada de posição `i`.\n",
    " \n",
    "Após inserir o `pivot` na posição correta, realizamos uma nova chamada recursiva para o sub-array `k`, que vai da posição inicial `A[0]` até a posição `A[i - 1]` e outra chamada que vai da posição `A[i + 1]` até `A[n]`, assim sucessivamente até que atinja a condição de parada da recursão. Neste caso, é quando a posição final é maior do que a posição inicial no array (`i - 1 < 0` e `i + 1 < n`).\n",
    " \n",
    "Ao final do método, o array já está ordenado, e não é necessário realizar nenhum procedimento adicional."
   ]
  },
  {
   "attachments": {},
   "cell_type": "markdown",
   "metadata": {},
   "source": [
    "#### Comparação Big-O\n",
    "Abaixo podemos visualizar a complexidade de alguns dos algoritmos desenvolvidos:\n",
    " \n",
    "Algoritmo         | melhor caso       | média               | pior caso\n",
    "---------         | ------            | ------              | ------\n",
    "Bubble Sort       | O(n<sup>2</sup>)  | O(n<sup>2</sup>)    | O(n<sup>2</sup>)\n",
    "Insertion Sort    | O(n)              | O(n<sup>2</sup>)    | O(n<sup>2</sup>)\n",
    "Merge Sort        | O(n log n)        | O(n log n)          | O(n log n)\n",
    "Quick Sort        | O(n log n)        | O(n log n)          | O(n<sup>2</sup>)"
   ]
  },
  {
   "attachments": {},
   "cell_type": "markdown",
   "metadata": {},
   "source": [
    "### Recapitulando\n",
    "- Ordenação é uma atividade comum e extremamente importante na computação\n",
    "- A escolha de um algoritmo de ordenação deve ser feita com base na necessidade do programador. Para entradas pequenas, poucas operações de ordenação ou demais casos que julgar sem tanta necessidade do melhor algoritmo pode ser escolhido o método mais simples de implementar.\n",
    "- Quando a ordenação é um elemento crucial, executada muitas vezes ou com entradas muito grandes, devemos optar pela que apresente melhor desempenho.\n",
    "- O Bubble Sort é simples, mas com um desempenho ruim para entradas grandes.\n",
    "- O Insertion Sort é bom para quando são poucos elementos a serem ordenados, ou já está quase tudo ordenado.\n",
    "- Merge e Quick Sort possuem excelente desempenho em praticamente todos os cenários."
   ]
  }
 ],
 "metadata": {
  "kernelspec": {
   "display_name": "Python 3",
   "language": "python",
   "name": "python3"
  },
  "language_info": {
   "codemirror_mode": {
    "name": "ipython",
    "version": 3
   },
   "file_extension": ".py",
   "mimetype": "text/x-python",
   "name": "python",
   "nbconvert_exporter": "python",
   "pygments_lexer": "ipython3",
   "version": "3.10.5 (tags/v3.10.5:f377153, Jun  6 2022, 16:14:13) [MSC v.1929 64 bit (AMD64)]"
  },
  "orig_nbformat": 4,
  "vscode": {
   "interpreter": {
    "hash": "42478136ef40f8edd3f4cf991c33cffcfc620a666d0dc328e82cc0ef4d7b2c04"
   }
  }
 },
 "nbformat": 4,
 "nbformat_minor": 2
}
