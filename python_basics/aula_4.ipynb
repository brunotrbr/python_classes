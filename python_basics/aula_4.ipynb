{
 "cells": [
  {
   "attachments": {},
   "cell_type": "markdown",
   "metadata": {},
   "source": [
    "# Coding Tank Santander Coders 2023 - Turma 996"
   ]
  },
  {
   "attachments": {},
   "cell_type": "markdown",
   "metadata": {},
   "source": [
    "## Cronograma de aulas\n",
    "\n",
    "- Aula 1\n",
    "    - Variáveis\n",
    "    - Tipos básicos\n",
    "    - Entradas/Saídas\n",
    "    - Operadores Algébricos\n",
    "    - Operadores de comparação\n",
    "\n",
    "- Aula 2\n",
    "    - Estrutura condicional e controle de fluxo\n",
    "    - Comando if\n",
    "    - Comando else\n",
    "    - Comando Elif\n",
    "\n",
    "- Aula 3\n",
    "    - Estruturas de repetição\n",
    "    - Looping while\n",
    "\n",
    "- Aula 4\n",
    "    - Listas\n",
    "    - Funções, parâmetros e retorno\n",
    "\n",
    "- Aula 5\n",
    "    - Prova"
   ]
  },
  {
   "attachments": {},
   "cell_type": "markdown",
   "metadata": {},
   "source": [
    "---------------------"
   ]
  },
  {
   "attachments": {},
   "cell_type": "markdown",
   "metadata": {},
   "source": [
    "# Listas, Índices, Iterações de listas, Métodos de listas\n",
    "\n",
    "E se quisermos fazer o programa que a pessoa digita 10 números e dizemos o maior, conseguimos?\n",
    "\n",
    "E se quisermos o 2° maior? E se quisermos o 5º? \n",
    "\n",
    "Podemos resolver com **listas**"
   ]
  },
  {
   "attachments": {},
   "cell_type": "markdown",
   "metadata": {},
   "source": [
    "- Listas\n",
    "\n",
    "Listas são coleções de objetos em Python e é expressada em `[]`"
   ]
  },
  {
   "cell_type": "code",
   "execution_count": null,
   "metadata": {},
   "outputs": [],
   "source": [
    "lista_1 = [] # Inicializa lista vazia\n",
    "print(lista_1)\n",
    "lista_2 = [1, 2, 3, 4]\n",
    "print(lista_2)\n",
    "lista_3 = list() # Inicializa lista vazia\n",
    "print(lista_3)\n",
    "lista_4 = [1, 2.5, 4]\n",
    "print(lista_4)\n",
    "lista_5 = ['um', 2, 3.0, True]\n",
    "print(lista_5)\n",
    "lista_6 = [1, 2, [3, 4]]\n",
    "print(lista_6)\n",
    "print(type(lista_6))\n",
    "print(type(lista_6[0]))\n",
    "print(type(lista_6[1]))\n",
    "print(type(lista_6[2]))"
   ]
  },
  {
   "cell_type": "code",
   "execution_count": null,
   "metadata": {},
   "outputs": [],
   "source": [
    "# Índices no python sempre começa no ZERO\n",
    "lista_1 = [1, 2, 3]\n",
    "# indices  0, 1, 2"
   ]
  },
  {
   "cell_type": "code",
   "execution_count": null,
   "metadata": {},
   "outputs": [],
   "source": [
    "# Em listas, a posição dos elementos é importante\n",
    "lista_1"
   ]
  },
  {
   "cell_type": "code",
   "execution_count": null,
   "metadata": {},
   "outputs": [],
   "source": [
    "# Podemos saber a quantidade de elementos da lista\n",
    "len(lista_1)"
   ]
  },
  {
   "cell_type": "code",
   "execution_count": null,
   "metadata": {},
   "outputs": [],
   "source": [
    "# Podemos acessar os elementos da lista\n",
    "print(lista_1[0])\n",
    "print(lista_1[1])\n",
    "print(lista_1[2])\n",
    "# print(lista_1[3]) # Gera erro, pois a lista possui somente 3 elementes, de indice 0 até 2"
   ]
  },
  {
   "cell_type": "code",
   "execution_count": null,
   "metadata": {},
   "outputs": [],
   "source": [
    "# podemos quebrar as listas\n",
    "lista_maior = [1, 2, 3, 4, 5, 6, 7, 8, 9, 10]\n",
    "print(lista_maior)\n",
    "\n",
    "# Sintaxe: lista[indice_inicio:indice_fim]\n",
    "# # , lembrando que o valor do índice do fim não entra na lista\n",
    "print(lista_maior[2:5]) # corta a lista de 2 até (5-1)\n",
    "# [3, 4]\n",
    "# [3, 4, 5, 6]\n",
    "# [3, 4, 5]\n",
    "\n",
    "print(lista_maior[:8]) # pega da posição 0 até indice-1 (8-1)\n",
    "# [1,2,3,4,5,6,7]\n",
    "print(lista_maior[4:]) # pega da posição 4 até o final da lista\n",
    "# [1,2,3,4,5,6,7]\n",
    "\n",
    "# podemos usar o LEN para obter o tamanho da lista, e acessar o elemento na última posição da lista\n",
    "print(lista_maior[len(lista_maior)-1]) # pegar o último elemento da lista\n",
    "print(lista_maior[-1]) # pegar o último elemento da lista sem o len, pois índices negativos fazem a lista ser percorrida de trás pra frente\n",
    "print(lista_maior[-3])\n",
    "print(lista_maior[-4])\n",
    "\n",
    "# Obter sub listas usando indices negativos, que percorrem a lista de trás pra frente\n",
    "# Busca os elementos do índice -8, ou seja, iniciando no final da lista contamos 8 posições em direção ao início\n",
    "# # até a posição -4 posições sem incluir ela. Ou seja, iniciando do final, conta 4 posições em direção ao início, e pega a próxima (-4-1)\n",
    "print(lista_maior[-8:-4]) \n",
    "print(lista_maior[:-4])\n",
    "print(lista_maior[-5:])\n",
    "\n",
    "# Pular n elementos da lista\n",
    "# Sintaxe: lista[indice_inicio:indice_fim:quantidade_pulada]\n",
    "print(lista_maior[1:9:2])\n",
    "print(lista_maior[0:9:3])"
   ]
  },
  {
   "cell_type": "code",
   "execution_count": null,
   "metadata": {},
   "outputs": [],
   "source": [
    "# podemos substituir um valor da lista\n",
    "lista_11 = [5, 8, 9]\n",
    "print(lista_11)\n",
    "lista_11[1] = 15\n",
    "print(lista_11)"
   ]
  },
  {
   "cell_type": "code",
   "execution_count": null,
   "metadata": {},
   "outputs": [],
   "source": [
    "# podemos acrescentar valores na lista --> usando a função append\n",
    "lista_11 = [5, 8, 9]\n",
    "print(lista_11)\n",
    "lista_11.append(68)\n",
    "print(lista_11)"
   ]
  },
  {
   "attachments": {},
   "cell_type": "markdown",
   "metadata": {},
   "source": [
    "Existem várias outras funções/métodos de listas que vocês irão ver nos próximos módulo, como:\n",
    "\n",
    "- insert\n",
    "- remove\n",
    "- pop\n",
    "- sorted\n",
    "- reverse\n",
    "- index\n",
    "- max, min, len\n",
    "    "
   ]
  },
  {
   "attachments": {},
   "cell_type": "markdown",
   "metadata": {},
   "source": [
    "## Maneiras de percorrer uma lista\n",
    "\n",
    "numeros = [1, 3, 5, 7, 9]\n",
    "\n",
    "------------------------------------\n",
    "\n",
    "- while\n",
    "\n",
    "Pros: Eu sei não só o elemento mas sei o indice também   \n",
    "\n",
    "Contra: Eu preciso controlar o indice\n",
    "\n",
    "```python\n",
    "contador = 0\n",
    "while (contador < len(numeros)):\n",
    "    print(numeros[contador])\n",
    "    contador = contador + 1  Se eu esquecer essa linha\n",
    "```\n",
    "------------------------------------\n",
    "\n",
    "- for in range\n",
    "\n",
    "Pros: Sei o indice, não preciso controlar o loop  \n",
    "\n",
    "Contra: Precisa saber usar a função range  \n",
    "range(5) ->  [0, 1, 2, 3, 4]\n",
    "\n",
    "```python\n",
    "numeros = [1, 3, 5, 7, 9]\n",
    "for indice in range(len(numeros)):\n",
    "    print(numeros[indice])\n",
    "```\n",
    "\n",
    "------------------------------------\n",
    "\n",
    "- for\n",
    "\n",
    "Pros: não preciso me preocupar com o indice  \n",
    "\n",
    "Contra: não sei indice\n",
    "\n",
    "```python\n",
    "numeros = [1, 3, 5, 7, 9]\n",
    "\n",
    "for numero in numeros:  numero é uma especie de variavel temporaria\n",
    "    print(numero)\n",
    "```"
   ]
  },
  {
   "attachments": {},
   "cell_type": "markdown",
   "metadata": {},
   "source": [
    "### While"
   ]
  },
  {
   "attachments": {},
   "cell_type": "markdown",
   "metadata": {},
   "source": [
    "Como adicionar vários elementos a uma lista enquanto o usuário fornece os valores? Se o usuário digitar o 0, finaliza o programa."
   ]
  },
  {
   "cell_type": "code",
   "execution_count": null,
   "metadata": {},
   "outputs": [],
   "source": [
    "\n",
    "lista = []\n",
    "numero = int(input('Informe um número:'))\n",
    "\n",
    "while numero != 0:\n",
    "  lista.append(numero)\n",
    "  numero = int(input('Informe um número:'))\n",
    "print(lista)"
   ]
  },
  {
   "attachments": {},
   "cell_type": "markdown",
   "metadata": {},
   "source": [
    "Dada uma lista de números, somar os elementos dessa lista usando os índices."
   ]
  },
  {
   "cell_type": "code",
   "execution_count": null,
   "metadata": {},
   "outputs": [],
   "source": [
    "\n",
    "lista_maior = [1, 2, 3, 4, 5, 6, 7, 8, 9, 10]\n",
    "soma = 0\n",
    "indice = 0\n",
    "\n",
    "while indice < len(lista_maior):\n",
    "  print('Índice: ', indice)\n",
    "  soma = soma + lista_maior[indice]\n",
    "  indice += 1\n",
    "\n",
    "print(soma)\n",
    "\n",
    "sum(lista_maior) # outra forma de somar todos os elementos de uma lista"
   ]
  },
  {
   "attachments": {},
   "cell_type": "markdown",
   "metadata": {},
   "source": [
    "Crie uma lista qualquer e imprima cada um dos elementos usando while."
   ]
  },
  {
   "cell_type": "code",
   "execution_count": null,
   "metadata": {},
   "outputs": [],
   "source": [
    "numeros = [1, 3, 5, 7, 9]\n",
    "indice = 0\n",
    "\n",
    "while indice < len(numeros):\n",
    "    print(numeros[indice])\n",
    "    indice += 1"
   ]
  },
  {
   "attachments": {},
   "cell_type": "markdown",
   "metadata": {},
   "source": [
    "Crie uma lista crescente (começando do 0) com a quantidade de elementos dada pelo usuário."
   ]
  },
  {
   "cell_type": "code",
   "execution_count": null,
   "metadata": {},
   "outputs": [],
   "source": [
    "numero = int(input('Digite a quantidade da lista:'))\n",
    "\n",
    "lista = []\n",
    "indice = 0\n",
    "while indice < numero:\n",
    "    lista.append(indice)\n",
    "    indice += 1\n",
    "print(lista)"
   ]
  },
  {
   "attachments": {},
   "cell_type": "markdown",
   "metadata": {},
   "source": [
    "### For in range"
   ]
  },
  {
   "cell_type": "code",
   "execution_count": null,
   "metadata": {},
   "outputs": [],
   "source": [
    "numeros = [1, 3, 5, 7, 9] # tenho essa lista\n",
    "# imprimir todos os elementos dessa lista sem usar o while\n",
    "\n",
    "print(numeros[0]) # ---> numeros[i]\n",
    "print(numeros[1])\n",
    "print(numeros[2])\n",
    "print(numeros[3])\n",
    "print(numeros[4])\n",
    "\n",
    "\n",
    "for indice in range(5): #range é exclusivo range(5) = range(0,5) = range(inicio,fim)\n",
    "    print(numeros[indice])"
   ]
  },
  {
   "cell_type": "code",
   "execution_count": null,
   "metadata": {},
   "outputs": [],
   "source": [
    "numeros = [1, 3, 5, 7, 9, 11]\n",
    "\n",
    "# Generalizando para o tamanho de qualquer lista\n",
    "for indice in range(len(numeros)): # range é exclusivo range(5) = range(0,5) = range(inicio,fim)\n",
    "  print(numeros[indice])"
   ]
  },
  {
   "cell_type": "code",
   "execution_count": 2,
   "metadata": {},
   "outputs": [
    {
     "name": "stdout",
     "output_type": "stream",
     "text": [
      "[0, 1, 2]\n",
      "[3, 4, 5, 6, 7, 8, 9]\n",
      "[3, 5, 7, 9]\n",
      "7\n",
      "9\n",
      "11\n",
      "874\n",
      "5\n",
      "84\n",
      "987\n",
      "1\n",
      "2\n"
     ]
    }
   ],
   "source": [
    "# Range com mais de um parâmetro\n",
    "\n",
    "# Sintaxe: range(inicio, final_exclusivo, quantos_pula)\n",
    "numeros = [1, 3, 5, 7, 9, 11, 874, 5, 84, 987, 1, 2]\n",
    "\n",
    "print(list(range(3)))       # Vai de zero até 3 -> [0, 1, 2]\n",
    "print(list(range(3,10)))    # Começa de 3 até 10 -> [3, 4, 5, 6, 7, 8, 9]\n",
    "print(list(range(3,10,2)))  # posição inicial, posição final, quantos elementos ele vai pular [3, 5, 7, 9]\n",
    "print()\n",
    "\n",
    "for indice in range(3, len(numeros)):\n",
    "    print(numeros[indice])\n",
    "\n",
    "for indice in range(3, len(numeros)):\n",
    "    print(numeros[indice])"
   ]
  },
  {
   "cell_type": "code",
   "execution_count": 3,
   "metadata": {},
   "outputs": [
    {
     "name": "stdout",
     "output_type": "stream",
     "text": [
      "1\n",
      "2\n",
      "3\n"
     ]
    },
    {
     "ename": "IndexError",
     "evalue": "list index out of range",
     "output_type": "error",
     "traceback": [
      "\u001b[1;31m---------------------------------------------------------------------------\u001b[0m",
      "\u001b[1;31mIndexError\u001b[0m                                Traceback (most recent call last)",
      "\u001b[1;32md:\\Ada\\preparação das aulas\\ds-py-996-coding-tank-priv\\aula_4.ipynb Cell 29\u001b[0m in \u001b[0;36m5\n\u001b[0;32m      <a href='vscode-notebook-cell:/d%3A/Ada/prepara%C3%A7%C3%A3o%20das%20aulas/ds-py-996-coding-tank-priv/aula_4.ipynb#Y220sZmlsZQ%3D%3D?line=2'>3</a>\u001b[0m numeros \u001b[39m=\u001b[39m [\u001b[39m1\u001b[39m, \u001b[39m2\u001b[39m, \u001b[39m3\u001b[39m]\n\u001b[0;32m      <a href='vscode-notebook-cell:/d%3A/Ada/prepara%C3%A7%C3%A3o%20das%20aulas/ds-py-996-coding-tank-priv/aula_4.ipynb#Y220sZmlsZQ%3D%3D?line=3'>4</a>\u001b[0m \u001b[39mfor\u001b[39;00m indice \u001b[39min\u001b[39;00m \u001b[39mrange\u001b[39m(\u001b[39m8\u001b[39m):\n\u001b[1;32m----> <a href='vscode-notebook-cell:/d%3A/Ada/prepara%C3%A7%C3%A3o%20das%20aulas/ds-py-996-coding-tank-priv/aula_4.ipynb#Y220sZmlsZQ%3D%3D?line=4'>5</a>\u001b[0m     \u001b[39mprint\u001b[39m(numeros[indice])\n",
      "\u001b[1;31mIndexError\u001b[0m: list index out of range"
     ]
    }
   ],
   "source": [
    "# Devemos ter cuidado com valores fixos no range, pois a lista pode ser menor que ele\n",
    "# Nesse caso, o código quebra\n",
    "numeros = [1, 2, 3]\n",
    "for indice in range(8):\n",
    "    print(numeros[indice])"
   ]
  },
  {
   "attachments": {},
   "cell_type": "markdown",
   "metadata": {},
   "source": [
    "### For"
   ]
  },
  {
   "cell_type": "code",
   "execution_count": null,
   "metadata": {},
   "outputs": [],
   "source": [
    "numeros = [1, 3, 5, 7, 9]\n",
    "\n",
    "for item in numeros:\n",
    "    print(item)"
   ]
  },
  {
   "cell_type": "code",
   "execution_count": null,
   "metadata": {},
   "outputs": [],
   "source": [
    "# Usando o for não temos acesso ao índice do número.\n",
    "# Porém, existe a função enumerate() do python, que soluciona esse problema. \n",
    "# Ele devolve o índice de um elemento da lista e o valor do elemento naquele índice\n",
    "\n",
    "# For com enumerate, pra obter o índice e o valor\n",
    "numeros = [1, 3, 5, 7, 9, 11, 874, 5, 84, 987, 1, 2]\n",
    "\n",
    "for indice, numero in enumerate(numeros):\n",
    "  print(f'Indice: {indice}, valor: {numero}')\n",
    "\n",
    "print()\n",
    "\n",
    "for indice, numero in enumerate(numeros, 4):\n",
    "  print(f'Indice: {indice}, valor: {numero}')\n",
    "\n",
    "\n",
    "# Comportamento lazy/yield, ou seja, só vai construir a lista se \"pedirmos pra usar ela\"\n",
    "print(enumerate(numeros))\n",
    "print(range(5))\n",
    "\n",
    "# pedimos pra usar a lista assim\n",
    "print(list(enumerate(numeros)))\n",
    "print(list(range(5)))"
   ]
  },
  {
   "attachments": {},
   "cell_type": "markdown",
   "metadata": {},
   "source": [
    "**Vamos praticar (1)**"
   ]
  },
  {
   "attachments": {},
   "cell_type": "markdown",
   "metadata": {},
   "source": [
    "1. Crie uma lista qualquer e faça um programa que imprima cada elemento da lista usando o for."
   ]
  },
  {
   "cell_type": "code",
   "execution_count": null,
   "metadata": {},
   "outputs": [],
   "source": [
    "list01 = ['a','b','c','d']\n",
    "\n",
    "for elemento in list01:\n",
    "  print(elemento)"
   ]
  },
  {
   "cell_type": "code",
   "execution_count": null,
   "metadata": {},
   "outputs": [],
   "source": [
    "# Cria uma lista de alunos\n",
    "alunos = ['Ana', 'Arthur', 'Beatriz', 'Diego', 'Juacy', 'Luiza', 'Rafael', 'Wagner']\n",
    "\n",
    "# Para cada aluno em alunos...\n",
    "for aluno in alunos:\n",
    "\n",
    "    # ...imprime o nome do aluno\n",
    "    print(aluno)"
   ]
  },
  {
   "attachments": {},
   "cell_type": "markdown",
   "metadata": {},
   "source": [
    "2. Faça um programa que imprima todos os itens de uma lista usando while e compare com o exercício 1."
   ]
  },
  {
   "cell_type": "code",
   "execution_count": null,
   "metadata": {},
   "outputs": [],
   "source": [
    "lista = [1, 3, 5, 7, 9, 11, 13]\n",
    "contador = 0\n",
    "while(contador < len(lista)):\n",
    "    print(f\"Item: {lista[contador]}\")\n",
    "    contador += 1"
   ]
  },
  {
   "attachments": {},
   "cell_type": "markdown",
   "metadata": {},
   "source": [
    "3. Faça um programa que peça para o usuário digitar um número n e imprima uma lista com todos os números de 0 a n-1."
   ]
  },
  {
   "cell_type": "code",
   "execution_count": null,
   "metadata": {},
   "outputs": [],
   "source": [
    "# Cria uma lista vazia\n",
    "lista = []\n",
    "\n",
    "# Pede o valor de n para o usuário\n",
    "n = int(input(\"n = \"))\n",
    "\n",
    "# Para cara número no intervalo (0, n-1)...\n",
    "for numero in range(n):\n",
    "\n",
    "    # ...adiciona o número à lista\n",
    "    lista.append(numero)\n",
    "\n",
    "# Imprime a lista\n",
    "print(lista)"
   ]
  },
  {
   "attachments": {},
   "cell_type": "markdown",
   "metadata": {},
   "source": [
    "4) Faça um programa que olhe todos os itens de uma lista e diga quantos deles são pares. "
   ]
  },
  {
   "cell_type": "code",
   "execution_count": null,
   "metadata": {},
   "outputs": [],
   "source": [
    "numeros = [1, 2, 3, 4, 5, 6, 7, 8, 9, 10]\n",
    "pares = 0\n",
    "\n",
    "for elemento in numeros:\n",
    "  if elemento % 2 == 0:\n",
    "    pares += 1\n",
    "\n",
    "print(pares)\n"
   ]
  },
  {
   "cell_type": "code",
   "execution_count": null,
   "metadata": {},
   "outputs": [],
   "source": [
    "lista = [1,3,4,5,6,7,8,9,10,12]\n",
    "pares = []\n",
    "for i in lista:\n",
    "    if i%2==0:\n",
    "        pares.append(i)\n",
    "print(f\"Existem {len(pares)} números pares na sua lista\")\n",
    "print(pares)"
   ]
  },
  {
   "attachments": {},
   "cell_type": "markdown",
   "metadata": {},
   "source": [
    "-----------------------------------------"
   ]
  },
  {
   "attachments": {},
   "cell_type": "markdown",
   "metadata": {},
   "source": [
    "# Reescrever a aula de funções com exemplos mais legais e funcionais do que esse.\n",
    "# Lembrando que só copiei ele porque não tive tempo de fazer a minha versão.\n",
    "# No final das funções, fazer a analogia de uma função com aquelas vending machines de salgadinhos e refris. A turma gostou quando fiz ela.\n",
    "# Exemplo do cadastro com validação gerou um debate legal"
   ]
  },
  {
   "attachments": {},
   "cell_type": "markdown",
   "metadata": {},
   "source": [
    "Usar esse exercício para introduzir as funções:"
   ]
  },
  {
   "attachments": {},
   "cell_type": "markdown",
   "metadata": {},
   "source": [
    "6) Faça um programa para o cálculo de uma folha de pagamento sabendo que os descontos são do imposto de Renda, que depende do salário bruto (conforme tabela abaixo), 10% de desconto do INSS, 3% para o Sindicato e que o FGTS corresponde a 11% do salário bruto, mas não é descontado (é a empresa que deposita). Solicite ao usuário a quantidade de horas trabalhadas no mês, e o valor recebido por hora de trabalho.\n",
    "\n",
    "*Desconto do IR*\n",
    "| Faixa de salário                          | Desconto |\n",
    "|-------------------------------------------|----------|\n",
    "| Salário Bruto ate R$900,00 (inclusive)    | Isento   |\n",
    "| Salário Bruto de R$ 1500, 00 (inclusive)  | 5%       |\n",
    "| Salario bruto até R$ 2500,00 (Inclusive)  | 10%      |\n",
    "| Salário bruto acima de 2500               | 20%      |\n",
    "\n",
    "&nbsp;\n",
    "\n",
    "Imprima na tela as informações, dispostas conforme o exemplo abaixo, no exemplo valor da hora é 5 e a quantidade de horas é 220.\n",
    "\n",
    "\n",
    "| Descrição               | Valor      |\n",
    "|-------------------------|------------|\n",
    "| Salário bruto (5 * 220) | R$ 1100,00 |\n",
    "| (–) Sindicato (3%)      | R$ 33,00   |\n",
    "| (–) IR (5%)             | R$ 55,00   |\n",
    "| (–) INSS (10%)          | R$ 110,00  |\n",
    "| FGTS (11%)              | R$ 121,00  |\n",
    "| Total de descontos      | R$ 198,00  |\n",
    "| Salário Líquido         | R$ 902,00  |   \n",
    "\n",
    "Obs: Não é necessário imprimir as linhas e nem o cabeçalho da tabela, somente a descrição e os valores. Para uma melhor visualização, tabule a saída de forma que os salários fiquem um abaixo do outro."
   ]
  },
  {
   "cell_type": "code",
   "execution_count": null,
   "metadata": {},
   "outputs": [],
   "source": [
    "# Solução sem funções\n",
    "valor_hora = float(input('Informe o valor/hora recebido:'))\n",
    "horas_trabalhadas = float(input('Informe a quantidade de horas trabalhadas no mês:'))\n",
    "\n",
    "salario_bruto = valor_hora * horas_trabalhadas\n",
    "desconto_inss = salario_bruto * 0.1\n",
    "desconto_sindicato = salario_bruto * 0.03\n",
    "valor_fgts = salario_bruto * 0.11\n",
    "\n",
    "if salario_bruto <= 900:\n",
    "    desconto_ir = 0\n",
    "    aliquota = 'Isento'\n",
    "elif salario_bruto > 900 and salario_bruto <= 1500:\n",
    "    desconto_ir = salario_bruto * 0.05\n",
    "    aliquota = '5%'\n",
    "elif salario_bruto > 1500 and salario_bruto <= 2500:\n",
    "    desconto_ir = salario_bruto * 0.1\n",
    "    aliquota = '10%'\n",
    "else:\n",
    "    desconto_ir = salario_bruto * 0.2\n",
    "    aliquota = '20%'\n",
    "\n",
    "descontos = desconto_inss + desconto_ir + desconto_sindicato\n",
    "\n",
    "print(f'Salário bruto ({valor_hora} * {int(horas_trabalhadas)}): \\tR$ {salario_bruto:.2f}')\n",
    "print(f'(–) IR ({aliquota}): \\t\\t\\tR$ {desconto_ir:.2f}')\n",
    "print(f'(–) INSS (10%): \\t\\tR$ {desconto_inss:.2f}')\n",
    "print(f'(–) Sindicato (3%): \\t\\tR$ {desconto_sindicato:.2f}')\n",
    "print(f'FGTS (11%): \\t\\t\\tR$ {valor_fgts:.2f}')\n",
    "print(f'Total de descontos: \\t\\tR$ {descontos:.2f}')\n",
    "print(f'Salário Liquido: \\t\\tR$ {salario_bruto-descontos:.2f}')"
   ]
  },
  {
   "cell_type": "code",
   "execution_count": null,
   "metadata": {},
   "outputs": [],
   "source": [
    "# Solução com funções\n",
    "# mas escrever ela somente após falar sobre as funções"
   ]
  },
  {
   "attachments": {},
   "cell_type": "markdown",
   "metadata": {},
   "source": [
    "--------------------------------------"
   ]
  },
  {
   "attachments": {},
   "cell_type": "markdown",
   "metadata": {},
   "source": [
    "\n",
    "### Funções \n",
    "\n",
    "Vamos calcular a área do trapézio dado os valores necessários.\n",
    "\n",
    "<img src='https://www.matematica.pt/images/faq/calcular-area-trapezio.png' width='300'>"
   ]
  },
  {
   "cell_type": "code",
   "execution_count": null,
   "metadata": {},
   "outputs": [],
   "source": [
    "h = float(input('Digite a altura do trapézio: '))\n",
    "b = float(input('Digite a base superior do trapézio: '))\n",
    "B = float(input('Digite a base inferior do trapézio: '))\n",
    "\n",
    "area = ((B + b)*h)/2\n",
    "print('A área do trapézio é:', area)"
   ]
  },
  {
   "attachments": {},
   "cell_type": "markdown",
   "metadata": {},
   "source": [
    "E se quisermos utilizar diversas vezes o mesmo programa?\n",
    "\n",
    "Para isso podemos usar as **funções**\n",
    "\n",
    "Para definir uma função utilizamos a palavra `def`"
   ]
  },
  {
   "cell_type": "code",
   "execution_count": null,
   "metadata": {},
   "outputs": [],
   "source": [
    "# def para definir uma função\n",
    "# o nome da função é imprime_linhas\n",
    "# () dentro destes parênteses estão os parâmetros que eu espero que sejam passados para a minha função\n",
    "# termina a linha com :\n",
    "\n",
    "def imprime_linhas():\n",
    "    print('linha1')\n",
    "    print('linha2')\n",
    "    print('linha3')"
   ]
  },
  {
   "attachments": {},
   "cell_type": "markdown",
   "metadata": {},
   "source": [
    "E como eu faço para chamar a função?"
   ]
  },
  {
   "cell_type": "code",
   "execution_count": null,
   "metadata": {},
   "outputs": [],
   "source": [
    "# chamar pelo nome da função -> para executar a função\n",
    "\n",
    "imprime_linhas()"
   ]
  },
  {
   "cell_type": "code",
   "execution_count": 1,
   "metadata": {},
   "outputs": [],
   "source": [
    "# E no nosso exemplo da área do trapézio?\n",
    "\n",
    "def area_trapezio():\n",
    "    h = float(input('Digite a altura do trapézio: '))\n",
    "    teste = float(input())\n",
    "    b = float(input('Digite a base inferior: '))\n",
    "    B = float(input('Digite a base superior: '))\n",
    "\n",
    "    area = ((B+b)*h)/2\n",
    "\n",
    "    print('Area é:', area)\n"
   ]
  },
  {
   "cell_type": "code",
   "execution_count": null,
   "metadata": {},
   "outputs": [],
   "source": [
    "area_trapezio()"
   ]
  },
  {
   "attachments": {},
   "cell_type": "markdown",
   "metadata": {},
   "source": [
    "## Parâmetros da função\n",
    "\n",
    "Os parênteses servem para definirmos parâmetros da função\n",
    "\n",
    "Parâmetros são valores que a função pode querer utilizar\n",
    "\n",
    "Diz-se que o parâmetro é recebido pela função"
   ]
  },
  {
   "cell_type": "code",
   "execution_count": null,
   "metadata": {},
   "outputs": [],
   "source": [
    "# O parâmetro nome possui um valor dentro da função, e deixa de existir quando a função acaba de rodar\n",
    "def bom_dia(nome):\n",
    "  print('Bom dia', nome)\n",
    "  print('Boa tarde', nome)\n",
    "\n",
    "bom_dia('Guilherme')\n",
    "\n",
    "nome = 'Pedro'  # A variável nome, nesse caso com o valor Pedro, está fora do escopo da função. \n",
    "                # Ou seja, a função não sabe que ela existe, mesmo que tenham o mesmo nome.\n",
    "\n",
    "bom_dia('Mohara')\n",
    "bom_dia(nome) # Reparem que aqui passamos o nome Pedro para a função"
   ]
  },
  {
   "cell_type": "code",
   "execution_count": null,
   "metadata": {},
   "outputs": [],
   "source": [
    "nome_usuario = input('Digite seu nome:')\n",
    "\n",
    "bom_dia(nome_usuario)"
   ]
  },
  {
   "attachments": {},
   "cell_type": "markdown",
   "metadata": {},
   "source": [
    "Podemos solicitar mais de um parâmetro"
   ]
  },
  {
   "cell_type": "code",
   "execution_count": null,
   "metadata": {},
   "outputs": [],
   "source": [
    "def cadastro(nome: str, idade: int, cidade: str):\n",
    "  # # apesar de funcionar, não costuma ser uma boa prática colocar o while dentro da\n",
    "  # # função\n",
    "  # # isso porque em programas que não tem interação com usuários ele ficaria\n",
    "  # # em loop eterno\n",
    "  # while type(idade) != int:\n",
    "  #   print('Idade informada não é um número. O tipo informado foi',type(idade))\n",
    "  #   idade = input('Informe aqui a idade:')\n",
    "  #   if idade.isnumeric():\n",
    "  #     idade = int(idade)\n",
    "\n",
    "  # Essa é uma boa prática\n",
    "  if type(idade) != int:\n",
    "    print('Idade informada não é um número. O tipo informado foi',type(idade))\n",
    "    return\n",
    "\n",
    "  if type(nome) != str:\n",
    "    print('Nome informado não é uma string. O tipo informado foi',type(nome))\n",
    "    return\n",
    "\n",
    "  if type(cidade) != type('str'):\n",
    "    print('Cidade informada não é uma string. O tipo informado foi',type(cidade))\n",
    "    return\n",
    "\n",
    "  print(f'A pessoa chamada de {nome} tem {idade} anos e mora em {cidade}')\n",
    "\n",
    "cadastro(idade=True, cidade='Salvador', nome='Lucas')"
   ]
  },
  {
   "cell_type": "code",
   "execution_count": null,
   "metadata": {},
   "outputs": [],
   "source": [
    "def cadastro(nome, idade, cidade):\n",
    "    print(nome, 'tem', idade, \"anos e mora em\", cidade)"
   ]
  },
  {
   "cell_type": "code",
   "execution_count": null,
   "metadata": {},
   "outputs": [],
   "source": [
    "cadastro('Thiago', 26, 'Curitiba')"
   ]
  },
  {
   "cell_type": "code",
   "execution_count": null,
   "metadata": {},
   "outputs": [],
   "source": [
    "cadastro('Thiago', 26, 'Curitiba') # passa apenas os parâmetros: TEM QUE PASSAR NA ORDEM\n",
    "\n",
    "cadastro(idade=26, cidade='Curitiba', nome='Thiago') # posso alterar a ordem desde que deixe explícito qual é o parâmetro\n",
    "\n",
    "cadastro(nome='Thiago', idade = 26, cidade = None) # podemos ainda passar um dos parâmetros como vazio"
   ]
  },
  {
   "cell_type": "code",
   "execution_count": null,
   "metadata": {},
   "outputs": [],
   "source": [
    "# Podemos atribuir um valor padrão para os parâmetros, tornando ele um parâmetro opcional\n",
    "# Caso não seja informado, a função vai utilizar o nome padrão\n",
    "def cadastro(nome: str, idade: int, cidade: str = 'Salvador'):\n",
    "  print(f'A pessoa chamada de {nome} tem {idade} anos e mora em {cidade}')\n",
    "\n",
    "# consigo usar a função sem informar a cidade, e vai imprimir a cidade de salvador\n",
    "cadastro(idade=25, nome='Lucas')"
   ]
  },
  {
   "cell_type": "code",
   "execution_count": null,
   "metadata": {},
   "outputs": [],
   "source": [
    "# podemos utilizar listas como parâmetros\n",
    "\n",
    "def somatorio(lista):\n",
    "    soma = 0\n",
    "    for elemento in lista:\n",
    "        soma = soma + elemento\n",
    "    print(soma)\n",
    "\n",
    "\n",
    "numeros = [1,3,5,7,9] #lista\n",
    "somatorio(numeros)\n"
   ]
  },
  {
   "attachments": {},
   "cell_type": "markdown",
   "metadata": {},
   "source": [
    "## Retorno\n",
    "\n",
    "O retorno da função é o valor que quem chamou a função vai receber quando ela acabar de rodar"
   ]
  },
  {
   "cell_type": "code",
   "execution_count": null,
   "metadata": {},
   "outputs": [],
   "source": [
    "def nome_funcao():\n",
    "    return # retorna um valor da função (aproveitar o resultado para usar em outro lugar)\n",
    "\n",
    "# Se não for definido nada de retorno, ele retorna None"
   ]
  },
  {
   "cell_type": "code",
   "execution_count": null,
   "metadata": {},
   "outputs": [],
   "source": [
    "# Função sem retorno\n",
    "def somatorio(lista):\n",
    "    soma = 0\n",
    "    for elemento in lista:\n",
    "        soma = soma + elemento\n",
    "    print(soma)\n",
    "\n",
    "somatorio(numeros)\n",
    "\n",
    "# Como a função somatório não retorna nada, a variável retorno_inexistente recebe None\n",
    "retorno_inexistente = somatorio(numeros)\n",
    "print(retorno_inexistente)\n",
    "\n",
    "# Return possibilita armazenar numa variável\n",
    "def somatorio_return(lista):\n",
    "    soma = 0\n",
    "    for elemento in lista:\n",
    "        soma = soma + elemento\n",
    "    return soma # estamos retornando a variável com o valor da soma da função\n",
    "\n",
    "\n",
    "somatorio_return(numeros)\n",
    "var = somatorio(numeros)\n",
    "\n",
    "print('variável', var)"
   ]
  },
  {
   "cell_type": "code",
   "execution_count": null,
   "metadata": {},
   "outputs": [],
   "source": [
    "def maior_idade(idade=0):\n",
    "    if (idade>=18):\n",
    "        return True\n",
    "    else:\n",
    "        return False\n",
    "    \n",
    "eh_maior_de_idade = maior_idade()\n",
    "print(eh_maior_de_idade)\n",
    "\n",
    "eh_maior_de_idade = maior_idade(18)\n",
    "print(eh_maior_de_idade)\n",
    "\n",
    "# Podemos imprimir direto o retorno da função\n",
    "print(maior_idade(18))"
   ]
  },
  {
   "cell_type": "code",
   "execution_count": null,
   "metadata": {},
   "outputs": [],
   "source": [
    "idade = int(input('Digite sua idade: '))\n",
    "\n",
    "if (maior_idade(idade)): # usar função que tenha return dentro de uma condição  -> If True:\n",
    "    print('Era maior')\n",
    "else: # If False, caso contrário\n",
    "    print('Não era')"
   ]
  },
  {
   "attachments": {},
   "cell_type": "markdown",
   "metadata": {},
   "source": [
    "1. Escreva uma função que calcule e retorne o dobro de um número inserido. Teste este caso solicitando ao usuário que insira um número e após isso, retorne a resposta."
   ]
  },
  {
   "cell_type": "code",
   "execution_count": null,
   "metadata": {},
   "outputs": [],
   "source": [
    "def dobro(num):\n",
    "    numDobrado = num * 2\n",
    "    return numDobrado\n",
    "\n",
    "num = float(input('Digite um valor: '))\n",
    "print(f'''Valor inicial: {num}\n",
    "Valor dobrado: {dobro(num)}''')"
   ]
  },
  {
   "cell_type": "code",
   "execution_count": null,
   "metadata": {},
   "outputs": [],
   "source": [
    "def dobro(x):\n",
    "  return x*2\n",
    "\n",
    "dobro(5)"
   ]
  },
  {
   "attachments": {},
   "cell_type": "markdown",
   "metadata": {},
   "source": [
    "2. Crie uma função para cálculo do comprimento da circunferência (C = 2 * 3.14 * R), sendo C o comprimento e R o raio da circunferência "
   ]
  },
  {
   "cell_type": "code",
   "execution_count": null,
   "metadata": {},
   "outputs": [],
   "source": [
    "def calcular_circunferencia(r):\n",
    "    C=2*3.14*r\n",
    "    return C\n",
    "\n",
    "print(calcular_circunferencia(int(input('Digite o raio: '))))"
   ]
  },
  {
   "attachments": {},
   "cell_type": "markdown",
   "metadata": {},
   "source": [
    "3. Faça uma função que emita uma saudação baseada no horário. A função deve receber o nome e o horário (apenas número inteiro) e emita a mensagem com as seguintes condições:\n",
    "- até meio dia (não incluso): \"Bom dia, (VARIAVEL_NOME)\"\n",
    "- entre meio dia (incluso) e 18h (não incluso): \"Boa tarde, (VARIAVEL_NOME)\"\n",
    "- após as 18h (incluso): \"Boa noite, (VARIAVEL_NOME)\""
   ]
  },
  {
   "cell_type": "code",
   "execution_count": null,
   "metadata": {},
   "outputs": [],
   "source": [
    "def saudacao(nome, horario):\n",
    "  if horario >= 0 and horario <= 12:\n",
    "    print(f'Bom dia, {nome}')\n",
    "  elif horario > 12 and horario <= 18:\n",
    "    print(f'Boa tarde, {nome}')\n",
    "  else:\n",
    "    print(f'Boa noite, {nome}')\n",
    "\n",
    "x = input('Digite seu nome')\n",
    "y = int(input('Digite um horário entre 0 a 23 (apenas números): '))\n",
    "\n",
    "saudacao(x, y)"
   ]
  },
  {
   "attachments": {},
   "cell_type": "markdown",
   "metadata": {},
   "source": [
    "4. Faça uma função que verifique se um número é par. Teste esta função solicitando ao usuário que digite um número e emitindo a mensagem adequada caso o número seja par ou não."
   ]
  },
  {
   "cell_type": "code",
   "execution_count": null,
   "metadata": {},
   "outputs": [],
   "source": [
    "def eh_par(num):\n",
    "    if (num%2 == 0):\n",
    "        return True\n",
    "    else:\n",
    "        return False\n",
    "    \n",
    "numero = int(input('Digite um número inteiro qualquer - '))\n",
    "\n",
    "if eh_par(numero):\n",
    "    print('Sim! O número é par.')\n",
    "else:\n",
    "    print('O número é ímpar!')"
   ]
  },
  {
   "cell_type": "code",
   "execution_count": null,
   "metadata": {},
   "outputs": [],
   "source": [
    "def verif_par(num):\n",
    "    if num%2==0:\n",
    "        msg=f\"{num} é um número par.\"\n",
    "    else:\n",
    "        msg=f\"{num} é um número ímpar\"\n",
    "    \n",
    "    return msg\n",
    "\n",
    "verif_par(int(input(\"Digite um número:\")))"
   ]
  },
  {
   "attachments": {},
   "cell_type": "markdown",
   "metadata": {},
   "source": [
    "5) Crie uma função que recebe duas listas. Caso estas duas listas sejam do mesmo tamanho some os elementos de cada lista com mesmo índica, caso contrário retorne uma lista vazia.\n",
    "Se as duas listas de entrada forem do mesmo tamanho o programa deve se comportar como no exemplo:\n",
    "-------------------------------------\n",
    "```python\n",
    "lista_01 = [1, 2, 3, 4, 5]\n",
    "lista_02 = [6, 7, 8, 9, 10]\n",
    "\n",
    "soma_listas(lista_01, lista_02)\n",
    "```\n",
    "-------------------------------------\n",
    "saída:\n",
    "\n",
    "```\n",
    "[7, 9, 11, 13, 15]\n",
    "```\n",
    "-------------------------------------"
   ]
  },
  {
   "cell_type": "code",
   "execution_count": null,
   "metadata": {},
   "outputs": [],
   "source": []
  },
  {
   "attachments": {},
   "cell_type": "markdown",
   "metadata": {},
   "source": [
    "6. Utilize a mesma lógica do exercício anterior, porém agora você deve multiplicar os elementos ao invés de somá-los."
   ]
  },
  {
   "cell_type": "code",
   "execution_count": null,
   "metadata": {},
   "outputs": [],
   "source": []
  },
  {
   "attachments": {},
   "cell_type": "markdown",
   "metadata": {},
   "source": [
    "7. Faça uma função que recebe uma lista de números e calcula a média destes números."
   ]
  },
  {
   "cell_type": "code",
   "execution_count": null,
   "metadata": {},
   "outputs": [],
   "source": []
  },
  {
   "attachments": {},
   "cell_type": "markdown",
   "metadata": {},
   "source": [
    "8. Faça uma função que calcula o fatorial de um número."
   ]
  },
  {
   "cell_type": "code",
   "execution_count": null,
   "metadata": {},
   "outputs": [],
   "source": []
  }
 ],
 "metadata": {
  "kernelspec": {
   "display_name": "Python 3",
   "language": "python",
   "name": "python3"
  },
  "language_info": {
   "codemirror_mode": {
    "name": "ipython",
    "version": 3
   },
   "file_extension": ".py",
   "mimetype": "text/x-python",
   "name": "python",
   "nbconvert_exporter": "python",
   "pygments_lexer": "ipython3",
   "version": "3.10.5"
  },
  "orig_nbformat": 4
 },
 "nbformat": 4,
 "nbformat_minor": 2
}
