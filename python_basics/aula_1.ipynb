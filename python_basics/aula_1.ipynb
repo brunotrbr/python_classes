{
 "cells": [
  {
   "attachments": {},
   "cell_type": "markdown",
   "metadata": {},
   "source": [
    "## Variáveis\n",
    "Variável é o nome dado ao tipo de conteúdo que pode apresentar diferentes valores enquanto o sistema está em execução. Tudo dependerá do comando do usuário e o tipo de operação que é realizado.  \n",
    "Imagine que você conhece uma nova pessoa. A variável seria o lugar no seu cérebro no qual você guarda, por exemplo, o nome desta pessoa, ou seja, é alocado um espaço para armazenar esta informação e posteriormente é passado o valor referente aquele dado.\n",
    "\n",
    "```\n",
    "nome = \"Bruno\"\n",
    "```"
   ]
  },
  {
   "attachments": {},
   "cell_type": "markdown",
   "metadata": {},
   "source": [
    "## Tipos básicos\n",
    "\n",
    "Podemos ter informações relacionadas às outras pessoas como nome, idade e salário. Cada uma delas possui o que chamamos de tipos de variável. Os tipos de dados são os seguintes:"
   ]
  },
  {
   "cell_type": "code",
   "execution_count": null,
   "metadata": {},
   "outputs": [],
   "source": [
    "# Esta é uma forma de comentar o código. Toda esta informação não será processada\n",
    "# nome = 'Bruno'\n",
    "# Podemos passar variáveis de texto (str) com aspas duplas\n",
    "nome_do_instrutor = \"Bruno\"\n",
    "type(nome_do_instrutor)\n",
    "\n",
    "nome_do_instrutor = 1\n",
    "type(nome_do_instrutor)"
   ]
  },
  {
   "cell_type": "code",
   "execution_count": null,
   "metadata": {},
   "outputs": [],
   "source": [
    "# Ou aspas simples\n",
    "nome_do_instrutor = 'Bruno'\n",
    "type(nome_do_instrutor)"
   ]
  },
  {
   "cell_type": "code",
   "execution_count": null,
   "metadata": {},
   "outputs": [],
   "source": [
    "nome_do_instrutor"
   ]
  },
  {
   "cell_type": "code",
   "execution_count": null,
   "metadata": {},
   "outputs": [],
   "source": [
    "# Números inteiros são passados diretamente para a variável\n",
    "idade = 35\n",
    "idade\n",
    "type(idade)"
   ]
  },
  {
   "cell_type": "code",
   "execution_count": null,
   "metadata": {},
   "outputs": [],
   "source": [
    "# Números decimais (float) possuem o ponto (.) comos separador das casas decimais\n",
    "dolar = 4.77\n",
    "type(dolar)"
   ]
  },
  {
   "cell_type": "code",
   "execution_count": null,
   "metadata": {},
   "outputs": [],
   "source": [
    "# Se passarmos um número entre aspas, ele é armazenado como string\n",
    "dolar = '4.77'\n",
    "type(dolar)"
   ]
  },
  {
   "cell_type": "code",
   "execution_count": null,
   "metadata": {},
   "outputs": [],
   "source": [
    "# Variáveis booleanas recebem True ou False como valores\n",
    "certificado = True\n",
    "type(certificado)\n",
    "\n",
    "certificado = False\n",
    "type(certificado)\n",
    "\n",
    "# Atenção\n",
    "# variáveis do tipo bool recebem True ou False, com letra maiúscula"
   ]
  },
  {
   "attachments": {},
   "cell_type": "markdown",
   "metadata": {},
   "source": [
    "## Entradas\n",
    "\n",
    "Para solicitarmos entradas de informações a serem fornecidas pelo usuário podemos utilizar a função input. Com ela você poderá (opcionalmente) passar uma mensagem instrutiva ao usuário do que deseja que ele insira.  \n",
    "No exemplo abaixo utilizaremos o input para receber um valor."
   ]
  },
  {
   "cell_type": "code",
   "execution_count": null,
   "metadata": {},
   "outputs": [],
   "source": [
    "input()"
   ]
  },
  {
   "attachments": {},
   "cell_type": "markdown",
   "metadata": {},
   "source": [
    "**Intuição**  \n",
    "Veja que ele funciona, porém sem uma mensagem de qual informação é solicitada não é possível identificar o que se deve passar ao programa. "
   ]
  },
  {
   "cell_type": "code",
   "execution_count": null,
   "metadata": {},
   "outputs": [],
   "source": [
    "input('Insira sua idade: ')"
   ]
  },
  {
   "attachments": {},
   "cell_type": "markdown",
   "metadata": {},
   "source": [
    "**Variável**  \n",
    "Podemos guardar o valor passado pelo usuário numa variável"
   ]
  },
  {
   "cell_type": "code",
   "execution_count": null,
   "metadata": {},
   "outputs": [],
   "source": [
    "idade = input('Insira sua idade: ')"
   ]
  },
  {
   "attachments": {},
   "cell_type": "markdown",
   "metadata": {},
   "source": [
    "Que tipo de variável vocês acham que a idade será?\n",
    "\n",
    "Reparem nas aspas que saem quando utilizamos apenas a função input. Isso quer dizer que este valor capturado pelo programa é uma string, independente do que o usuário insira."
   ]
  },
  {
   "cell_type": "code",
   "execution_count": null,
   "metadata": {},
   "outputs": [],
   "source": [
    "# Valor\n",
    "idade"
   ]
  },
  {
   "cell_type": "code",
   "execution_count": null,
   "metadata": {},
   "outputs": [],
   "source": [
    "# Tipo\n",
    "type(idade)"
   ]
  },
  {
   "cell_type": "code",
   "execution_count": null,
   "metadata": {},
   "outputs": [],
   "source": [
    "# Informação adicional sobre nomes de variáveis e padrões do python\n",
    "CONSTANTE = 'valor constante'\n",
    "\n",
    "novaVariavelIdade = 35 # Camel Case\n",
    "print(novaVariavelIdade)\n",
    "NovaVariavelIdade = 36 # Pascal Case\n",
    "print(NovaVariavelIdade)\n",
    "nova_variavel_idade = 37 # Snake Case\n",
    "print(nova_variavel_idade)\n",
    "\n",
    "# Python, por padrão, as variáveis seguem Snake Case\n",
    "# Python, em orientação a objetos, a classe segue o Pascal Case\n",
    "# Constantes normalmente são declaradas tudo em maiúscula: CONSTANTE = xxx\n",
    "\n",
    "# padrões do python para nomes\n",
    "# https://peps.python.org/pep-0008/#naming-conventions"
   ]
  },
  {
   "attachments": {},
   "cell_type": "markdown",
   "metadata": {},
   "source": [
    "**Convertendo o tipo de dado**  \n",
    "Neste caso é interessante que a idade seja um número, visto que em geral o utilizamos para realizar contas, por exemplo. Para converter este valor para um inteiro, podemos fazer da seguinte forma:"
   ]
  },
  {
   "cell_type": "code",
   "execution_count": null,
   "metadata": {},
   "outputs": [],
   "source": [
    "int(idade)"
   ]
  },
  {
   "cell_type": "code",
   "execution_count": null,
   "metadata": {},
   "outputs": [],
   "source": [
    "# o procedimento acima não altera o tipo da variável idade, a não ser que seja declarado novamente para uma nova variável\n",
    "nova_variavel_idade = int(idade)\n",
    "type(nova_variavel_idade)\n",
    "nova_variavel_idade"
   ]
  },
  {
   "cell_type": "code",
   "execution_count": null,
   "metadata": {},
   "outputs": [],
   "source": [
    "# Declarar para a mesma variável MODIFICA a variável original\n",
    "idade = int(idade)\n",
    "type(idade)\n",
    "idade"
   ]
  },
  {
   "cell_type": "code",
   "execution_count": null,
   "metadata": {},
   "outputs": [],
   "source": [
    "float(idade)"
   ]
  },
  {
   "cell_type": "code",
   "execution_count": null,
   "metadata": {},
   "outputs": [],
   "source": [
    "# Podemos, inclusive, encadear conversões.\n",
    "str(float(idade))"
   ]
  },
  {
   "cell_type": "code",
   "execution_count": null,
   "metadata": {},
   "outputs": [],
   "source": [
    "# eu tenho uma string e quero em float\n",
    "float('35')"
   ]
  },
  {
   "cell_type": "code",
   "execution_count": null,
   "metadata": {},
   "outputs": [],
   "source": [
    "# A operação abaixo perde a informação do decimal, portanto deve-se ter cuidado com as conversões\n",
    "dolar = 4.77\n",
    "dolar = int(dolar)\n",
    "str(dolar)"
   ]
  },
  {
   "cell_type": "code",
   "execution_count": null,
   "metadata": {},
   "outputs": [],
   "source": [
    "# Substituir a vírgula por ponto, para poder converter\n",
    "variavel = '4,77'\n",
    "variavel = variavel.replace(',', '.')\n",
    "float(variavel)"
   ]
  },
  {
   "cell_type": "code",
   "execution_count": null,
   "metadata": {},
   "outputs": [],
   "source": [
    "# Outro exemplo encadeando conversões\n",
    "int(float(idade))"
   ]
  },
  {
   "cell_type": "code",
   "execution_count": null,
   "metadata": {},
   "outputs": [],
   "source": [
    "# E se eu tentar um texto em float, o que acontece?\n",
    "# float('a') # da erro\n",
    "float('4,77')"
   ]
  },
  {
   "attachments": {},
   "cell_type": "markdown",
   "metadata": {},
   "source": [
    "E para simplificar ainda mais é comum que já realizemos a conversão da variável logo na chamada do input."
   ]
  },
  {
   "cell_type": "code",
   "execution_count": null,
   "metadata": {},
   "outputs": [],
   "source": [
    "# Para valores do tipo ponto flutuante, ou seja, numéricos com valores decimais, utilizamos o float\n",
    "dolar = float(input('Insira a cotação do dólar hoje: '))\n",
    "type(dolar)"
   ]
  },
  {
   "cell_type": "code",
   "execution_count": null,
   "metadata": {},
   "outputs": [],
   "source": [
    "idade = int(input('Insira aqui sua idade:'))\n",
    "type(idade)"
   ]
  },
  {
   "attachments": {},
   "cell_type": "markdown",
   "metadata": {},
   "source": [
    "## Saídas\n",
    "\n",
    "Em diversas situações desejamos imprimir na tela o resultado de alguma operação que realizamos ou simplesmente emitirmos uma mensagem, para estas situações utilizamos a função print."
   ]
  },
  {
   "cell_type": "code",
   "execution_count": null,
   "metadata": {},
   "outputs": [],
   "source": [
    "print()"
   ]
  },
  {
   "cell_type": "code",
   "execution_count": null,
   "metadata": {},
   "outputs": [],
   "source": [
    "print('Colocando o texto entre aspas na função print')"
   ]
  },
  {
   "cell_type": "code",
   "execution_count": null,
   "metadata": {},
   "outputs": [],
   "source": [
    "print(\"Funciona também com aspas duplas\")"
   ]
  },
  {
   "cell_type": "code",
   "execution_count": null,
   "metadata": {},
   "outputs": [],
   "source": [
    "print(5)"
   ]
  },
  {
   "cell_type": "code",
   "execution_count": null,
   "metadata": {},
   "outputs": [],
   "source": [
    "print(True)"
   ]
  },
  {
   "cell_type": "code",
   "execution_count": null,
   "metadata": {},
   "outputs": [],
   "source": [
    "print('Print com comentário') # comentário no código, ou seja, ele não executa o que está depois do #"
   ]
  },
  {
   "cell_type": "code",
   "execution_count": null,
   "metadata": {},
   "outputs": [],
   "source": [
    "# Quebrar linha\n",
    "print('Print com \\nquebra de linha') # \\n\n",
    "\n",
    "print('Comentário de bloco no google colab é pressionando as teclas Ctrl + \\'/\\'')\n",
    "# A contrabarra \\ , nesse caso, funciona como caractere de escape para que seja entendido como texto e não como sua função original.\n",
    "# Neste caso, o fechamento da string"
   ]
  },
  {
   "cell_type": "code",
   "execution_count": null,
   "metadata": {},
   "outputs": [],
   "source": [
    "# Tabulação\n",
    "print('Print \\tcom tabulação')\n",
    "print('Print \\t\\tcom tabulação\\n\\n')"
   ]
  },
  {
   "cell_type": "code",
   "execution_count": null,
   "metadata": {},
   "outputs": [],
   "source": [
    "# Múltiplos prints\n",
    "print('Inicio do programa x')\n",
    "print('Digite a opção do menu:')\n",
    "print('\\t1) Entrar no cadastro de clientes')\n",
    "print('\\t2) Entrar no cadastro de empresas')"
   ]
  },
  {
   "cell_type": "code",
   "execution_count": null,
   "metadata": {},
   "outputs": [],
   "source": [
    "print('Também podemos')\n",
    "print('usar o print')\n",
    "print('várias vezes na mesma célula')"
   ]
  },
  {
   "attachments": {},
   "cell_type": "markdown",
   "metadata": {},
   "source": [
    "**Mais de um argumento**  \n",
    "Para imprimir mais de uma informação, o print permite inserir quantos argumentos forem necessários, desde que separados por vírgula. Veja o exemplo:"
   ]
  },
  {
   "cell_type": "code",
   "execution_count": null,
   "metadata": {},
   "outputs": [],
   "source": [
    "print('Entrar no', 'cadastro de', 'clientes', 123)"
   ]
  },
  {
   "attachments": {},
   "cell_type": "markdown",
   "metadata": {},
   "source": [
    "**Parâmetros para o print**\n",
    "Passando mais de um argumento para o print, podemos modificar o separador passando o parâmetro _sep_ para o print"
   ]
  },
  {
   "cell_type": "code",
   "execution_count": null,
   "metadata": {},
   "outputs": [],
   "source": [
    "print('Entrar', 'cadastro', 'clientes', 123, sep='_')\n",
    "print('Entrar', 'cadastro', 'clientes', 123, sep='|')\n",
    "print('Entrar', 'cadastro', 'clientes', 123, sep='99999')"
   ]
  },
  {
   "attachments": {},
   "cell_type": "markdown",
   "metadata": {},
   "source": [
    "Também podemos modificar o fim do print, passando o parâmetro _end_ para ele"
   ]
  },
  {
   "cell_type": "code",
   "execution_count": null,
   "metadata": {},
   "outputs": [],
   "source": [
    "print('Print com duas quebras de linha no final', end='\\n\\n')\n",
    "print('Print sem o separador de quebra de linha.', end='')\n",
    "print('Entrar', 'cadastro', 'clientes', 123, sep='_', end='\\n$ ') # Posso usar o sep e o end juntos\n",
    "print('Print qualquer padrão')\n",
    "print('Ok')"
   ]
  },
  {
   "cell_type": "markdown",
   "metadata": {},
   "source": [
    "**Print de variáveis**  \n",
    "Também é possível imprimir variáveis de forma simples, basta passar o nome dado para a variável dentro dos parênteses."
   ]
  },
  {
   "cell_type": "code",
   "execution_count": null,
   "metadata": {},
   "outputs": [],
   "source": [
    "idade = 35\n",
    "nome = 'Bruno Bragança'\n",
    "print(idade, nome, sep='$')"
   ]
  },
  {
   "attachments": {},
   "cell_type": "markdown",
   "metadata": {},
   "source": [
    "E se for necessário imprimir a mensagem 'Olá, eu sou Bruno Bragança e tenho 35 anos.\", de forma que o nome e o sobrenome sejam provenientes de variáveis nome e sobrenome."
   ]
  },
  {
   "cell_type": "code",
   "execution_count": null,
   "metadata": {},
   "outputs": [],
   "source": [
    "# Reparem novamente que não colocamos o espaço entre as strings e as variáveis, pois o python insere automaticamente.\n",
    "nome = 'Bruno'\n",
    "sobrenome = 'Bragança'\n",
    "idade = 35\n",
    "print('Olá, eu sou o', nome, sobrenome, 'e tenho', idade, 'anos.')"
   ]
  },
  {
   "cell_type": "code",
   "execution_count": null,
   "metadata": {},
   "outputs": [],
   "source": [
    "print('Olá, eu sou {} {} e tenho {} anos'.format(nome, sobrenome, idade)) # outra forma de usar o print"
   ]
  },
  {
   "cell_type": "code",
   "execution_count": null,
   "metadata": {},
   "outputs": [],
   "source": [
    "Escrevam a frase abaixo, substituindo o nome/sobrenome/idade, endereço, complemento, complemento, cep, cidade, estado e país pelo de vocês, usando o print com *format*.\n",
    "\n",
    "*Meu nome é Bruno Bragança, tenho 35 anos, moro na Avenida Itaborai 25, Apto. 123, 90000100, Porto Alegre, RS, Brasil*"
   ]
  },
  {
   "cell_type": "code",
   "execution_count": null,
   "metadata": {},
   "outputs": [],
   "source": [
    "endereco = 'Avenida Itaborai, 25'\n",
    "complemento = 'Apto. 123'\n",
    "cep = 90000100\n",
    "cidade = 'Porto Alegre'\n",
    "estado = 'RS'\n",
    "pais = 'Brasil'\n",
    "\n",
    "print('Meu nome é {} {}, tenho {} anos, moro na {}, {}, {}, {}, {}, {}'.format(nome, sobrenome, idade, endereco, complemento, cep, cidade, estado, pais))"
   ]
  },
  {
   "cell_type": "markdown",
   "metadata": {},
   "source": [
    "**Print com f string**  \n",
    "Outra forma de utilizarmos o print com variáveis é por meio do que chamamos de f string (ou interpolação de strings).\n",
    "\n",
    "Para utilizar o f string, adicionamos o _f_ na frente de uma string, e as variáveis dentro de chaves {}"
   ]
  },
  {
   "cell_type": "code",
   "execution_count": null,
   "metadata": {},
   "outputs": [],
   "source": [
    "print(f'Olá, eu sou {nome} {sobrenome} e tenho {idade} anos') # f strings"
   ]
  },
  {
   "attachments": {},
   "cell_type": "markdown",
   "metadata": {},
   "source": [
    "A vantagem de usar f strings é que o código fica mais legível em comparado com o format."
   ]
  },
  {
   "attachments": {},
   "cell_type": "markdown",
   "metadata": {},
   "source": [
    "Escrevam a frase abaixo, substituindo o nome/sobrenome/idade, endereço, complemento, complemento, cep, cidade, estado e país pelo de vocês, usando o print com *f-string*.\n",
    "\n",
    "*Meu nome é Bruno Bragança, tenho 35 anos, moro na Avenida Itaborai 25, Apto. 123, 90000100, Porto Alegre, RS, Brasil*"
   ]
  },
  {
   "cell_type": "code",
   "execution_count": null,
   "metadata": {},
   "outputs": [],
   "source": [
    "print(f'Meu nome é {nome} {sobrenome}, tenho {idade} anos, moro na {endereco}, {complemento}, {cep}, {cidade}, {estado}, {pais}')"
   ]
  },
  {
   "attachments": {},
   "cell_type": "markdown",
   "metadata": {},
   "source": [
    "**Caso onde o format pode ser mais útil que a f-string**\n",
    "\n",
    "Podemos utilizar o format para reduzir o tamanho de um float. Por exemplo, se a minha variavel retorna 3.14159 e eu quero só o 3.14, o format dá para fazer de forma mais natural."
   ]
  },
  {
   "cell_type": "code",
   "execution_count": null,
   "metadata": {},
   "outputs": [],
   "source": [
    "numero = 3.14159\n",
    "numero_formatado = \"{:.3f}\".format(numero)\n",
    "print(numero_formatado)"
   ]
  },
  {
   "attachments": {},
   "cell_type": "markdown",
   "metadata": {},
   "source": [
    "**Vamos praticar (1)**   \n",
    "Escreva um programa que receba seu nome, sua idade e hobby e escreva uma única sentença que seja, por exemplo, \"Meu nome é Bruno, tenho 35 anos e meu hobby é viajar\" "
   ]
  },
  {
   "cell_type": "code",
   "execution_count": null,
   "metadata": {},
   "outputs": [],
   "source": [
    "name = input('Enter your name: ')\n",
    "age = int(input('Enter your age: '))\n",
    "hobby = input('What\\'s your hobby? ')\n",
    "\n",
    "print(f\"Hi! My name is {name}, I'm {age} years old and my hobby is {hobby}\")"
   ]
  },
  {
   "attachments": {},
   "cell_type": "markdown",
   "metadata": {},
   "source": [
    "## Operadores Algébricos\n",
    "\n",
    "Rotineiramente nos deparamos com a necessidade de realizarmos cálculos, para isso podemos utilizar os operadores algébricos como conhecemos na matemática tradicional."
   ]
  },
  {
   "attachments": {},
   "cell_type": "markdown",
   "metadata": {},
   "source": [
    "**Adição**"
   ]
  },
  {
   "cell_type": "code",
   "execution_count": null,
   "metadata": {},
   "outputs": [],
   "source": [
    "2 + 2 #2+2"
   ]
  },
  {
   "attachments": {},
   "cell_type": "markdown",
   "metadata": {},
   "source": [
    "**Subtração**"
   ]
  },
  {
   "cell_type": "code",
   "execution_count": null,
   "metadata": {},
   "outputs": [],
   "source": [
    "8-5"
   ]
  },
  {
   "attachments": {},
   "cell_type": "markdown",
   "metadata": {},
   "source": [
    "**Multiplicação**"
   ]
  },
  {
   "cell_type": "code",
   "execution_count": null,
   "metadata": {},
   "outputs": [],
   "source": [
    "2 * 4"
   ]
  },
  {
   "attachments": {},
   "cell_type": "markdown",
   "metadata": {},
   "source": [
    "**Divisão**"
   ]
  },
  {
   "cell_type": "code",
   "execution_count": null,
   "metadata": {},
   "outputs": [],
   "source": [
    "10/5  # E reparem que o resultado da divisão é um float"
   ]
  },
  {
   "cell_type": "code",
   "execution_count": null,
   "metadata": {},
   "outputs": [],
   "source": [
    "print(8 - 5)"
   ]
  },
  {
   "attachments": {},
   "cell_type": "markdown",
   "metadata": {},
   "source": [
    "Resumindo:\n",
    "\n",
    "| Símbolo | Operação        |\n",
    "|---------|-----------------|\n",
    "|    +    | soma            |\n",
    "|    -    | subtração       |\n",
    "|    *    | multiplicação   |\n",
    "|    /    | divisão         |\n",
    "|    //   | divisão inteira |\n",
    "|    %    | resto           |\n",
    "|    **   | potência        |"
   ]
  },
  {
   "attachments": {},
   "cell_type": "markdown",
   "metadata": {},
   "source": [
    "Com frequência queremos saber se a divisão é inteira ou não. Por exemplo, identificar se um número é par ou não."
   ]
  },
  {
   "cell_type": "code",
   "execution_count": null,
   "metadata": {},
   "outputs": [],
   "source": [
    "4/3"
   ]
  },
  {
   "cell_type": "code",
   "execution_count": null,
   "metadata": {},
   "outputs": [],
   "source": [
    "4//3"
   ]
  },
  {
   "attachments": {},
   "cell_type": "markdown",
   "metadata": {},
   "source": [
    "Com frequência queremos saber o resto de uma divisão. Por exemplo, para identificar se um número é par ou não."
   ]
  },
  {
   "cell_type": "code",
   "execution_count": null,
   "metadata": {},
   "outputs": [],
   "source": [
    "4%2"
   ]
  },
  {
   "cell_type": "code",
   "execution_count": null,
   "metadata": {},
   "outputs": [],
   "source": [
    "4%3"
   ]
  },
  {
   "attachments": {},
   "cell_type": "markdown",
   "metadata": {},
   "source": [
    "**Podemos obter a potência de um número também"
   ]
  },
  {
   "cell_type": "code",
   "execution_count": null,
   "metadata": {},
   "outputs": [],
   "source": [
    "2**5"
   ]
  },
  {
   "attachments": {},
   "cell_type": "markdown",
   "metadata": {},
   "source": [
    "**Utilizando variáveis**"
   ]
  },
  {
   "cell_type": "code",
   "execution_count": null,
   "metadata": {},
   "outputs": [],
   "source": [
    "valor_01 = 10\n",
    "valor_02 = 15\n",
    "\n",
    "print(valor_01 + valor_02)"
   ]
  },
  {
   "attachments": {},
   "cell_type": "markdown",
   "metadata": {},
   "source": [
    "**Bora praticar!**  \n",
    "Com tudo que vimos até o momento faça um programa que solicite ao usuário que insira seu ano de nascimento. Desconsiderando o mês do ano de nascimento, emita uma mensagem dizendo quantos anos ele possui."
   ]
  },
  {
   "cell_type": "code",
   "execution_count": null,
   "metadata": {},
   "outputs": [],
   "source": [
    "ano = int(input('Digite seu ano de nascimento'))\n",
    "ano_atual = 2022\n",
    "idade = ano_atual - ano\n",
    "print(f'Você possui {idade} anos de idade')"
   ]
  },
  {
   "attachments": {},
   "cell_type": "markdown",
   "metadata": {},
   "source": [
    "## Operadores de Comparação  \n",
    "Os operadores de comparação são aqueles que possuem o objetivo de analisar os valores de uma expressão e retornar um valor booleano, ou seja, verdadeiro (1) ou falso (0)."
   ]
  },
  {
   "cell_type": "code",
   "execution_count": null,
   "metadata": {},
   "outputs": [],
   "source": [
    "print(3 > 2)"
   ]
  },
  {
   "cell_type": "code",
   "execution_count": null,
   "metadata": {},
   "outputs": [],
   "source": [
    "print(2 > 3)"
   ]
  },
  {
   "cell_type": "code",
   "execution_count": null,
   "metadata": {},
   "outputs": [],
   "source": [
    "print(2 == 3) # Cuidado, = é atribuição"
   ]
  },
  {
   "cell_type": "code",
   "execution_count": null,
   "metadata": {},
   "outputs": [],
   "source": [
    "print(2 == 2)"
   ]
  },
  {
   "cell_type": "code",
   "execution_count": null,
   "metadata": {},
   "outputs": [],
   "source": [
    "print(2 != 2) # diferença"
   ]
  },
  {
   "attachments": {},
   "cell_type": "markdown",
   "metadata": {},
   "source": [
    "Resumindo:\n",
    "\n",
    "| Símbolo | Operação        |\n",
    "|---------|-----------------|\n",
    "|    >    | Maior           |\n",
    "|    <    | Menor           |\n",
    "|    ==   | Igualdade       |\n",
    "|    !=   | Diferença       |\n",
    "|    >=   | Maior ou igual  |\n",
    "|    <=   | Menor ou igual  |"
   ]
  },
  {
   "attachments": {},
   "cell_type": "markdown",
   "metadata": {},
   "source": [
    "**Vamos praticar (3)**   \n",
    "Imagine que você está implementando um sistema para verificar se os alunos de uma turma estudantil passaram na disciplina ou não. Para isso solicite que o usuário insira as notas das 4 provas realizadas por um estudante e calcule a média. Após isso, emita uma resposta booleana (True ou False) se o estudante passou na disciplina pensando que a média mínima para aprovação é que seja pelo menos 5."
   ]
  },
  {
   "cell_type": "code",
   "execution_count": null,
   "metadata": {},
   "outputs": [],
   "source": [
    "nota_1 = float(input('Informe a nota da primeira prova: '))\n",
    "nota_2 = float(input('Informe a nota da segunda prova: '))\n",
    "nota_3 = float(input('Informe a nota da terceira prova: '))\n",
    "nota_4 = float(input('Informe a nota da quarta prova: '))\n",
    "\n",
    "nota_final = (nota_1 + nota_2 + nota_3 + nota_4) / 4\n",
    "\n",
    "if nota >= 5:\n",
    "    print(True)\n",
    "else:\n",
    "    Print(False)"
   ]
  },
  {
   "attachments": {},
   "cell_type": "markdown",
   "metadata": {},
   "source": [
    "Crie um algoritmo que calcule o IMC (índice de massa corporal). O IMC é calculado com a formula PESO/(ALTURA ^ 2). Para isso, coloque as informações nas variáveis e ao final apresente o resultado como no exemplo: \"O IMC é 18\""
   ]
  },
  {
   "cell_type": "code",
   "execution_count": null,
   "metadata": {},
   "outputs": [],
   "source": [
    "peso = float(input('Informe seu peso, em Kg'))\n",
    "altura = float(input('Informe sua altura, em m'))\n",
    "\n",
    "imc = peso / (altura**2)\n",
    "\n",
    "print(f'O IMC é {imc}.')"
   ]
  },
  {
   "attachments": {},
   "cell_type": "markdown",
   "metadata": {},
   "source": [
    "Escreva um algoritmo que calcule (x + y) * (x + y). Os valores de x e y devem ser inseridos pelo usuário"
   ]
  },
  {
   "cell_type": "code",
   "execution_count": null,
   "metadata": {},
   "outputs": [],
   "source": [
    "x = float(input('Informe o valor de X: '))\n",
    "y = float(input('Informe o valor de y: '))\n",
    "\n",
    "print((x + y) * (x + y))"
   ]
  }
 ],
 "metadata": {
  "kernelspec": {
   "display_name": "Python 3",
   "language": "python",
   "name": "python3"
  },
  "language_info": {
   "codemirror_mode": {
    "name": "ipython",
    "version": 3
   },
   "file_extension": ".py",
   "mimetype": "text/x-python",
   "name": "python",
   "nbconvert_exporter": "python",
   "pygments_lexer": "ipython3",
   "version": "3.10.5 (tags/v3.10.5:f377153, Jun  6 2022, 16:14:13) [MSC v.1929 64 bit (AMD64)]"
  },
  "orig_nbformat": 4,
  "vscode": {
   "interpreter": {
    "hash": "42478136ef40f8edd3f4cf991c33cffcfc620a666d0dc328e82cc0ef4d7b2c04"
   }
  }
 },
 "nbformat": 4,
 "nbformat_minor": 2
}
