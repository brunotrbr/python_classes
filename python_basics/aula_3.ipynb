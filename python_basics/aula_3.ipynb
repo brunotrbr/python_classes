{
 "cells": [
  {
   "attachments": {},
   "cell_type": "markdown",
   "metadata": {},
   "source": [
    "# Coding Tank Santander Coders 2023 - Turma 996"
   ]
  },
  {
   "attachments": {},
   "cell_type": "markdown",
   "metadata": {},
   "source": [
    "## Cronograma de aulas\n",
    "\n",
    "- Aula 1\n",
    "    - Variáveis\n",
    "    - Tipos básicos\n",
    "    - Entradas/Saídas\n",
    "    - Operadores Algébricos\n",
    "    - Operadores de comparação\n",
    "\n",
    "- Aula 2\n",
    "    - Estrutura condicional e controle de fluxo\n",
    "    - Comando if\n",
    "    - Comando else\n",
    "    - Comando Elif\n",
    "\n",
    "- Aula 3\n",
    "    - Estruturas de repetição\n",
    "    - Looping while\n",
    "\n",
    "- Aula 4\n",
    "    - Listas\n",
    "    - Funções, parâmetros e retorno\n",
    "\n",
    "- Aula 5\n",
    "    - Prova"
   ]
  },
  {
   "attachments": {},
   "cell_type": "markdown",
   "metadata": {},
   "source": [
    "-------------------"
   ]
  },
  {
   "attachments": {},
   "cell_type": "markdown",
   "metadata": {},
   "source": [
    "# Aula 3"
   ]
  },
  {
   "attachments": {},
   "cell_type": "markdown",
   "metadata": {},
   "source": [
    "### Notebook da aula\n",
    "\n",
    "Dentro do LMS, no diretório da aula 3 do drive compartilhado.\n"
   ]
  },
  {
   "attachments": {},
   "cell_type": "markdown",
   "metadata": {},
   "source": [
    "Na aula passada fizemos o programa que a pessoa digitava 2 numeros e a gente dizia o maior deles. E se quisermos 3? E se quisermos 10? E se quisermos 100? Conseguimos fazer?"
   ]
  },
  {
   "attachments": {},
   "cell_type": "markdown",
   "metadata": {},
   "source": [
    "## Recapitulando\n",
    "\n",
    "Quando queremos alterar o fluxo de execução do programa podemos utilizar o comando if junto com uma expressão lógica."
   ]
  },
  {
   "cell_type": "code",
   "execution_count": null,
   "metadata": {},
   "outputs": [],
   "source": [
    "# Expressões lógicas retornam true ou false\n",
    "print(3 > 5)\n"
   ]
  },
  {
   "cell_type": "code",
   "execution_count": null,
   "metadata": {},
   "outputs": [],
   "source": [
    "# se a condição for falsa, não entra no código\n",
    "if(5 > 3): # condição\n",
    "    print('Nunca vai rodar essa linha')"
   ]
  },
  {
   "attachments": {},
   "cell_type": "markdown",
   "metadata": {},
   "source": [
    "## Estruturas de Repetição\n",
    "\n",
    "Um if não garante que eu consigo validar o valor de um campo pois se o usuário não acertar na 2a vez, ele seguirá inválido"
   ]
  },
  {
   "cell_type": "code",
   "execution_count": null,
   "metadata": {},
   "outputs": [],
   "source": [
    "salario = float(input(\"digite seu salario: \"))\n",
    "if(salario < 1100):\n",
    "    salario = float(input(\"salario invalido, digite outro: \"))\n",
    "else:\n",
    "    print(\"valido\", salario)"
   ]
  },
  {
   "cell_type": "code",
   "execution_count": null,
   "metadata": {},
   "outputs": [],
   "source": [
    "salario = float(input(\"digite seu salario: \"))\n",
    "while(salario < 1100): # Recebe uma expressão logica\n",
    "    #Enquanto a expressao for verdadeira (true), ele repete as linhas\n",
    "    # que estao dentro aqui dentro\n",
    "    salario = float(input(\"salario invalido, digite outro: \"))\n",
    "\n",
    "# no momento que for falsa, sai do while, do looping\n",
    "print(salario)"
   ]
  },
  {
   "attachments": {},
   "cell_type": "markdown",
   "metadata": {},
   "source": [
    "__Obs.__: SEMPRE que eu trabalho com estrutura de repetição (WHILE) é NECESSÁRIO que a condição seja alterada dentro do while, SENÃO entro em looping infinito"
   ]
  },
  {
   "cell_type": "code",
   "execution_count": null,
   "metadata": {},
   "outputs": [],
   "source": [
    "# Exemplo de looping infinito\n",
    "salario = float(input(\"digite seu salario: \"))\n",
    "while(salario < 1100): ## Recebe uma expressão logica\n",
    "    print(salario)\n",
    "    \n",
    "# CUIDADO AO RODAR"
   ]
  },
  {
   "attachments": {},
   "cell_type": "markdown",
   "metadata": {},
   "source": [
    "Como podemos alterar este código para que não haja o loop infinito"
   ]
  },
  {
   "cell_type": "code",
   "execution_count": null,
   "metadata": {},
   "outputs": [],
   "source": [
    "# Veja agora um exemplo em que não há o loop infinito\n",
    "numero = int(input(\"Digite um numero: \"))\n",
    "maior = numero\n",
    "while(numero != 0):\n",
    "    numero = int(input(\"Digite um novo numero ou 0 para encerrar: \"))\n",
    "    if(numero > maior):\n",
    "        maior = numero\n",
    "    print(maior)\n",
    "print(maior)"
   ]
  },
  {
   "attachments": {},
   "cell_type": "markdown",
   "metadata": {},
   "source": [
    "__Exemplo:__ Some todos os números de 0 a um número digitado pelo usuário"
   ]
  },
  {
   "cell_type": "code",
   "execution_count": null,
   "metadata": {},
   "outputs": [],
   "source": [
    "# vamos digitar 4:\n",
    "\n",
    "# 0 + 1 + 2 + 3 + 4 = 10\n",
    "\n",
    "# digitar 3:\n",
    "# 0 + 1 + 2 + 3 = 6\n",
    "\n",
    "# digitar 7:\n",
    "# 0 + 1 + 2 + 3 + 4 + 5 + 6 + 7 = 28"
   ]
  },
  {
   "cell_type": "code",
   "execution_count": null,
   "metadata": {},
   "outputs": [],
   "source": [
    "soma = 0\n",
    "numero = int(input('Digite um número inteiro positivo:'))\n",
    "\n",
    "while numero > 0:\n",
    "  soma = soma + numero\n",
    "  numero -= 1 # numero = numero - 1\n",
    "  # print('Soma: ', soma)\n",
    "  # print('Numero:', numero)\n",
    "\n",
    "print(soma)"
   ]
  },
  {
   "cell_type": "code",
   "execution_count": null,
   "metadata": {},
   "outputs": [],
   "source": [
    "soma = 0\n",
    "contador = 0\n",
    "limite = int(input('Informe um número inteiro positivo:'))\n",
    "\n",
    "while contador <= limite:\n",
    "  soma = soma + contador # soma += contador\n",
    "  contador = contador + 1 # contador += 1\n",
    "\n",
    "print(soma)"
   ]
  },
  {
   "attachments": {},
   "cell_type": "markdown",
   "metadata": {},
   "source": [
    "**Vamos praticar (1)**\n",
    "\n",
    "1) Escreva um programa que solicite um número inteiro e imprima na tela todos os números de 1 até o número digitado, separado por espaços.  \n",
    "_Exemplo_  \n",
    "número digitado: 5  \n",
    "resultado esperado: 1 2 3 4 5"
   ]
  },
  {
   "cell_type": "code",
   "execution_count": null,
   "metadata": {},
   "outputs": [],
   "source": [
    "numero = int(input('digite um numero'))\n",
    "contador = 1\n",
    "string = ''\n",
    "while (numero >= contador):\n",
    "    string = string + str(contador) + ' '\n",
    "    contador = contador + 1\n",
    "print(string)"
   ]
  },
  {
   "cell_type": "code",
   "execution_count": null,
   "metadata": {},
   "outputs": [],
   "source": [
    "num = int(input('Digite um número: '))\n",
    "cont = 0\n",
    "while cont < num:\n",
    "    cont += 1\n",
    "    print(cont, end = ' ')"
   ]
  },
  {
   "attachments": {},
   "cell_type": "markdown",
   "metadata": {},
   "source": [
    "2) Faça um programa que mostre o fatorial de um número digitado. O fatorial de um número é o produto dele pelos seus antecessores maiores que 0\n",
    "\n",
    "_Exemplo_  \n",
    "número digitado: 5  \n",
    "resultado esperado: 120"
   ]
  },
  {
   "cell_type": "code",
   "execution_count": null,
   "metadata": {},
   "outputs": [],
   "source": [
    "# 5! = 5*4*3*2*1\n",
    "num = int(input('Digite um numero inteiro'))\n",
    "fat = 1\n",
    "cont = 1\n",
    "while cont <= num:\n",
    "    fat *= cont # fat = fat * cont = 1 * 2 * 3 * 4 * 5\n",
    "    cont += 1 # cont = cont + 1\n",
    "print(fat)"
   ]
  },
  {
   "cell_type": "code",
   "execution_count": null,
   "metadata": {},
   "outputs": [],
   "source": [
    "num_inp = int(input('Informe seu número: '))\n",
    "fat = 1\n",
    "num = 2\n",
    "\n",
    "while num <= num_inp: # num_inp = 5, num = 3, fat = 2\n",
    "    fat = fat * num # fat = 1 * 2 * 3\n",
    "    num = num + 1   # num = 2 + 1 = 3\n",
    "print(fat)\n"
   ]
  },
  {
   "cell_type": "code",
   "execution_count": null,
   "metadata": {},
   "outputs": [],
   "source": [
    "numero = int(input(\"Digite um numero inteiro positivo: \"))\n",
    "fatorial = 1\n",
    "\n",
    "while numero > 0:\n",
    "    fatorial = fatorial * numero\n",
    "    numero = numero - 1\n",
    "    \n",
    "print(fatorial)"
   ]
  },
  {
   "attachments": {},
   "cell_type": "markdown",
   "metadata": {},
   "source": [
    "3) Faça um programa que imprima a tabuada do 9 na tela (entre 1 e 10). Insira a conta, por exemplo, 9 * 1 = 9, sendo cada um dos valores em uma linha diferente."
   ]
  },
  {
   "cell_type": "code",
   "execution_count": null,
   "metadata": {},
   "outputs": [],
   "source": [
    "numero = int(input('Digite um número: '))\n",
    "contador = 1\n",
    "while (contador <= 10):\n",
    "    resultado = numero * contador \n",
    "    print(f'{numero}*{contador} = {resultado} ')\n",
    "    contador = contador + 1"
   ]
  },
  {
   "cell_type": "code",
   "execution_count": null,
   "metadata": {},
   "outputs": [],
   "source": [
    "ind = 1\n",
    "while (ind <= 10):\n",
    "    resultado = ind * 9 \n",
    "    print(f'{ind}*{9} = {resultado} ')\n",
    "    ind = ind + 1"
   ]
  },
  {
   "cell_type": "code",
   "execution_count": null,
   "metadata": {},
   "outputs": [],
   "source": [
    "numero_de_vezes = int(input('Digite um número inteiro de 1 a 10: '))\n",
    "contador = 0\n",
    "\n",
    "while contador != numero_de_vezes:\n",
    "    contador = contador + 1\n",
    "    conta = 9 * contador\n",
    "    print('9x{} = {}.'.format(contador, conta))"
   ]
  },
  {
   "attachments": {},
   "cell_type": "markdown",
   "metadata": {},
   "source": [
    "4) Faça um programa em que o usuário digite números quaisquer que encerrará no momento em que o valor 0 seja digitado. Ao final diga qual foi o maior número digitado."
   ]
  },
  {
   "cell_type": "code",
   "execution_count": 1,
   "metadata": {},
   "outputs": [
    {
     "name": "stdout",
     "output_type": "stream",
     "text": [
      "78.0\n"
     ]
    }
   ],
   "source": [
    "# import math\n",
    "# maior = -math.inf\n",
    "maior = -float('inf')\n",
    "numero = 1\n",
    "\n",
    "while numero != 0:\n",
    "    numero = float(input('Digite um número: '))\n",
    "    if numero > maior:\n",
    "        maior = numero\n",
    "\n",
    "print(maior)\n"
   ]
  },
  {
   "cell_type": "code",
   "execution_count": null,
   "metadata": {},
   "outputs": [],
   "source": [
    "numero = int(input(\"Digite um numero: \"))\n",
    "maior = numero \n",
    "while(numero != 0):\n",
    "    numero = int(input(\"Digite um novo numero ou 0 para encerrar: \"))\n",
    "    if(numero > maior):\n",
    "        maior = numero\n",
    "print(maior)"
   ]
  },
  {
   "cell_type": "code",
   "execution_count": null,
   "metadata": {},
   "outputs": [],
   "source": [
    "maior = -float('inf')\n",
    "num = None\n",
    "while num != 0:\n",
    "    num = float(input('Digite um número: '))\n",
    "    if num > maior:\n",
    "        maior = num\n",
    "print(f'O maior número digitado foi {maior}')"
   ]
  },
  {
   "attachments": {},
   "cell_type": "markdown",
   "metadata": {},
   "source": [
    "5. Faça um script que peça para o usuário digitar a idade, o salário e o sexo de uma pessoa até que as entradas digitadas sejam válidas.  \n",
    "  \n",
    "a. Idade: entre 0 e 150  \n",
    "b. Salário: maior que 0  \n",
    "c. Gênero: M, F ou Outro  \n",
    "  \n",
    "Por último imprima os dados recebidos do usuário."
   ]
  },
  {
   "cell_type": "code",
   "execution_count": null,
   "metadata": {},
   "outputs": [],
   "source": [
    "\n",
    "idade = int(input('Idade: '))\n",
    "while(idade < 0 or idade > 150):\n",
    "  print('Idade inválida. Idade dever ser um valor entre 0 e 150')\n",
    "  idade = int(input('Idade: '))\n",
    "\n",
    "salario = float(input('Salário: '))\n",
    "while(salario < 0):\n",
    "  print('Salário inválido. Salário dever ser um valor positivo')\n",
    "  salario = int(input('Salário: '))\n",
    "\n",
    "sexo = input('Gênero: ')\n",
    "while(sexo.upper() != 'M' and sexo.upper() != 'F' and sexo.upper() != \"OUTRO\"):\n",
    "  print('Sexo inválido. Sexo deve possuir os valor \"M\", \"F\" ou \"Outro\"')\n",
    "  sexo = input('Sexo: ')\n",
    "\n",
    "print(f'Os dados digitados foram:\\nIdade: {idade}\\nSalário: {salario}\\nGênero: {sexo.upper()}')"
   ]
  },
  {
   "attachments": {},
   "cell_type": "markdown",
   "metadata": {},
   "source": [
    "6) Faça uma calculadora. O usuário deve inserir qual a operação matemática ele deseja realizar e logo em seguida os dois números. O programa deve finalizar apenas quando o usuário digitar a opção \"sair\" no momento de escolha da operação matemática."
   ]
  },
  {
   "cell_type": "code",
   "execution_count": null,
   "metadata": {},
   "outputs": [],
   "source": [
    "operacao = input('Digite a operação ser feita ou SAIR para finalizar: ').lower()\n",
    "while operacao != '+' and operacao != '-' and operacao != '/' and operacao != '*' and operacao != 'sair':\n",
    "        print('- Input inválido -')\n",
    "        operacao = input('Digite a operação ser feita (+, -, * ou /) ou SAIR para finalizar: ').lower()\n",
    "\n",
    "while operacao != 'sair':\n",
    "\n",
    "    num1 = float(input('Digite um número: '))\n",
    "    num2 = float(input('Digite outro número: '))\n",
    "\n",
    "    if operacao == '*':\n",
    "        print(f'{num1} * {num2} = {num1 * num2}')\n",
    "    elif operacao == '/':\n",
    "        print(f'{num1} / {num2} = {num1 / num2}')\n",
    "    elif operacao == '+':\n",
    "        print(f'{num1} + {num2} = {num1 + num2}')\n",
    "    else:\n",
    "        print(f'{num1} - {num2} = {num1 - num2}')\n",
    "\n",
    "    operacao = input('Digite a operação ser feita ou SAIR para finalizar: ').lower()\n",
    "    while operacao != '+' and operacao != '-' and operacao != '/' and operacao != '*' and operacao != 'sair':\n",
    "        print('- Input inválido -')\n",
    "        operacao = input('Digite a operação ser feita (+, -, * ou /) ou SAIR para finalizar: ').lower()\n",
    "\n",
    "print('Fim')"
   ]
  }
 ],
 "metadata": {
  "kernelspec": {
   "display_name": "Python 3",
   "language": "python",
   "name": "python3"
  },
  "language_info": {
   "codemirror_mode": {
    "name": "ipython",
    "version": 3
   },
   "file_extension": ".py",
   "mimetype": "text/x-python",
   "name": "python",
   "nbconvert_exporter": "python",
   "pygments_lexer": "ipython3",
   "version": "3.10.5"
  },
  "orig_nbformat": 4,
  "vscode": {
   "interpreter": {
    "hash": "42478136ef40f8edd3f4cf991c33cffcfc620a666d0dc328e82cc0ef4d7b2c04"
   }
  }
 },
 "nbformat": 4,
 "nbformat_minor": 2
}
