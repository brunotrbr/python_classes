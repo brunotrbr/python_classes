{
 "cells": [
  {
   "attachments": {},
   "cell_type": "markdown",
   "metadata": {},
   "source": [
    "Imaginem que vocês estão programando um sistema escolar, e o critério de aprovação da escola seja que a média das notas deve ser superior a 7.0 e presença deve ser superior a 75%. \n",
    "\n",
    "Caso o aluno tenha entre 40% e 75% de presença, e a nota esteja entre 4.0 e 7.0, o aluno entra em recuperação.\n",
    "\n",
    "Por fim, caso o aluno tenha menos que 40% de presença ou nota inferior a 4.0, ele é reprovado automaticamente.\n",
    "\n",
    "Como nós escreveríamos esse programa?"
   ]
  },
  {
   "attachments": {},
   "cell_type": "markdown",
   "metadata": {},
   "source": [
    "Pra responder esse problema, o conteúdo que vimos até o momento na aula 1 é insuficiente. Vai ser necessário aprender um pouco sobre lógica booleana e, especificamente, álgebra booleana.\n",
    "\n",
    "Como nós vimos na aula 1, uma variável booleana é uma variável que pode assumir somente 2 valores, *True* ou *False*.\n",
    "\n",
    "Com base nisso, podemos fazer algumas operações lógicas para definir qual seria o resultado da operação entre 2 ou mais variáveis booleanos.\n",
    "\n",
    "&nbsp;\n",
    "\n",
    "Por exemplo:\n",
    "\n",
    "- Se a variável A for verdadeira, e a variável B for falsa, o resultado vai ser verdadeiro ou falso?\n",
    "- E se eu negar o resultado, qual será o resultado?\n",
    "\n",
    "&nbsp;\n",
    "\n",
    "As operações acima são exemplos de operações que escrevemos em código com muita frequência. Portanto, é fundamental entender tais operações. A tabela abaixo contém um resumo das duas principais operações lógicas, **and** e **or**."
   ]
  },
  {
   "attachments": {},
   "cell_type": "markdown",
   "metadata": {},
   "source": [
    "**AND** é uma conjunção lógica e o **OR** é uma disjunção lógica. O **not** é a negação lógica.\n",
    "\n",
    "| *A*   | *B*   | *A and B* | *A or B* | *not A* |\n",
    "|-------|-------|-----------|----------|---------|\n",
    "| False | False | False     | False    | True    |\n",
    "| False | True  | False     | True     | True    |\n",
    "| True  | False | False     | True     | False   |\n",
    "| True  | True  | True      | True     | False   |\n",
    "\n"
   ]
  },
  {
   "attachments": {},
   "cell_type": "markdown",
   "metadata": {},
   "source": [
    "## Estrutura condicional\n",
    "\n",
    "- if"
   ]
  },
  {
   "cell_type": "code",
   "execution_count": null,
   "metadata": {},
   "outputs": [],
   "source": [
    "nota_1 = float(input('Digite a nota 1: '))\n",
    "nota_2 = float(input('Digite a nota 2: '))\n",
    "\n",
    "media = (nota_1 + nota_2) / 2\n",
    "\n",
    "if media >= 7.0:\n",
    "  print('Aprovado')\n",
    "\n",
    "print('Média:', media)\n"
   ]
  },
  {
   "attachments": {},
   "cell_type": "markdown",
   "metadata": {},
   "source": [
    "Está faltando alguma coisa?"
   ]
  },
  {
   "cell_type": "code",
   "execution_count": null,
   "metadata": {},
   "outputs": [],
   "source": [
    "nota_1 = float(input('Digite a nota 1: '))\n",
    "nota_2 = float(input('Digite a nota 2: '))\n",
    "\n",
    "media = (nota_1 + nota_2) / 2\n",
    "\n",
    "if media >= 7.0:\n",
    "  print('Aprovado')\n",
    "\n",
    "if media >= 4.0 and media < 7.0:\n",
    "  print('Recuperação')\n",
    "\n",
    "if media < 4.0:\n",
    "  print('Reprovado')\n",
    "\n",
    "print('Média:', media)"
   ]
  },
  {
   "attachments": {},
   "cell_type": "markdown",
   "metadata": {},
   "source": [
    "Podemos otimizar o código? Com certeza."
   ]
  },
  {
   "attachments": {},
   "cell_type": "markdown",
   "metadata": {},
   "source": [
    "- else"
   ]
  },
  {
   "cell_type": "code",
   "execution_count": null,
   "metadata": {},
   "outputs": [],
   "source": [
    "nota_1 = float(input('Digite a nota 1: '))\n",
    "nota_2 = float(input('Digite a nota 2: '))\n",
    "\n",
    "media = (nota_1 + nota_2) / 2\n",
    "\n",
    "if media >= 7.0:\n",
    "  print('Aprovado')\n",
    "else:\n",
    "  print('Reprovado')\n",
    "\n",
    "print('Média:', media)"
   ]
  },
  {
   "attachments": {},
   "cell_type": "markdown",
   "metadata": {},
   "source": [
    "Continua faltando a condição intermediária, a recuperação"
   ]
  },
  {
   "attachments": {},
   "cell_type": "markdown",
   "metadata": {},
   "source": [
    "- else if, ou elif"
   ]
  },
  {
   "cell_type": "code",
   "execution_count": null,
   "metadata": {},
   "outputs": [],
   "source": [
    "nota1 = float(input('Digite a nota1: '))\n",
    "nota2 = float(input('Digite a nota2: '))\n",
    "\n",
    "media = (nota1 + nota2) / 2\n",
    "\n",
    "if media >= 7.0 and presenca >= 0.75:\n",
    "    print('Aprovado')\n",
    "elif media >= 5:      # Acrescentamos o else if = elif\n",
    "    print('Recuperação')\n",
    "else: ## O else nunca tem nada entre parenteses\n",
    "    print('Reprovado')\n",
    "\n",
    "print(f'Média: {media}')"
   ]
  },
  {
   "attachments": {},
   "cell_type": "markdown",
   "metadata": {},
   "source": [
    "Agora vamos adicionar as presenças para avaliar o aluno"
   ]
  },
  {
   "cell_type": "code",
   "execution_count": null,
   "metadata": {},
   "outputs": [],
   "source": [
    "nota1 = float(input('Digite a nota1: '))\n",
    "nota2 = float(input('Digite a nota2: '))\n",
    "presenca = float(input('Digite as presenças do aluno, em formato decimal (ex: para 75%, digite 0.75): '))\n",
    "\n",
    "media = (nota1 + nota2) / 2\n",
    "\n",
    "if media >= 7.0 and presenca >= 0.75:\n",
    "    print('Aprovado')\n",
    "elif media >= 4 and media < 7 and presenca >= 0.4 and presenca < 0.75:\n",
    "    print('Recuperação')\n",
    "else:\n",
    "    print('Reprovado')\n",
    "\n",
    "print(f'Média: {media}')"
   ]
  },
  {
   "attachments": {},
   "cell_type": "markdown",
   "metadata": {},
   "source": [
    "Podemos trocar o elif e o else de lugar, para uma sintaxe mais clara"
   ]
  },
  {
   "cell_type": "code",
   "execution_count": null,
   "metadata": {},
   "outputs": [],
   "source": [
    "nota1 = float(input('Digite a nota1: '))\n",
    "nota2 = float(input('Digite a nota2: '))\n",
    "presenca = float(input('Digite as presenças do aluno, em formato decimal (ex: para 75%, digite 0.75): '))\n",
    "\n",
    "\n",
    "\n",
    "media = (nota1 + nota2) / 2\n",
    "\n",
    "if media >= 7.0 and presenca >= 0.75:\n",
    "    print('Aprovado')\n",
    "elif media < 4 or presenca < 0.40:\n",
    "    print('Reprovado')\n",
    "else:\n",
    "    print('Recuperação')\n",
    "\n",
    "print(f'Média: {media}, Presença: {int(presenca * 100)}%')"
   ]
  },
  {
   "attachments": {},
   "cell_type": "markdown",
   "metadata": {},
   "source": [
    "**Vamos praticar (1)**"
   ]
  },
  {
   "attachments": {},
   "cell_type": "markdown",
   "metadata": {},
   "source": [
    "1) Imagine que você está implementando um sistema para verificar se os alunos de uma turma estudantil passaram na disciplina ou não. Para isso solicite que o usuário insira as notas das 4 provas realizadas por um estudante e calcule a média. Após isso, emita uma resposta booleana (True ou False) se o estudante passou na disciplina pensando que a média mínima para aprovação é que seja pelo menos 5."
   ]
  },
  {
   "cell_type": "code",
   "execution_count": null,
   "metadata": {},
   "outputs": [],
   "source": [
    "nota_1 = float(input('Informe a nota da primeira prova: '))\n",
    "nota_2 = float(input('Informe a nota da segunda prova: '))\n",
    "nota_3 = float(input('Informe a nota da terceira prova: '))\n",
    "nota_4 = float(input('Informe a nota da quarta prova: '))\n",
    "\n",
    "nota_final = (nota_1 + nota_2 + nota_3 + nota_4) / 4\n",
    "\n",
    "if nota >= 5:\n",
    "    print(True)\n",
    "else:\n",
    "    Print(False)"
   ]
  },
  {
   "attachments": {},
   "cell_type": "markdown",
   "metadata": {},
   "source": [
    "2) Faça um programa que peça a idade do usuário e imprima se ele é maior ou menor de 18 anos."
   ]
  },
  {
   "cell_type": "code",
   "execution_count": null,
   "metadata": {},
   "outputs": [],
   "source": [
    "idade = int(input(\"Digite sua idade: \"))\n",
    "\n",
    "if idade >= 18:\n",
    "  print('Maior de 18 anos!')\n",
    "else:\n",
    "  print('Menor de 18 anos!')"
   ]
  },
  {
   "cell_type": "code",
   "execution_count": null,
   "metadata": {},
   "outputs": [],
   "source": [
    "'maior de 18 anos' if int(input('Idade: ')) > 18 else 'menor de 18 anos'"
   ]
  },
  {
   "attachments": {},
   "cell_type": "markdown",
   "metadata": {},
   "source": [
    "3) Faça um programa que peça um número e mostre se ele é positivo ou negativo. Alternativa: acrescentar nulo"
   ]
  },
  {
   "cell_type": "code",
   "execution_count": null,
   "metadata": {},
   "outputs": [],
   "source": [
    "num = float(input('Digite um número:'))\n",
    "if num > 0:\n",
    "    print('Positivo')\n",
    "elif num == 0:\n",
    "    print('Nulo')\n",
    "else:\n",
    "    print('Negativo')"
   ]
  },
  {
   "cell_type": "code",
   "execution_count": null,
   "metadata": {},
   "outputs": [],
   "source": [
    "# Solução com if else inline\n",
    "num = float(input(\"Numero:\"))\n",
    "print(\"Positivo\" if num > 0 else (\"Nulo\" if num == 0 else \"Negativo\")) # Fica menos legível a medida que aumentamos o 'else if'"
   ]
  },
  {
   "attachments": {},
   "cell_type": "markdown",
   "metadata": {},
   "source": [
    "4) Faça um programa que peça dois números e mostre o maior deles."
   ]
  },
  {
   "cell_type": "code",
   "execution_count": null,
   "metadata": {},
   "outputs": [],
   "source": [
    "num1 = float(input('Digite o primeiro número: '))\n",
    "num2 = float(input('Digite o segundo número: '))\n",
    "\n",
    "if num1 > num2:\n",
    "    print(f'O {num1} é o maior')\n",
    "elif num2 > num1:\n",
    "    print(f'O {num2} é o maior')\n",
    "else:\n",
    "    print('Os números são iguais')"
   ]
  },
  {
   "attachments": {},
   "cell_type": "markdown",
   "metadata": {},
   "source": [
    "5) Faça um programa que leia a validade das informações:\n",
    "\n",
    "a. Idade: entre 0 e 150;\n",
    "\n",
    "b. Salário: maior que 0;\n",
    "\n",
    "c. Sexo: M, F ou Outro;\n",
    "\n",
    "O programa deve imprimir uma mensagem de erro para cada informação inválida."
   ]
  },
  {
   "cell_type": "code",
   "execution_count": null,
   "metadata": {},
   "outputs": [],
   "source": [
    "idade = int(input(\"Digite a idade: \"))\n",
    "salario = float(input(\"Digite o salário: \"))\n",
    "sexo = input(\"Digite o sexo (M, F ou Outro): \")\n",
    "\n",
    "if idade < 0 or idade > 150:\n",
    "    print (\"\\nA idade digitada deve ser entre 0 e 150\")\n",
    "if salario <= 0:\n",
    "    print (\"\\nO salário digitado deve ser maior que 0\")\n",
    "if sexo != \"F\" and sexo != \"M\" and sexo != \"Outro\":\n",
    "    print (\"\\nO sexo deve ser M, F ou Outro!\")\n"
   ]
  },
  {
   "attachments": {},
   "cell_type": "markdown",
   "metadata": {},
   "source": [
    "6) Faça um programa que mostre uma questão de múltipla escolha com 5 opções (letras a, b, c, d, e). \n",
    "Sabendo a resposta certa, o programa deve receber a opção do usuário e informar a letra que o usuário marcou e se a resposta está certa ou errada."
   ]
  },
  {
   "cell_type": "code",
   "execution_count": null,
   "metadata": {},
   "outputs": [],
   "source": [
    "print('Entre as opções abaixo, selecione a que corresponde ao dia de hoje')\n",
    "print('a) Segunda')\n",
    "print('b) terça')\n",
    "print('c) Quarta')\n",
    "print('d) Quinta')\n",
    "print('e) Sexta')\n",
    "\n",
    "opcao = input('Informe a opção: ')\n",
    "print()\n",
    "if opcao == 'b':\n",
    "    print('Certa resposta!')\n",
    "else:\n",
    "    print('Que pena, você errou!')"
   ]
  },
  {
   "attachments": {},
   "cell_type": "markdown",
   "metadata": {},
   "source": [
    "7) Vamos fazer um programa para verificar quem é o assassino de um crime. Para descobrir o assassino, \n",
    "a polícia faz um pequeno questionário com 5 perguntas \n",
    "onde a resposta só pode ser sim ou não:\n",
    "\n",
    "a. Mora perto da vítima?\n",
    "\n",
    "b. Já trabalhou com a vítima?\n",
    "\n",
    "c. Telefonou para a vítima?\n",
    "\n",
    "d. Esteve no local do crime?\n",
    "\n",
    "e. Devia para a vítima?\n",
    "\n",
    "Cada resposta sim dá um ponto para o suspeito. A polícia considera que os suspeitos com 5 pontos são os assassinos, com 4 a 3 pontos \n",
    "são cúmplices e 2 pontos são apenas suspeitos, necessitando outras investigações. Valores iguais ou abaixo de 1 são liberados.'''"
   ]
  },
  {
   "cell_type": "code",
   "execution_count": null,
   "metadata": {},
   "outputs": [],
   "source": [
    "print('Questionário de suspeitos')\n",
    "print('**Importante**: Responda as opções com \"True\" ou \"False\", sem as aspas.')\n",
    "mora_perto = int(bool(input('Você mora perto da vítima? ')))\n",
    "trabalhou_com_vitima = int(bool(input('Você já trabalhou com a vítima? ')))\n",
    "telefonou_para_vitima = int(bool(input('Você telefonou para a vítima? ')))\n",
    "presenca_local_crime = int(bool(input('Você esteve no local do crime? ')))\n",
    "devia_para_vitima = int(bool(input('Você devia algo para a vítima? ')))\n",
    "\n",
    "pontuacao = mora_perto + trabalhou_com_vitima + telefonou_para_vitima + presenca_local_crime + devia_para_vitima\n",
    "\n",
    "if pontuacao == 5:\n",
    "    print('Você está preso, assassino.')\n",
    "elif pontuacao == 4 or pontuacao == 3:\n",
    "    print('Você está preso, cúmplice.')\n",
    "elif pontuacao == 2:\n",
    "    print('Você está liberado, mas continua como um suspeito. Não saia da cidade.')\n",
    "else:\n",
    "    print('Você está liberado.')"
   ]
  },
  {
   "attachments": {},
   "cell_type": "markdown",
   "metadata": {},
   "source": [
    "8) Um produto vai sofrer aumento de acordo com a Tabela 1 abaixo. Faça um programa que peça para o usuário digitar o valor do produto de acordo \n",
    "com o preço antigo e escreva uma das mensagens da Tabela 2, de acordo com o preço reajustado:\n",
    "\n",
    "Tabela 1\n",
    "\n",
    "| Preço Antigo         | % de aumento |\n",
    "|----------------------|--------------|\n",
    "| Até 50 reais         | 5%           |\n",
    "| Entre 50 e 100 reais | 10%          |\n",
    "| De 100 a 150 reais   | 13%          |\n",
    "| Acima de 150 reais   | 15%          |\n",
    "\n",
    "Tabela 2\n",
    "\n",
    "| Preço Novo            | Mensagem   |\n",
    "|-----------------------|------------|\n",
    "| Até 80 reais          | Barato     |\n",
    "| Entre 80 e 115 reais  | Razoável   |\n",
    "| Entre 115 e 150 reais | Normal     |\n",
    "| Entre 150 e 170 reais | Caro       |\n",
    "| Acima de 170 reais    | Muito Caro |"
   ]
  },
  {
   "cell_type": "code",
   "execution_count": null,
   "metadata": {},
   "outputs": [],
   "source": [
    "valor_produto = float(input('Informe o valor do produto: '))\n",
    "\n",
    "if valor_produto < 50:\n",
    "    valor_reajustado = valor_produto * 1.05\n",
    "elif valor_produto >= 50 and valor_produto < 100:\n",
    "    valor_reajustado = valor_produto * 1.1\n",
    "elif valor_produto >= 100 and valor_produto < 150:\n",
    "    valor_reajustado = valor_produto * 1.13\n",
    "else:\n",
    "    valor_reajustado = valor_produto * 1.15\n",
    "\n",
    "if valor_reajustado < 80:\n",
    "    print('Barato')\n",
    "elif valor_reajustado >= 80 and valor_reajustado < 115:\n",
    "    print('Razoável')\n",
    "elif valor_reajustado >= 115 and valor_reajustado < 150:\n",
    "    print('Normal')\n",
    "elif valor_reajustado >= 150 and valor_reajustado < 170:\n",
    "    print('Caro')\n",
    "else:\n",
    "    print('Muito caro')"
   ]
  },
  {
   "attachments": {},
   "cell_type": "markdown",
   "metadata": {},
   "source": [
    "9) Faça um programa que leia 3 números e informe o maior deles."
   ]
  },
  {
   "cell_type": "code",
   "execution_count": null,
   "metadata": {},
   "outputs": [],
   "source": [
    "import math\n",
    "infinito_negativo = -math.inf\n",
    "print(infinito_negativo)"
   ]
  },
  {
   "cell_type": "code",
   "execution_count": null,
   "metadata": {},
   "outputs": [],
   "source": [
    "import math\n",
    "\n",
    "infinito_negativo = -math.inf\n",
    "\n",
    "numero_um = int(input('Informe o primeiro número'))\n",
    "numero_dois = int(input('Informe o segundo número'))\n",
    "numero_tres = int(input('Informe o terceiro número'))\n",
    "\n",
    "maior = infinito_negativo\n",
    "if numero_um >= maior:\n",
    "    maior = numero_um\n",
    "\n",
    "if numero_dois >= maior:\n",
    "    maior = numero_dois\n",
    "\n",
    "if numero_tres >= maior:\n",
    "    maior = numero_tres\n",
    "\n",
    "print(maior)"
   ]
  },
  {
   "cell_type": "code",
   "execution_count": null,
   "metadata": {},
   "outputs": [],
   "source": [
    "import math\n",
    "\n",
    "infinito_negativo = -math.inf\n",
    "\n",
    "numero_um = int(input('Informe o primeiro número'))\n",
    "numero_dois = int(input('Informe o segundo número'))\n",
    "numero_tres = int(input('Informe o terceiro número'))\n",
    "\n",
    "maior = infinito_negativo\n",
    "if numero_um >= numero_dois and numero_um >= numero_tres:\n",
    "    maior = numero_um\n",
    "elif numero_dois >= numero_tres and numero_dois >= numero_um:\n",
    "    maior = numero_dois\n",
    "elif numero_tres >= numero_um and numero_tres >= numero_dois:\n",
    "    maior = numero_tres\n",
    "\n",
    "print(maior)"
   ]
  }
 ],
 "metadata": {
  "kernelspec": {
   "display_name": "Python 3",
   "language": "python",
   "name": "python3"
  },
  "language_info": {
   "codemirror_mode": {
    "name": "ipython",
    "version": 3
   },
   "file_extension": ".py",
   "mimetype": "text/x-python",
   "name": "python",
   "nbconvert_exporter": "python",
   "pygments_lexer": "ipython3",
   "version": "3.10.5 (tags/v3.10.5:f377153, Jun  6 2022, 16:14:13) [MSC v.1929 64 bit (AMD64)]"
  },
  "orig_nbformat": 4,
  "vscode": {
   "interpreter": {
    "hash": "42478136ef40f8edd3f4cf991c33cffcfc620a666d0dc328e82cc0ef4d7b2c04"
   }
  }
 },
 "nbformat": 4,
 "nbformat_minor": 2
}
