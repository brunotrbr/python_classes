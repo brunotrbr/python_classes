{
 "cells": [
  {
   "cell_type": "markdown",
   "metadata": {},
   "source": [
    "# Encapsulamento\n",
    "\n",
    "Como falamos brevemente na primeira aula o encapsulamento, na prática, é o ato de:\n",
    "\n",
    "- Tornar o código privado, removendo o acesso a ele\n",
    "- Fazer com que o objeto controle apenas o seu próprio estado\n",
    "\n",
    "Mas como fazemos isso?\n",
    "\n",
    ">Vamos começar escrevendo uma classe para um funcionário de uma empresa. Ela deve armazenar o nome do funcionário, o cargo, o valor que ele recebe por hora trabalhada, quantas horas o funcionário trabalhou e o salário.\n",
    ">\n",
    ">As horas trabalhadas e o salário devem iniciar com valor 0.\n",
    ">\n",
    ">Essa classe precisa ter um método para registrar horas trabalhadas e um para calcular o salário (horas trabalhadas x valor da hora)"
   ]
  },
  {
   "cell_type": "code",
   "execution_count": null,
   "metadata": {},
   "outputs": [],
   "source": [
    "class Funcionario:\n",
    "    def __init__(self, nome: str, cargo: str, valor_hora_trabalhada: int):\n",
    "        self.nome = nome\n",
    "        self.cargo = cargo\n",
    "        self.valor_hora_trabalhada = valor_hora_trabalhada\n",
    "        self.horas_trabalhadas = 0 \n",
    "        self.salario = 0 \n",
    "\n",
    "    def registra_hora_trabalhada(self):\n",
    "        self.horas_trabalhadas += 1\n",
    "\n",
    "    def calcula_salario(self):\n",
    "        self.salario = self.horas_trabalhadas * self.valor_hora_trabalhada"
   ]
  },
  {
   "cell_type": "markdown",
   "metadata": {},
   "source": [
    "Para testar nossa classe, vamos instanciar ela e registrar algumas horas de trabalho. Por fim, vamos calcular o salário."
   ]
  },
  {
   "cell_type": "code",
   "execution_count": null,
   "metadata": {},
   "outputs": [],
   "source": [
    "f = Funcionario('Bruno', 'Professor', 30)\n",
    "print(f.valor_hora_trabalhada)\n",
    "f.registra_hora_trabalhada()\n",
    "f.registra_hora_trabalhada()\n",
    "f.registra_hora_trabalhada()\n",
    "f.calcula_salario()\n",
    "print(f.salario)"
   ]
  },
  {
   "cell_type": "markdown",
   "metadata": {},
   "source": [
    "Essa forma de escrever o código tem um grande problema. O salário está exposto, e nada impede que alguém altere o salário diretamente, conforme demonstrado abaixo:"
   ]
  },
  {
   "cell_type": "code",
   "execution_count": null,
   "metadata": {},
   "outputs": [],
   "source": [
    "f = Funcionario('Bruno', 'Professor', 30)\n",
    "print(f.valor_hora_trabalhada)\n",
    "f.registra_hora_trabalhada()\n",
    "f.registra_hora_trabalhada()\n",
    "f.registra_hora_trabalhada()\n",
    "f.salario = 1000000\n",
    "print(f.salario)"
   ]
  },
  {
   "cell_type": "markdown",
   "metadata": {},
   "source": [
    "Para resolver esse problema, devemos transformar o salário em um atributo privado!"
   ]
  },
  {
   "cell_type": "markdown",
   "metadata": {},
   "source": [
    "## Modificadores de acesso\n",
    "\n",
    "Diversas linguagens orientadas a objeto oferecem ferramentas para ajudar a proteger o encapsulamento da classe: restringir o acesso aos seus atributos. Na maioria dessas linguagens temos 3 níveis de acesso, e seu significado varia pouco de linguagem para linguagem. Eles tipicamente são:\n",
    "\n",
    "- **Private (privado)**: apenas objetos da própria classe possuem acesso ao atributo.\n",
    "\n",
    "- **Protected (protegido)**: apenas objetos da própria classe ou de classes herdeiras possuem acesso ao atributo.\n",
    "\n",
    "- **Public (público)**: os atributos podem ser acessados livremente em qualquer ponto do código.\n",
    "\n",
    "Em python não utilizamos as palavras reservadas **private**, **protected** ou **public**. Utilizamos nenhum, um (`_`) ou dois underscores (`__`) antes do nome do atributo, para criar eles.\n",
    "\n",
    "&nbsp;\n",
    "\n",
    "Os atributos públicos não utilizam underscore no nome. São criados conforme a sintaxe:\n",
    "\n",
    "`self.atributo_publico`\n",
    "\n",
    "&nbsp;\n",
    "\n",
    "Os atributos protegidos utilizam um underscore (`_`) no nome. São criados conforme a sintaxe:\n",
    "\n",
    "`self._atributo_protegido`\n",
    "\n",
    "&nbsp;\n",
    "\n",
    "Os atributos privados utilizam dois underscores (`__`) no nome. São criados conforme a sintaxe:\n",
    "\n",
    "`self.__atributo_privado`\n",
    "\n",
    "&nbsp;\n",
    "\n",
    "Ao criar um atributo privado não conseguimos mais acessar ele diretamente por fora da classe."
   ]
  },
  {
   "cell_type": "code",
   "execution_count": null,
   "metadata": {},
   "outputs": [],
   "source": [
    "class Funcionario:\n",
    "    def __init__(self, nome: str, cargo: str, valor_hora_trabalhada: int):\n",
    "        self.nome = nome\n",
    "        self.cargo = cargo\n",
    "        self.valor_hora_trabalhada = valor_hora_trabalhada\n",
    "        self.horas_trabalhadas = 0 \n",
    "        self.__salario = 10\n",
    "\n",
    "    def registra_hora_trabalhada(self):\n",
    "        self.horas_trabalhadas += 1\n",
    "\n",
    "    def calcula_salario(self):\n",
    "        self.__salario = self.horas_trabalhadas * self.valor_hora_trabalhada"
   ]
  },
  {
   "cell_type": "code",
   "execution_count": null,
   "metadata": {},
   "outputs": [],
   "source": [
    "f = Funcionario('Bruno', 'Professor', 30)\n",
    "print(f.valor_hora_trabalhada)\n",
    "f.registra_hora_trabalhada()\n",
    "f.registra_hora_trabalhada()\n",
    "f.registra_hora_trabalhada()\n",
    "# print(f.__salario)  # Da erro\n",
    "f.__salario = 1000000  # Isso funciona, pois estamos criando uma variável chamada \"__salario\" dentro do objeto \"f\"\n",
    "print(f.__salario)\n"
   ]
  },
  {
   "cell_type": "markdown",
   "metadata": {},
   "source": [
    "Existe, contudo, um problema ao transformar os atributos em privados adicionando os dois underscores. Um dos pilares da POO é o conceito de herança, ou seja, as classes filhas herdarem os atributos da classe pai. Só se quando transoformamos essa classe em privada, o atributo privado **não** é herdado."
   ]
  },
  {
   "cell_type": "code",
   "execution_count": null,
   "metadata": {},
   "outputs": [],
   "source": [
    "class Auxiliar(Funcionario):\n",
    "    def __init__(self, nome: str, cargo: str, valor_hora_trabalhada: int):\n",
    "        Funcionario.__init__(self, nome=nome, cargo=cargo, valor_hora_trabalhada=valor_hora_trabalhada)\n",
    "\n",
    "aux = Auxiliar('Bruno', 'Professor', 30)\n",
    "print(aux.valor_hora_trabalhada)"
   ]
  },
  {
   "cell_type": "markdown",
   "metadata": {},
   "source": [
    "Para contornar esse problema a comunidade do python definiu que, por convenção, os atributos privados iniciam seu nome utilizando **somente um underscore `_`**.\n",
    "\n",
    "> A comunidade prefere, ao invés de construir paredes para impedir que as coisas sejam feitas, sinalizar que algo não deve ser feito (ou que deve ser feito do jeito X) e esperar que todos hajam como adultos fazendo a coisa certa.\n",
    "\n",
    "Portanto, daqui para frente, podemos escrever os atributos privados dos dois jeitos (com um ou dois underscores). Mas lembrem que com dois underscores vai ter prejuízos ou excesso de código em casos de herança."
   ]
  },
  {
   "cell_type": "code",
   "execution_count": null,
   "metadata": {},
   "outputs": [],
   "source": [
    "class Funcionario:\n",
    "    def __init__(self, nome: str, cargo: str, valor_hora_trabalhada: int):\n",
    "        self.nome = nome\n",
    "        self.cargo = cargo\n",
    "        self.valor_hora_trabalhada = valor_hora_trabalhada\n",
    "        self.horas_trabalhadas = 0 \n",
    "        self._salario = 0\n",
    "\n",
    "    def registra_hora_trabalhada(self):\n",
    "        self.horas_trabalhadas += 1\n",
    "\n",
    "    def calcula_salario(self):\n",
    "        self._salario = self.horas_trabalhadas * self.valor_hora_trabalhada"
   ]
  },
  {
   "cell_type": "code",
   "execution_count": null,
   "metadata": {},
   "outputs": [],
   "source": [
    "f = Funcionario('Bruno', 'Professor', 30)\n",
    "print(f.valor_hora_trabalhada)\n",
    "f.registra_hora_trabalhada()\n",
    "f.registra_hora_trabalhada()\n",
    "f.registra_hora_trabalhada()\n",
    "f.calcula_salario()\n",
    "print(f._salario)  # Agora conseguimos acessar o valor do atributo diretamente, mas não devemos fazer porque \"é privado\".\n"
   ]
  },
  {
   "cell_type": "markdown",
   "metadata": {},
   "source": [
    "Agora nós temos atributos privados no nosso código, mas como acessamos eles?\n",
    "\n",
    "Vamos primeiro declarar que, além do salário, as horas trabalhadas também são um atributo privado."
   ]
  },
  {
   "cell_type": "code",
   "execution_count": null,
   "metadata": {},
   "outputs": [],
   "source": [
    "class Funcionario:\n",
    "    def __init__(self, nome: str, cargo: str, valor_hora_trabalhada: int):\n",
    "        self.nome = nome\n",
    "        self.cargo = cargo\n",
    "        self.valor_hora_trabalhada = valor_hora_trabalhada\n",
    "        self._horas_trabalhadas = 0 \n",
    "        self._salario = 0\n",
    "\n",
    "    def registra_hora_trabalhada(self):\n",
    "        self._horas_trabalhadas += 1\n",
    "\n",
    "    def calcula_salario(self):\n",
    "        self._salario = self._horas_trabalhadas * self.valor_hora_trabalhada"
   ]
  },
  {
   "cell_type": "markdown",
   "metadata": {},
   "source": [
    "## Métodos get e set\n",
    "Quem já tem contato com outras linguagens de programação orientadas a objetos, como Java ou C#, vai lembrar que para acessar os atributos utilizamos os métodos **get** e **set**.\n",
    "\n",
    "get_salario, set_salario, e por ai vai.\n",
    "\n",
    "No python vamos fazer a mesma coisa, mas podemos utilizar um decorator chamado `@property` ou a função `property`. \n",
    "\n",
    "\n",
    "### decorator @property\n",
    "Quando adicionamos o `@property`, podemos reutilizar o nome da propriedade sem precisar ficar criando novos nomes para os gets e sets no código.\n",
    "\n",
    "Então, nosso código agora fica da seguinte forma:"
   ]
  },
  {
   "cell_type": "code",
   "execution_count": null,
   "metadata": {},
   "outputs": [],
   "source": [
    "class Funcionario:\n",
    "    def __init__(self, nome: str, cargo: str, valor_hora_trabalhada: int):\n",
    "        self.nome = nome\n",
    "        self.cargo = cargo\n",
    "        self.valor_hora_trabalhada = valor_hora_trabalhada\n",
    "        self._horas_trabalhadas = 0 \n",
    "        self._salario = 0\n",
    "\n",
    "    def registra_hora_trabalhada(self):\n",
    "        self._horas_trabalhadas += 1\n",
    "\n",
    "    def calcula_salario(self):\n",
    "        self._salario = self._horas_trabalhadas * self.valor_hora_trabalhada\n",
    "\n",
    "    # get horas trabalhadas\n",
    "    @property\n",
    "    def horas_trabalhadas(self):\n",
    "        return self._horas_trabalhadas\n",
    "\n",
    "    # set horas trabalhadas\n",
    "    @horas_trabalhadas.setter\n",
    "    def horas_trabalhadas(self, qtde_horas):\n",
    "        self._horas_trabalhadas = qtde_horas\n",
    "\n",
    "    # get salario\n",
    "    @property\n",
    "    def salario(self):\n",
    "        return self._salario\n",
    "\n",
    "    # Não vamos adicionar um set de salario, pois ele é calculado através do método calcula_salario"
   ]
  },
  {
   "cell_type": "markdown",
   "metadata": {},
   "source": [
    "Referente ao get, observem que:\n",
    "\n",
    "- Declaramos o uso de `@property` para indicar que vamos definir uma propriedade. Isso aumenta a legibilidade do código, pois conseguimos ver com clareza a finalidade desse método.\n",
    "\n",
    "- Definimos o método usando `def horas_trabalhadas(self)`, ou seja, com o mesmo nome que a propriedade deveria ter. Vamos usar esse nome para acessar e modificar o atributo fora da classe.\n",
    "\n",
    "- Por fim, retornamos a quantidade de horas trabalhadas `return self._horas_trabalhadas`\n",
    "\n",
    "&nbsp;\n",
    "\n",
    "Referente ao set, observem que:\n",
    "\n",
    "- Utilzamos a sintaxe `@horas_trabalhadas.setter` para indicar que é o set da propriedade horas_trabalhadas\n",
    "\n",
    "- Na definição do método esperamos, além do self, um novo valor para ser atribuído à quantidade de horas trabalhadas.\n",
    "\n",
    "- Por fim, atribuímos o valor ao atributo privado `self._horas_trabalhadas = qtde_horas`\n",
    "\n",
    "&nbsp;\n",
    "\n",
    "Agora podemos modificar e ler os atributos privados"
   ]
  },
  {
   "cell_type": "code",
   "execution_count": null,
   "metadata": {},
   "outputs": [],
   "source": [
    "f = Funcionario('Bruno', 'Professor', 30)\n",
    "print(f.valor_hora_trabalhada)\n",
    "f.registra_hora_trabalhada()\n",
    "f.registra_hora_trabalhada()\n",
    "f.registra_hora_trabalhada()\n",
    "f.calcula_salario()\n",
    "print(f.salario)\n",
    "print(f.horas_trabalhadas)\n",
    "f.horas_trabalhadas = 10\n",
    "print(f.horas_trabalhadas)\n",
    "f.calcula_salario()\n",
    "print(f.salario)"
   ]
  },
  {
   "cell_type": "markdown",
   "metadata": {},
   "source": [
    "Podemos ainda validar os valores antes de atribuir. Por exemplo, impedir que seja adicionado um valor de horas inválido nas horas trabalhadas"
   ]
  },
  {
   "cell_type": "code",
   "execution_count": null,
   "metadata": {},
   "outputs": [],
   "source": [
    "class Funcionario:\n",
    "    def __init__(self, nome: str, cargo: str, valor_hora_trabalhada: int):\n",
    "        self.nome = nome\n",
    "        self.cargo = cargo\n",
    "        self.valor_hora_trabalhada = valor_hora_trabalhada\n",
    "        self._horas_trabalhadas = 0 \n",
    "        self._salario = 0\n",
    "\n",
    "    def registra_hora_trabalhada(self):\n",
    "        self._horas_trabalhadas += 1\n",
    "\n",
    "    def calcula_salario(self):\n",
    "        self._salario = self._horas_trabalhadas * self.valor_hora_trabalhada\n",
    "\n",
    "    # get horas trabalhadas\n",
    "    @property\n",
    "    def horas_trabalhadas(self):\n",
    "        return self._horas_trabalhadas\n",
    "\n",
    "    # set horas trabalhadas\n",
    "    @horas_trabalhadas.setter\n",
    "    def horas_trabalhadas(self, qtde_horas):\n",
    "        if qtde_horas < 0:\n",
    "            print('Quantidade de horas inválida') \n",
    "        else:\n",
    "            self._horas_trabalhadas = qtde_horas\n",
    "\n",
    "    # get salario\n",
    "    @property\n",
    "    def salario(self):\n",
    "        return self._salario\n",
    "\n",
    "    # Não vamos adicionar um set de salario, pois ele é calculado através do método calcula_salario"
   ]
  },
  {
   "cell_type": "code",
   "execution_count": null,
   "metadata": {},
   "outputs": [],
   "source": [
    "f = Funcionario('Bruno', 'Professor', 30)\n",
    "f.horas_trabalhadas = -1\n",
    "print(f.horas_trabalhadas)"
   ]
  },
  {
   "cell_type": "markdown",
   "metadata": {},
   "source": [
    "É possível também inserir a função de **delete** nos atributos, para remover o atributo da instância da classe"
   ]
  },
  {
   "cell_type": "code",
   "execution_count": null,
   "metadata": {},
   "outputs": [],
   "source": [
    "class Funcionario:\n",
    "    def __init__(self, nome: str, cargo: str, valor_hora_trabalhada: int):\n",
    "        self.nome = nome\n",
    "        self.cargo = cargo\n",
    "        self.valor_hora_trabalhada = valor_hora_trabalhada\n",
    "        self._horas_trabalhadas = 0 \n",
    "        self._salario = 0\n",
    "\n",
    "    def registra_hora_trabalhada(self):\n",
    "        self._horas_trabalhadas += 1\n",
    "\n",
    "    def calcula_salario(self):\n",
    "        self._salario = self._horas_trabalhadas * self.valor_hora_trabalhada\n",
    "\n",
    "    # get horas trabalhadas\n",
    "    @property\n",
    "    def horas_trabalhadas(self):\n",
    "        return self._horas_trabalhadas\n",
    "\n",
    "    # set horas trabalhadas\n",
    "    @horas_trabalhadas.setter\n",
    "    def horas_trabalhadas(self, qtde_horas):\n",
    "        if qtde_horas < 0:\n",
    "            print('Quantidade de horas inválida') \n",
    "        else:\n",
    "            self._horas_trabalhadas = qtde_horas\n",
    "\n",
    "    # delete horas trabalhadas\n",
    "    @horas_trabalhadas.deleter\n",
    "    def horas_trabalhadas(self):\n",
    "        del self._horas_trabalhadas\n",
    "        \n",
    "    # get salario\n",
    "    @property\n",
    "    def salario(self):\n",
    "        return self._salario\n",
    "\n",
    "    # Não vamos adicionar um set de salario, pois ele é calculado através do método calcula_salario"
   ]
  },
  {
   "cell_type": "code",
   "execution_count": null,
   "metadata": {},
   "outputs": [],
   "source": [
    "f = Funcionario('Bruno', 'Professor', 30)\n",
    "f.horas_trabalhadas = 10\n",
    "print(f.horas_trabalhadas)\n",
    "del f.horas_trabalhadas\n",
    "print(f.horas_trabalhadas)  # da erro, pois deletamos o atributo da instância\n",
    "# f.horas_trabalhadas = 10  # Mas podemos atribuir novamente\n",
    "# print(f.horas_trabalhadas)\n",
    "\n",
    "# # Outras instâncias não são afetadas pelo delete\n",
    "# f2 = Funcionario('Bruno', 'Professor', 30)\n",
    "# f2.horas_trabalhadas = 50\n",
    "# print(f2.horas_trabalhadas)"
   ]
  },
  {
   "cell_type": "markdown",
   "metadata": {},
   "source": [
    "### função property\n",
    "\n",
    "Existe quem não goste de ficar adicionando @property nas classes do python. Para contornar isso, podemos escrever nossos get e set de outra forma, utilizando a função property.\n",
    "\n",
    "Para isso, vamos:\n",
    "\n",
    "1) [Obrigatório] Criar os métodos get e set sem os decorators\n",
    "\n",
    "2) [Opcional] Tornar esse métodos privados, para não confundir outros programadores\n",
    "\n",
    "3) [Obrigatório] Criar um atalho para a propriedade, usando a função **property**"
   ]
  },
  {
   "cell_type": "code",
   "execution_count": null,
   "metadata": {},
   "outputs": [],
   "source": [
    "class Funcionario:\n",
    "    def __init__(self, nome: str, cargo: str, valor_hora_trabalhada: int):\n",
    "        self.nome = nome\n",
    "        self.cargo = cargo\n",
    "        self.valor_hora_trabalhada = valor_hora_trabalhada\n",
    "        self._horas_trabalhadas = 0 \n",
    "        self._salario = 0\n",
    "\n",
    "    def registra_hora_trabalhada(self):\n",
    "        self._horas_trabalhadas += 1\n",
    "\n",
    "    def calcula_salario(self):\n",
    "        self._salario = self._horas_trabalhadas * self.valor_hora_trabalhada\n",
    "\n",
    "    def __get_salario(self):\n",
    "        return self._salario\n",
    "    \n",
    "    def __get_horas_trabalhadas(self):\n",
    "        return self._horas_trabalhadas\n",
    "    \n",
    "    def __set_horas_trabalhadas(self, qtde_horas):\n",
    "        if qtde_horas < 0:\n",
    "            print('Quantidade de horas inválida') \n",
    "        else:\n",
    "            self._horas_trabalhadas = qtde_horas\n",
    "\n",
    "    salario = property(__get_salario)\n",
    "\n",
    "    horas_trabalhadas = property(__get_horas_trabalhadas, __set_horas_trabalhadas)"
   ]
  },
  {
   "cell_type": "code",
   "execution_count": null,
   "metadata": {},
   "outputs": [],
   "source": [
    "f = Funcionario('Bruno', 'Professor', 50)\n",
    "print(f.valor_hora_trabalhada)\n",
    "f.registra_hora_trabalhada()\n",
    "f.registra_hora_trabalhada()\n",
    "f.calcula_salario()\n",
    "print(f.salario)\n",
    "print(f.horas_trabalhadas)\n",
    "f.horas_trabalhadas = 50\n",
    "print(f.horas_trabalhadas)\n",
    "f.calcula_salario()\n",
    "print(f.salario)\n"
   ]
  },
  {
   "cell_type": "markdown",
   "metadata": {},
   "source": [
    "## Praticando um pouco\n",
    "\n",
    "Escreva as classes, métodos (inclusive construtor) e atributos. Declare os atributos como privados, e exponha o acesso através de propriedades.\n",
    "\n",
    "### Exercício 1\n",
    "Um portão de garagem"
   ]
  },
  {
   "cell_type": "code",
   "execution_count": null,
   "metadata": {},
   "outputs": [],
   "source": []
  },
  {
   "cell_type": "markdown",
   "metadata": {},
   "source": [
    "### Exercício 2\n",
    "Uma lâmpada com dimmer"
   ]
  },
  {
   "cell_type": "code",
   "execution_count": null,
   "metadata": {},
   "outputs": [],
   "source": [
    "class LampadaDimmer:\n",
    "    def __init__(self):\n",
    "        self.intensidade = 0\n",
    "\n",
    "    def aumentar(self):\n",
    "        if self.intensidade < 5:\n",
    "            self.intensidade += 1\n",
    "\n",
    "    def diminuir(self):\n",
    "        if self.intensidade > 0:\n",
    "            self.intensidade -= 1\n",
    "    \n",
    "    def checar_intensidade(self):\n",
    "        return self.intensidade\n",
    "\n",
    "lamp = LampadaDimmer()\n",
    "print(lamp.checar_intensidade())\n",
    "lamp.aumentar()\n",
    "lamp.aumentar()\n",
    "lamp.aumentar()\n",
    "lamp.aumentar()\n",
    "lamp.aumentar()\n",
    "print(lamp.checar_intensidade())\n",
    "lamp.aumentar()\n",
    "print(lamp.checar_intensidade())\n",
    "lamp.diminuir()\n",
    "lamp.diminuir()\n",
    "lamp.diminuir()\n",
    "lamp.diminuir()\n",
    "lamp.diminuir()\n",
    "print(lamp.checar_intensidade())\n",
    "lamp.diminuir()\n",
    "print(lamp.checar_intensidade())\n",
    "\n"
   ]
  },
  {
   "cell_type": "markdown",
   "metadata": {},
   "source": [
    "### Exercício 3\n",
    "Um carro"
   ]
  },
  {
   "cell_type": "code",
   "execution_count": null,
   "metadata": {},
   "outputs": [],
   "source": [
    "class Carro:\n",
    "    def __init__(self):\n",
    "        self.velocidade = 0\n",
    "    \n",
    "    def acelerar(self):\n",
    "        if self.velocidade < 180:\n",
    "            self.velocidade += 5\n",
    "    \n",
    "    def desacelerar(self):\n",
    "        if self.velocidade > 0:\n",
    "            self.velocidade -= 5\n",
    "    \n",
    "    def frear(self):\n",
    "        if self.velocidade > 0:\n",
    "            if self.velocidade > 5:\n",
    "                self.velocidade -= 10\n",
    "            else:\n",
    "                self.velocidade -= 5\n",
    "    \n",
    "    def checar_velocidade(self):\n",
    "        return self.velocidade\n",
    "\n",
    "carro = Carro()\n",
    "print(carro.checar_velocidade())\n",
    "carro.acelerar()\n",
    "carro.acelerar()\n",
    "carro.acelerar()\n",
    "carro.acelerar()\n",
    "print(carro.checar_velocidade())\n",
    "carro.desacelerar()\n",
    "print(carro.checar_velocidade())\n",
    "carro.desacelerar()\n",
    "carro.desacelerar()\n",
    "carro.desacelerar()\n",
    "print(carro.checar_velocidade())\n",
    "carro.desacelerar()\n",
    "print(carro.checar_velocidade())\n",
    "carro.acelerar()\n",
    "carro.acelerar()\n",
    "carro.acelerar()\n",
    "print(carro.checar_velocidade())\n",
    "carro.frear()\n",
    "print(carro.checar_velocidade())\n",
    "carro.frear()\n",
    "print(carro.checar_velocidade())\n",
    "carro.frear()\n",
    "print(carro.checar_velocidade())\n",
    "carro.acelerar()\n",
    "carro.acelerar()\n",
    "carro.acelerar()\n",
    "carro.acelerar()\n",
    "carro.acelerar()\n",
    "carro.acelerar()\n",
    "carro.acelerar()\n",
    "carro.acelerar()\n",
    "carro.acelerar()\n",
    "carro.acelerar()\n",
    "carro.acelerar()\n",
    "carro.acelerar()\n",
    "carro.acelerar()\n",
    "carro.acelerar()\n",
    "carro.acelerar()\n",
    "carro.acelerar()\n",
    "carro.acelerar()\n",
    "carro.acelerar()\n",
    "carro.acelerar()\n",
    "carro.acelerar()\n",
    "carro.acelerar()\n",
    "carro.acelerar()\n",
    "carro.acelerar()\n",
    "carro.acelerar()\n",
    "carro.acelerar()\n",
    "carro.acelerar()\n",
    "carro.acelerar()\n",
    "carro.acelerar()\n",
    "carro.acelerar()\n",
    "carro.acelerar()\n",
    "carro.acelerar()\n",
    "carro.acelerar()\n",
    "carro.acelerar()\n",
    "carro.acelerar()\n",
    "carro.acelerar()\n",
    "carro.acelerar()\n",
    "print(carro.checar_velocidade())\n",
    "carro.acelerar()\n",
    "print(carro.checar_velocidade())"
   ]
  },
  {
   "cell_type": "markdown",
   "metadata": {},
   "source": [
    "### Exercício 4\n",
    "Uma fração"
   ]
  },
  {
   "cell_type": "code",
   "execution_count": null,
   "metadata": {},
   "outputs": [],
   "source": []
  },
  {
   "cell_type": "markdown",
   "metadata": {},
   "source": [
    "\n",
    "### Exercício 5\n",
    "Um quadrado (incluir cálculo de área e perímetro)"
   ]
  },
  {
   "cell_type": "code",
   "execution_count": null,
   "metadata": {},
   "outputs": [],
   "source": []
  },
  {
   "cell_type": "markdown",
   "metadata": {},
   "source": [
    "-------------------------"
   ]
  },
  {
   "cell_type": "markdown",
   "metadata": {},
   "source": [
    "## Decorators\n",
    "\n",
    "Voltando ao conceito de decorators, o decorator é uma função que, basicamente, adiciona uma nova funcionalidade a uma função que é passada como argumento.\n",
    "\n",
    "Pra demonstrar o funcionamento deles, nós vamos construir o hamburger double cheddar do mc donalds usando python"
   ]
  },
  {
   "cell_type": "code",
   "execution_count": null,
   "metadata": {},
   "outputs": [],
   "source": [
    "def double_cheddar(ingrediente=\"--carne--\"):\n",
    "    print(ingrediente)\n",
    "    print(ingrediente)\n",
    "\n",
    "double_cheddar()"
   ]
  },
  {
   "cell_type": "markdown",
   "metadata": {},
   "source": [
    "Agora vamos criar outro decorator, para adicionar mais ingredientes. E adicionamos o decorator ao double cheddar"
   ]
  },
  {
   "cell_type": "code",
   "execution_count": null,
   "metadata": {},
   "outputs": [],
   "source": [
    "def ingredientes(func):\n",
    "    def wrapper():\n",
    "        print(\"~cebola~\")\n",
    "        print(\"#cheddar#\")\n",
    "        func()\n",
    "        print(\"#cheddar#\")\n",
    "    return wrapper\n",
    "\n",
    "@ingredientes\n",
    "def double_cheddar(ingrediente=\"--carne--\"):\n",
    "    print(ingrediente)\n",
    "    print(ingrediente)\n",
    "\n",
    "double_cheddar()"
   ]
  },
  {
   "cell_type": "markdown",
   "metadata": {},
   "source": [
    "Por fim, criaremos o pão do nosso double cheddar. outro decorator"
   ]
  },
  {
   "cell_type": "code",
   "execution_count": null,
   "metadata": {},
   "outputs": [],
   "source": [
    "def pao(func):\n",
    "    def wrapper():\n",
    "        print(\"</''''''\\>\")\n",
    "        func()\n",
    "        print(\"<\\______/>\")\n",
    "    return wrapper\n",
    "\n",
    "def ingredientes(func):\n",
    "    def wrapper():\n",
    "        print(\"~cebola~\")\n",
    "        print(\"#cheddar#\")\n",
    "        func()\n",
    "        print(\"#cheddar#\")\n",
    "    return wrapper\n",
    "\n",
    "@pao\n",
    "@ingredientes\n",
    "def double_cheddar(ingrediente=\"--carne--\"):\n",
    "    print(ingrediente)\n",
    "    print(ingrediente)\n",
    "\n",
    "double_cheddar()"
   ]
  },
  {
   "cell_type": "markdown",
   "metadata": {},
   "source": [
    "A ordem dos decoratos importa. Portanto, se invertermos o pão e os ingredientes, vamos ter um double cheddar bem estranho."
   ]
  },
  {
   "cell_type": "code",
   "execution_count": null,
   "metadata": {},
   "outputs": [],
   "source": [
    "@ingredientes\n",
    "@pao\n",
    "def double_cheddar_estranho(ingrediente=\"--carne--\"):\n",
    "    print(ingrediente)\n",
    "    print(ingrediente)\n",
    "\n",
    "double_cheddar_estranho()"
   ]
  },
  {
   "cell_type": "markdown",
   "metadata": {},
   "source": [
    "Como eu disse no início. Um decorator é uma função que adiciona coisas em outras funções.\n",
    "\n",
    "Portanto, podemos escrever o double cheddar de outra forma, sem decorators."
   ]
  },
  {
   "cell_type": "code",
   "execution_count": null,
   "metadata": {},
   "outputs": [],
   "source": [
    "# double cheddar com decorators\n",
    "@pao\n",
    "@ingredientes\n",
    "def double_cheddar(ingrediente=\"--carne--\"):\n",
    "    print(ingrediente)\n",
    "    print(ingrediente)\n",
    "\n",
    "double_cheddar()\n",
    "\n",
    "print(\"\\n\")\n",
    "\n",
    "# double cheddar sem decorators\n",
    "_ = pao(ingredientes(double_cheddar()))  # atribuímos ao \"_\" como um símbolo de que estamos recebendo e descartando o retorno porque\n",
    "                                    # o notebook ia imprimir o retorno. Em um script python normal não seria necessário."
   ]
  }
 ],
 "metadata": {
  "kernelspec": {
   "display_name": "Python 3",
   "language": "python",
   "name": "python3"
  },
  "language_info": {
   "codemirror_mode": {
    "name": "ipython",
    "version": 3
   },
   "file_extension": ".py",
   "mimetype": "text/x-python",
   "name": "python",
   "nbconvert_exporter": "python",
   "pygments_lexer": "ipython3",
   "version": "3.11.0"
  },
  "orig_nbformat": 4
 },
 "nbformat": 4,
 "nbformat_minor": 2
}
